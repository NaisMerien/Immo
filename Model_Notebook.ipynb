{
 "cells": [
  {
   "cell_type": "code",
   "execution_count": 45,
   "id": "afaf118b",
   "metadata": {
    "ExecuteTime": {
     "end_time": "2023-01-30T15:10:08.115309Z",
     "start_time": "2023-01-30T15:10:08.103146Z"
    }
   },
   "outputs": [],
   "source": [
    "import pandas as pd\n",
    "import numpy as np\n",
    "import seaborn as sns\n",
    "import matplotlib.pyplot as plt\n",
    "import pickle\n",
    "from sklearn.linear_model import LinearRegression\n",
    "from statsmodels.formula.api import ols\n",
    "import statsmodels.api as sm\n",
    "from sklearn.preprocessing import StandardScaler\n",
    "from sklearn.preprocessing import MinMaxScaler\n",
    "from sklearn.model_selection import train_test_split\n",
    "from sklearn.model_selection import cross_validate\n",
    "from sklearn.model_selection import cross_val_score\n",
    "from sklearn.model_selection import cross_val_predict\n",
    "import plotly.express as px\n",
    "from scipy import stats\n",
    "from scipy.stats import chi2_contingency\n",
    "from sklearn.compose import ColumnTransformer\n",
    "from statsmodels.formula.api import ols\n",
    "import statsmodels.api as sm"
   ]
  },
  {
   "cell_type": "markdown",
   "id": "a95f4986",
   "metadata": {},
   "source": [
    "# First iteration : Baseline"
   ]
  },
  {
   "cell_type": "code",
   "execution_count": 46,
   "id": "993d8739",
   "metadata": {
    "ExecuteTime": {
     "end_time": "2023-01-30T15:10:08.175897Z",
     "start_time": "2023-01-30T15:10:08.124598Z"
    }
   },
   "outputs": [
    {
     "name": "stdout",
     "output_type": "stream",
     "text": [
      "<class 'pandas.core.frame.DataFrame'>\n",
      "RangeIndex: 16512 entries, 0 to 16511\n",
      "Data columns (total 11 columns):\n",
      " #   Column              Non-Null Count  Dtype  \n",
      "---  ------              --------------  -----  \n",
      " 0   Unnamed: 0          16512 non-null  int64  \n",
      " 1   longitude           16512 non-null  float64\n",
      " 2   latitude            16512 non-null  float64\n",
      " 3   housing_median_age  16512 non-null  float64\n",
      " 4   total_rooms         16512 non-null  float64\n",
      " 5   total_bedrooms      16512 non-null  float64\n",
      " 6   population          16512 non-null  float64\n",
      " 7   households          16512 non-null  float64\n",
      " 8   median_income       16512 non-null  float64\n",
      " 9   median_house_value  16512 non-null  float64\n",
      " 10  ocean_proximity     16512 non-null  object \n",
      "dtypes: float64(9), int64(1), object(1)\n",
      "memory usage: 1.4+ MB\n"
     ]
    }
   ],
   "source": [
    "first_it = pd.read_pickle(\"data/first_iteration.pkl\")\n",
    "first_it.info()"
   ]
  },
  {
   "cell_type": "code",
   "execution_count": 47,
   "id": "8b4b7431",
   "metadata": {
    "ExecuteTime": {
     "end_time": "2023-01-30T15:10:08.189952Z",
     "start_time": "2023-01-30T15:10:08.179975Z"
    }
   },
   "outputs": [],
   "source": [
    "# define X, y\n",
    "y = first_it[\"median_house_value\"]\n",
    "X = first_it.drop([\"median_house_value\",\"ocean_proximity\"], axis=1)"
   ]
  },
  {
   "cell_type": "code",
   "execution_count": 48,
   "id": "56966fb3",
   "metadata": {
    "ExecuteTime": {
     "end_time": "2023-01-30T15:10:08.260104Z",
     "start_time": "2023-01-30T15:10:08.200365Z"
    }
   },
   "outputs": [],
   "source": [
    "X_train, X_test, y_train, y_test = train_test_split(X, y, \n",
    "                                                    test_size=.3, \n",
    "                                                    random_state=1)"
   ]
  },
  {
   "cell_type": "code",
   "execution_count": 49,
   "id": "24e0dfdb",
   "metadata": {
    "ExecuteTime": {
     "end_time": "2023-01-30T15:10:08.319366Z",
     "start_time": "2023-01-30T15:10:08.266810Z"
    }
   },
   "outputs": [
    {
     "data": {
      "text/plain": [
       "0.6311871393336708"
      ]
     },
     "execution_count": 49,
     "metadata": {},
     "output_type": "execute_result"
    }
   ],
   "source": [
    "log_model = LinearRegression()\n",
    "\n",
    "log_model.fit(X_train, y_train)\n",
    "\n",
    "# Evaluate the model with the test set\n",
    "log_model.score(X_test, y_test)"
   ]
  },
  {
   "cell_type": "code",
   "execution_count": 50,
   "id": "965984a5",
   "metadata": {
    "ExecuteTime": {
     "end_time": "2023-01-30T15:10:08.766083Z",
     "start_time": "2023-01-30T15:10:08.323306Z"
    }
   },
   "outputs": [
    {
     "data": {
      "text/plain": [
       "0.6348249131619211"
      ]
     },
     "execution_count": 50,
     "metadata": {},
     "output_type": "execute_result"
    }
   ],
   "source": [
    "cv_results = cross_validate(log_model, X, y, cv=5)\n",
    "cv_results[\"test_score\"].mean()"
   ]
  },
  {
   "cell_type": "markdown",
   "id": "0e1257c1",
   "metadata": {},
   "source": [
    "# Second iteration : Outliers"
   ]
  },
  {
   "cell_type": "code",
   "execution_count": 51,
   "id": "712d3283",
   "metadata": {
    "ExecuteTime": {
     "end_time": "2023-01-30T15:10:08.869423Z",
     "start_time": "2023-01-30T15:10:08.771845Z"
    }
   },
   "outputs": [
    {
     "name": "stdout",
     "output_type": "stream",
     "text": [
      "<class 'pandas.core.frame.DataFrame'>\n",
      "Int64Index: 15262 entries, 0 to 16511\n",
      "Data columns (total 11 columns):\n",
      " #   Column              Non-Null Count  Dtype  \n",
      "---  ------              --------------  -----  \n",
      " 0   Unnamed: 0          15262 non-null  int64  \n",
      " 1   longitude           15262 non-null  float64\n",
      " 2   latitude            15262 non-null  float64\n",
      " 3   housing_median_age  15262 non-null  float64\n",
      " 4   total_rooms         15262 non-null  float64\n",
      " 5   total_bedrooms      15262 non-null  float64\n",
      " 6   population          15262 non-null  float64\n",
      " 7   households          15262 non-null  float64\n",
      " 8   median_income       15262 non-null  float64\n",
      " 9   median_house_value  15262 non-null  float64\n",
      " 10  ocean_proximity     15262 non-null  object \n",
      "dtypes: float64(9), int64(1), object(1)\n",
      "memory usage: 1.4+ MB\n"
     ]
    }
   ],
   "source": [
    "second_it = pd.read_pickle(\"data/second_iteration.pkl\")\n",
    "second_it.info()"
   ]
  },
  {
   "cell_type": "code",
   "execution_count": 52,
   "id": "aa275ed0",
   "metadata": {
    "ExecuteTime": {
     "end_time": "2023-01-30T15:10:08.894435Z",
     "start_time": "2023-01-30T15:10:08.876197Z"
    }
   },
   "outputs": [],
   "source": [
    "# define X, y\n",
    "y = second_it[\"median_house_value\"]\n",
    "X = second_it.drop([\"ocean_proximity\",\"median_house_value\"], axis=1)"
   ]
  },
  {
   "cell_type": "code",
   "execution_count": 53,
   "id": "2c829f98",
   "metadata": {
    "ExecuteTime": {
     "end_time": "2023-01-30T15:10:08.930140Z",
     "start_time": "2023-01-30T15:10:08.899135Z"
    }
   },
   "outputs": [],
   "source": [
    "X_train, X_test, y_train, y_test = train_test_split(X, y, \n",
    "                                                    test_size=.3, \n",
    "                                                    random_state=1)"
   ]
  },
  {
   "cell_type": "code",
   "execution_count": 54,
   "id": "95f44bc1",
   "metadata": {
    "ExecuteTime": {
     "end_time": "2023-01-30T15:10:08.997494Z",
     "start_time": "2023-01-30T15:10:08.948318Z"
    }
   },
   "outputs": [
    {
     "data": {
      "text/plain": [
       "0.6076476528019652"
      ]
     },
     "execution_count": 54,
     "metadata": {},
     "output_type": "execute_result"
    }
   ],
   "source": [
    "log_model.fit(X_train, y_train)\n",
    "\n",
    "# Evaluate the model with the test set\n",
    "log_model.score(X_test, y_test)"
   ]
  },
  {
   "cell_type": "code",
   "execution_count": 55,
   "id": "af624295",
   "metadata": {
    "ExecuteTime": {
     "end_time": "2023-01-30T15:10:09.301888Z",
     "start_time": "2023-01-30T15:10:09.016617Z"
    }
   },
   "outputs": [
    {
     "data": {
      "text/plain": [
       "0.6334931888672133"
      ]
     },
     "execution_count": 55,
     "metadata": {},
     "output_type": "execute_result"
    }
   ],
   "source": [
    "cv_results = cross_validate(log_model, X, y, cv=5)\n",
    "cv_results[\"test_score\"].mean()"
   ]
  },
  {
   "cell_type": "markdown",
   "id": "a152037b",
   "metadata": {},
   "source": [
    "# Third iteration : Median imputation"
   ]
  },
  {
   "cell_type": "code",
   "execution_count": 56,
   "id": "c139a5e8",
   "metadata": {
    "ExecuteTime": {
     "end_time": "2023-01-30T15:10:09.405536Z",
     "start_time": "2023-01-30T15:10:09.307255Z"
    }
   },
   "outputs": [
    {
     "name": "stdout",
     "output_type": "stream",
     "text": [
      "<class 'pandas.core.frame.DataFrame'>\n",
      "RangeIndex: 16512 entries, 0 to 16511\n",
      "Data columns (total 11 columns):\n",
      " #   Column              Non-Null Count  Dtype  \n",
      "---  ------              --------------  -----  \n",
      " 0   Unnamed: 0          16512 non-null  int64  \n",
      " 1   longitude           16512 non-null  float64\n",
      " 2   latitude            16512 non-null  float64\n",
      " 3   housing_median_age  16512 non-null  float64\n",
      " 4   total_rooms         16512 non-null  float64\n",
      " 5   total_bedrooms      16512 non-null  float64\n",
      " 6   population          16512 non-null  float64\n",
      " 7   households          16512 non-null  float64\n",
      " 8   median_income       16512 non-null  float64\n",
      " 9   median_house_value  16512 non-null  float64\n",
      " 10  ocean_proximity     16512 non-null  object \n",
      "dtypes: float64(9), int64(1), object(1)\n",
      "memory usage: 1.4+ MB\n"
     ]
    }
   ],
   "source": [
    "third_it = pd.read_pickle(\"data/third_iteration.pkl\")\n",
    "third_it.info()"
   ]
  },
  {
   "cell_type": "code",
   "execution_count": 57,
   "id": "79053c73",
   "metadata": {
    "ExecuteTime": {
     "end_time": "2023-01-30T15:10:09.431573Z",
     "start_time": "2023-01-30T15:10:09.413496Z"
    }
   },
   "outputs": [],
   "source": [
    "# define X, y\n",
    "y = third_it[\"median_house_value\"]\n",
    "X = third_it.drop([\"median_house_value\",\"ocean_proximity\"], axis=1)"
   ]
  },
  {
   "cell_type": "code",
   "execution_count": 58,
   "id": "987b0065",
   "metadata": {
    "ExecuteTime": {
     "end_time": "2023-01-30T15:10:09.480484Z",
     "start_time": "2023-01-30T15:10:09.438322Z"
    }
   },
   "outputs": [],
   "source": [
    "X_train, X_test, y_train, y_test = train_test_split(X, y, \n",
    "                                                    test_size=.3, \n",
    "                                                    random_state=1)"
   ]
  },
  {
   "cell_type": "code",
   "execution_count": 59,
   "id": "b7ff900b",
   "metadata": {
    "ExecuteTime": {
     "end_time": "2023-01-30T15:10:09.526716Z",
     "start_time": "2023-01-30T15:10:09.486469Z"
    }
   },
   "outputs": [
    {
     "data": {
      "text/plain": [
       "0.6322340999259999"
      ]
     },
     "execution_count": 59,
     "metadata": {},
     "output_type": "execute_result"
    }
   ],
   "source": [
    "log_model.fit(X_train, y_train)\n",
    "\n",
    "# Evaluate the model with the test set\n",
    "log_model.score(X_test, y_test)"
   ]
  },
  {
   "cell_type": "code",
   "execution_count": 60,
   "id": "f8b07aec",
   "metadata": {
    "ExecuteTime": {
     "end_time": "2023-01-30T15:10:09.894611Z",
     "start_time": "2023-01-30T15:10:09.542758Z"
    }
   },
   "outputs": [
    {
     "data": {
      "text/plain": [
       "0.6358408199481806"
      ]
     },
     "execution_count": 60,
     "metadata": {},
     "output_type": "execute_result"
    }
   ],
   "source": [
    "cv_results = cross_validate(log_model, X, y, cv=5)\n",
    "cv_results[\"test_score\"].mean()"
   ]
  },
  {
   "cell_type": "markdown",
   "id": "22941f54",
   "metadata": {},
   "source": [
    "# Fourth iteration : Mean imputation"
   ]
  },
  {
   "cell_type": "code",
   "execution_count": 61,
   "id": "921ec1d9",
   "metadata": {
    "ExecuteTime": {
     "end_time": "2023-01-30T15:10:09.965735Z",
     "start_time": "2023-01-30T15:10:09.900224Z"
    }
   },
   "outputs": [],
   "source": [
    "fourth_it = pd.read_pickle(\"data/fourth_iteration.pkl\")"
   ]
  },
  {
   "cell_type": "code",
   "execution_count": 62,
   "id": "125ca70e",
   "metadata": {
    "ExecuteTime": {
     "end_time": "2023-01-30T15:10:10.004906Z",
     "start_time": "2023-01-30T15:10:09.981287Z"
    }
   },
   "outputs": [],
   "source": [
    "# define X, y\n",
    "y = fourth_it[\"median_house_value\"]\n",
    "X = fourth_it.drop([\"median_house_value\",\"ocean_proximity\"], axis=1)"
   ]
  },
  {
   "cell_type": "code",
   "execution_count": 63,
   "id": "41e483cc",
   "metadata": {
    "ExecuteTime": {
     "end_time": "2023-01-30T15:10:10.313855Z",
     "start_time": "2023-01-30T15:10:10.016377Z"
    }
   },
   "outputs": [
    {
     "data": {
      "text/plain": [
       "0.6358408199481806"
      ]
     },
     "execution_count": 63,
     "metadata": {},
     "output_type": "execute_result"
    }
   ],
   "source": [
    "cv_results = cross_validate(log_model, X, y, cv=5)\n",
    "cv_results[\"test_score\"].mean()"
   ]
  },
  {
   "cell_type": "markdown",
   "id": "627efd71",
   "metadata": {},
   "source": [
    "# Fifth iteration : iterative imputation"
   ]
  },
  {
   "cell_type": "code",
   "execution_count": 64,
   "id": "6fa2dec7",
   "metadata": {
    "ExecuteTime": {
     "end_time": "2023-01-30T15:10:10.364261Z",
     "start_time": "2023-01-30T15:10:10.346364Z"
    }
   },
   "outputs": [],
   "source": [
    "fifth_it = pd.read_pickle(\"data/fifth_iteration.pkl\")"
   ]
  },
  {
   "cell_type": "code",
   "execution_count": 65,
   "id": "7c76861c",
   "metadata": {
    "ExecuteTime": {
     "end_time": "2023-01-30T15:10:10.399329Z",
     "start_time": "2023-01-30T15:10:10.380210Z"
    }
   },
   "outputs": [],
   "source": [
    "# define X, y\n",
    "y = fifth_it[\"median_house_value\"]\n",
    "X = fifth_it.drop([\"median_house_value\",\"ocean_proximity\"], axis=1)"
   ]
  },
  {
   "cell_type": "code",
   "execution_count": 66,
   "id": "bd7379be",
   "metadata": {
    "ExecuteTime": {
     "end_time": "2023-01-30T15:10:10.569511Z",
     "start_time": "2023-01-30T15:10:10.405933Z"
    }
   },
   "outputs": [
    {
     "data": {
      "text/plain": [
       "0.6348249131619182"
      ]
     },
     "execution_count": 66,
     "metadata": {},
     "output_type": "execute_result"
    }
   ],
   "source": [
    "cv_results = cross_validate(log_model, X, y, cv=5)\n",
    "cv_results[\"test_score\"].mean()"
   ]
  },
  {
   "cell_type": "markdown",
   "id": "82618883",
   "metadata": {},
   "source": [
    "# Sixth iteration : ocean_proximity encoding"
   ]
  },
  {
   "cell_type": "code",
   "execution_count": 67,
   "id": "82b85c3e",
   "metadata": {
    "ExecuteTime": {
     "end_time": "2023-01-30T15:10:10.597205Z",
     "start_time": "2023-01-30T15:10:10.580209Z"
    }
   },
   "outputs": [],
   "source": [
    "sixth_it = pd.read_pickle(\"data/sixth_iteration.pkl\")"
   ]
  },
  {
   "cell_type": "code",
   "execution_count": 68,
   "id": "c694a346",
   "metadata": {
    "ExecuteTime": {
     "end_time": "2023-01-30T15:10:10.680765Z",
     "start_time": "2023-01-30T15:10:10.603445Z"
    }
   },
   "outputs": [],
   "source": [
    "# define X, y\n",
    "y = sixth_it[\"median_house_value\"]\n",
    "X = sixth_it.drop([\"median_house_value\"], axis=1)"
   ]
  },
  {
   "cell_type": "code",
   "execution_count": 69,
   "id": "c272c8a8",
   "metadata": {
    "ExecuteTime": {
     "end_time": "2023-01-30T15:10:11.051392Z",
     "start_time": "2023-01-30T15:10:10.688091Z"
    }
   },
   "outputs": [
    {
     "data": {
      "text/plain": [
       "0.6464622037671589"
      ]
     },
     "execution_count": 69,
     "metadata": {},
     "output_type": "execute_result"
    }
   ],
   "source": [
    "cv_results = cross_validate(log_model, X, y, cv=5)\n",
    "cv_results[\"test_score\"].mean()"
   ]
  },
  {
   "cell_type": "markdown",
   "id": "f8e5a7eb",
   "metadata": {},
   "source": [
    "# Seventh iteration : normalization"
   ]
  },
  {
   "cell_type": "code",
   "execution_count": 70,
   "id": "fd889272",
   "metadata": {
    "ExecuteTime": {
     "end_time": "2023-01-30T15:10:11.099955Z",
     "start_time": "2023-01-30T15:10:11.068517Z"
    }
   },
   "outputs": [],
   "source": [
    "seventh_it = pd.read_pickle(\"data/seventh_iteration.pkl\")"
   ]
  },
  {
   "cell_type": "code",
   "execution_count": 71,
   "id": "ddfd4d77",
   "metadata": {
    "ExecuteTime": {
     "end_time": "2023-01-30T15:10:11.150321Z",
     "start_time": "2023-01-30T15:10:11.106028Z"
    }
   },
   "outputs": [],
   "source": [
    "# define X, y\n",
    "y = seventh_it[\"median_house_value\"]\n",
    "X = seventh_it.drop([\"median_house_value\"], axis=1)"
   ]
  },
  {
   "cell_type": "code",
   "execution_count": 72,
   "id": "20a22198",
   "metadata": {
    "ExecuteTime": {
     "end_time": "2023-01-30T15:10:11.503081Z",
     "start_time": "2023-01-30T15:10:11.186625Z"
    }
   },
   "outputs": [
    {
     "data": {
      "text/plain": [
       "0.6464622037671547"
      ]
     },
     "execution_count": 72,
     "metadata": {},
     "output_type": "execute_result"
    }
   ],
   "source": [
    "cv_results = cross_validate(log_model, X, y, cv=5)\n",
    "cv_results[\"test_score\"].mean()"
   ]
  },
  {
   "cell_type": "markdown",
   "id": "91ae2cc1",
   "metadata": {},
   "source": []
  }
 ],
 "metadata": {
  "kernelspec": {
   "display_name": "Python 3 (ipykernel)",
   "language": "python",
   "name": "python3"
  },
  "language_info": {
   "codemirror_mode": {
    "name": "ipython",
    "version": 3
   },
   "file_extension": ".py",
   "mimetype": "text/x-python",
   "name": "python",
   "nbconvert_exporter": "python",
   "pygments_lexer": "ipython3",
   "version": "3.8.12"
  },
  "toc": {
   "base_numbering": 1,
   "nav_menu": {},
   "number_sections": true,
   "sideBar": true,
   "skip_h1_title": false,
   "title_cell": "Table of Contents",
   "title_sidebar": "Contents",
   "toc_cell": false,
   "toc_position": {},
   "toc_section_display": true,
   "toc_window_display": false
  },
  "varInspector": {
   "cols": {
    "lenName": 16,
    "lenType": 16,
    "lenVar": 40
   },
   "kernels_config": {
    "python": {
     "delete_cmd_postfix": "",
     "delete_cmd_prefix": "del ",
     "library": "var_list.py",
     "varRefreshCmd": "print(var_dic_list())"
    },
    "r": {
     "delete_cmd_postfix": ") ",
     "delete_cmd_prefix": "rm(",
     "library": "var_list.r",
     "varRefreshCmd": "cat(var_dic_list()) "
    }
   },
   "types_to_exclude": [
    "module",
    "function",
    "builtin_function_or_method",
    "instance",
    "_Feature"
   ],
   "window_display": false
  }
 },
 "nbformat": 4,
 "nbformat_minor": 5
}
