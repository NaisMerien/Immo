{
 "cells": [
  {
   "cell_type": "code",
   "execution_count": 154,
   "id": "afaf118b",
   "metadata": {
    "ExecuteTime": {
     "end_time": "2023-02-01T12:46:37.254964Z",
     "start_time": "2023-02-01T12:46:37.241627Z"
    }
   },
   "outputs": [],
   "source": [
    "import pandas as pd\n",
    "import numpy as np\n",
    "import seaborn as sns\n",
    "import matplotlib.pyplot as plt\n",
    "import pickle\n",
    "from sklearn.linear_model import LinearRegression\n",
    "from statsmodels.formula.api import ols\n",
    "import statsmodels.api as sm\n",
    "from sklearn.model_selection import learning_curve\n",
    "from sklearn.preprocessing import StandardScaler\n",
    "from sklearn.preprocessing import MinMaxScaler\n",
    "from sklearn.model_selection import train_test_split\n",
    "from sklearn.model_selection import cross_validate\n",
    "from sklearn.model_selection import cross_val_score\n",
    "from sklearn.model_selection import cross_val_predict\n",
    "import plotly.express as px\n",
    "from scipy import stats\n",
    "from scipy.stats import chi2_contingency\n",
    "from sklearn.compose import ColumnTransformer\n",
    "from sklearn.feature_selection import SelectKBest, f_classif\n",
    "from sklearn.feature_selection import SelectFromModel\n",
    "from sklearn.ensemble import ExtraTreesClassifier\n",
    "from statsmodels.formula.api import ols\n",
    "import statsmodels.api as sm"
   ]
  },
  {
   "cell_type": "markdown",
   "id": "a95f4986",
   "metadata": {},
   "source": [
    "# First iteration : Baseline"
   ]
  },
  {
   "cell_type": "code",
   "execution_count": 90,
   "id": "993d8739",
   "metadata": {
    "ExecuteTime": {
     "end_time": "2023-02-01T10:56:03.845347Z",
     "start_time": "2023-02-01T10:56:03.803431Z"
    }
   },
   "outputs": [
    {
     "name": "stdout",
     "output_type": "stream",
     "text": [
      "<class 'pandas.core.frame.DataFrame'>\n",
      "RangeIndex: 16512 entries, 0 to 16511\n",
      "Data columns (total 11 columns):\n",
      " #   Column              Non-Null Count  Dtype  \n",
      "---  ------              --------------  -----  \n",
      " 0   Unnamed: 0          16512 non-null  int64  \n",
      " 1   longitude           16512 non-null  float64\n",
      " 2   latitude            16512 non-null  float64\n",
      " 3   housing_median_age  16512 non-null  float64\n",
      " 4   total_rooms         16512 non-null  float64\n",
      " 5   total_bedrooms      16512 non-null  float64\n",
      " 6   population          16512 non-null  float64\n",
      " 7   households          16512 non-null  float64\n",
      " 8   median_income       16512 non-null  float64\n",
      " 9   median_house_value  16512 non-null  float64\n",
      " 10  ocean_proximity     16512 non-null  object \n",
      "dtypes: float64(9), int64(1), object(1)\n",
      "memory usage: 1.4+ MB\n"
     ]
    }
   ],
   "source": [
    "first_it = pd.read_pickle(\"data/first_iteration.pkl\")\n",
    "first_it.info()"
   ]
  },
  {
   "cell_type": "code",
   "execution_count": 91,
   "id": "8b4b7431",
   "metadata": {
    "ExecuteTime": {
     "end_time": "2023-02-01T10:56:03.865162Z",
     "start_time": "2023-02-01T10:56:03.852389Z"
    }
   },
   "outputs": [],
   "source": [
    "# define X, y\n",
    "y = first_it[\"median_house_value\"]\n",
    "X = first_it.drop([\"median_house_value\",\"ocean_proximity\"], axis=1)"
   ]
  },
  {
   "cell_type": "code",
   "execution_count": 92,
   "id": "56966fb3",
   "metadata": {
    "ExecuteTime": {
     "end_time": "2023-02-01T10:56:03.894224Z",
     "start_time": "2023-02-01T10:56:03.875233Z"
    }
   },
   "outputs": [],
   "source": [
    "X_train, X_test, y_train, y_test = train_test_split(X, y, \n",
    "                                                    test_size=.3, \n",
    "                                                    random_state=1)"
   ]
  },
  {
   "cell_type": "code",
   "execution_count": 93,
   "id": "24e0dfdb",
   "metadata": {
    "ExecuteTime": {
     "end_time": "2023-02-01T10:56:03.950195Z",
     "start_time": "2023-02-01T10:56:03.899199Z"
    }
   },
   "outputs": [
    {
     "data": {
      "text/plain": [
       "0.6311871393336708"
      ]
     },
     "execution_count": 93,
     "metadata": {},
     "output_type": "execute_result"
    }
   ],
   "source": [
    "log_model = LinearRegression()\n",
    "\n",
    "log_model.fit(X_train, y_train)\n",
    "\n",
    "# Evaluate the model with the test set\n",
    "log_model.score(X_test, y_test)"
   ]
  },
  {
   "cell_type": "code",
   "execution_count": 94,
   "id": "965984a5",
   "metadata": {
    "ExecuteTime": {
     "end_time": "2023-02-01T10:56:04.267687Z",
     "start_time": "2023-02-01T10:56:03.962778Z"
    }
   },
   "outputs": [
    {
     "data": {
      "text/plain": [
       "0.6348249131619211"
      ]
     },
     "execution_count": 94,
     "metadata": {},
     "output_type": "execute_result"
    }
   ],
   "source": [
    "cv_results = cross_validate(log_model, X, y, cv=5,scoring=('r2', 'neg_root_mean_squared_error','neg_mean_absolute_error'))\n",
    "cv_results[\"test_r2\"].mean()"
   ]
  },
  {
   "cell_type": "code",
   "execution_count": 95,
   "id": "7e1c087f",
   "metadata": {
    "ExecuteTime": {
     "end_time": "2023-02-01T10:56:04.289023Z",
     "start_time": "2023-02-01T10:56:04.275670Z"
    }
   },
   "outputs": [
    {
     "data": {
      "text/plain": [
       "-69612.35723615628"
      ]
     },
     "execution_count": 95,
     "metadata": {},
     "output_type": "execute_result"
    }
   ],
   "source": [
    "cv_results[\"test_neg_root_mean_squared_error\"].mean()"
   ]
  },
  {
   "cell_type": "markdown",
   "id": "0e1257c1",
   "metadata": {},
   "source": [
    "# Second iteration : Outliers"
   ]
  },
  {
   "cell_type": "code",
   "execution_count": 96,
   "id": "712d3283",
   "metadata": {
    "ExecuteTime": {
     "end_time": "2023-02-01T10:56:04.353699Z",
     "start_time": "2023-02-01T10:56:04.299130Z"
    }
   },
   "outputs": [
    {
     "name": "stdout",
     "output_type": "stream",
     "text": [
      "<class 'pandas.core.frame.DataFrame'>\n",
      "Int64Index: 14766 entries, 0 to 16511\n",
      "Data columns (total 11 columns):\n",
      " #   Column              Non-Null Count  Dtype  \n",
      "---  ------              --------------  -----  \n",
      " 0   Unnamed: 0          14766 non-null  int64  \n",
      " 1   longitude           14766 non-null  float64\n",
      " 2   latitude            14766 non-null  float64\n",
      " 3   housing_median_age  14766 non-null  float64\n",
      " 4   total_rooms         14766 non-null  float64\n",
      " 5   total_bedrooms      14766 non-null  float64\n",
      " 6   population          14766 non-null  float64\n",
      " 7   households          14766 non-null  float64\n",
      " 8   median_income       14766 non-null  float64\n",
      " 9   median_house_value  14766 non-null  float64\n",
      " 10  ocean_proximity     14766 non-null  object \n",
      "dtypes: float64(9), int64(1), object(1)\n",
      "memory usage: 1.4+ MB\n"
     ]
    }
   ],
   "source": [
    "second_it = pd.read_pickle(\"data/second_iteration.pkl\")\n",
    "second_it.info()"
   ]
  },
  {
   "cell_type": "code",
   "execution_count": 97,
   "id": "aa275ed0",
   "metadata": {
    "ExecuteTime": {
     "end_time": "2023-02-01T10:56:04.386850Z",
     "start_time": "2023-02-01T10:56:04.376621Z"
    }
   },
   "outputs": [],
   "source": [
    "# define X, y\n",
    "y = second_it[\"median_house_value\"]\n",
    "X = second_it.drop([\"ocean_proximity\",\"median_house_value\"], axis=1)"
   ]
  },
  {
   "cell_type": "code",
   "execution_count": 98,
   "id": "2c829f98",
   "metadata": {
    "ExecuteTime": {
     "end_time": "2023-02-01T10:56:04.417425Z",
     "start_time": "2023-02-01T10:56:04.393643Z"
    }
   },
   "outputs": [],
   "source": [
    "X_train, X_test, y_train, y_test = train_test_split(X, y, \n",
    "                                                    test_size=.3, \n",
    "                                                    random_state=1)"
   ]
  },
  {
   "cell_type": "code",
   "execution_count": 99,
   "id": "95f44bc1",
   "metadata": {
    "ExecuteTime": {
     "end_time": "2023-02-01T10:56:04.466055Z",
     "start_time": "2023-02-01T10:56:04.425837Z"
    }
   },
   "outputs": [
    {
     "data": {
      "text/plain": [
       "0.6312422088575633"
      ]
     },
     "execution_count": 99,
     "metadata": {},
     "output_type": "execute_result"
    }
   ],
   "source": [
    "log_model.fit(X_train, y_train)\n",
    "\n",
    "# Evaluate the model with the test set\n",
    "log_model.score(X_test, y_test)"
   ]
  },
  {
   "cell_type": "code",
   "execution_count": 100,
   "id": "af624295",
   "metadata": {
    "ExecuteTime": {
     "end_time": "2023-02-01T10:56:04.865500Z",
     "start_time": "2023-02-01T10:56:04.480749Z"
    }
   },
   "outputs": [
    {
     "data": {
      "text/plain": [
       "0.6263840393225235"
      ]
     },
     "execution_count": 100,
     "metadata": {},
     "output_type": "execute_result"
    }
   ],
   "source": [
    "cv_results = cross_validate(log_model, X, y, cv=5,scoring=('r2', 'neg_root_mean_squared_error','neg_mean_absolute_error'))\n",
    "cv_results[\"test_r2\"].mean()"
   ]
  },
  {
   "cell_type": "code",
   "execution_count": 101,
   "id": "199ea66a",
   "metadata": {
    "ExecuteTime": {
     "end_time": "2023-02-01T10:56:04.889280Z",
     "start_time": "2023-02-01T10:56:04.870222Z"
    }
   },
   "outputs": [
    {
     "data": {
      "text/plain": [
       "-67061.22859788305"
      ]
     },
     "execution_count": 101,
     "metadata": {},
     "output_type": "execute_result"
    }
   ],
   "source": [
    "cv_results[\"test_neg_root_mean_squared_error\"].mean()"
   ]
  },
  {
   "cell_type": "markdown",
   "id": "a152037b",
   "metadata": {},
   "source": [
    "# Third iteration : Median imputation"
   ]
  },
  {
   "cell_type": "code",
   "execution_count": 102,
   "id": "c139a5e8",
   "metadata": {
    "ExecuteTime": {
     "end_time": "2023-02-01T10:56:04.979667Z",
     "start_time": "2023-02-01T10:56:04.908944Z"
    }
   },
   "outputs": [
    {
     "name": "stdout",
     "output_type": "stream",
     "text": [
      "<class 'pandas.core.frame.DataFrame'>\n",
      "RangeIndex: 16512 entries, 0 to 16511\n",
      "Data columns (total 11 columns):\n",
      " #   Column              Non-Null Count  Dtype  \n",
      "---  ------              --------------  -----  \n",
      " 0   Unnamed: 0          16512 non-null  int64  \n",
      " 1   longitude           16512 non-null  float64\n",
      " 2   latitude            16512 non-null  float64\n",
      " 3   housing_median_age  16512 non-null  float64\n",
      " 4   total_rooms         16512 non-null  float64\n",
      " 5   total_bedrooms      16512 non-null  float64\n",
      " 6   population          16512 non-null  float64\n",
      " 7   households          16512 non-null  float64\n",
      " 8   median_income       16512 non-null  float64\n",
      " 9   median_house_value  16512 non-null  float64\n",
      " 10  ocean_proximity     16512 non-null  object \n",
      "dtypes: float64(9), int64(1), object(1)\n",
      "memory usage: 1.4+ MB\n"
     ]
    }
   ],
   "source": [
    "third_it = pd.read_pickle(\"data/third_iteration.pkl\")\n",
    "third_it.info()"
   ]
  },
  {
   "cell_type": "code",
   "execution_count": 103,
   "id": "79053c73",
   "metadata": {
    "ExecuteTime": {
     "end_time": "2023-02-01T10:56:04.996731Z",
     "start_time": "2023-02-01T10:56:04.984340Z"
    }
   },
   "outputs": [],
   "source": [
    "# define X, y\n",
    "y = third_it[\"median_house_value\"]\n",
    "X = third_it.drop([\"median_house_value\",\"ocean_proximity\"], axis=1)"
   ]
  },
  {
   "cell_type": "code",
   "execution_count": 104,
   "id": "987b0065",
   "metadata": {
    "ExecuteTime": {
     "end_time": "2023-02-01T10:56:05.019396Z",
     "start_time": "2023-02-01T10:56:05.004619Z"
    }
   },
   "outputs": [],
   "source": [
    "X_train, X_test, y_train, y_test = train_test_split(X, y, \n",
    "                                                    test_size=.3, \n",
    "                                                    random_state=1)"
   ]
  },
  {
   "cell_type": "code",
   "execution_count": 105,
   "id": "b7ff900b",
   "metadata": {
    "ExecuteTime": {
     "end_time": "2023-02-01T10:56:05.058504Z",
     "start_time": "2023-02-01T10:56:05.025025Z"
    }
   },
   "outputs": [
    {
     "data": {
      "text/plain": [
       "0.6322340999259999"
      ]
     },
     "execution_count": 105,
     "metadata": {},
     "output_type": "execute_result"
    }
   ],
   "source": [
    "log_model.fit(X_train, y_train)\n",
    "\n",
    "# Evaluate the model with the test set\n",
    "log_model.score(X_test, y_test)"
   ]
  },
  {
   "cell_type": "code",
   "execution_count": 106,
   "id": "f8b07aec",
   "metadata": {
    "ExecuteTime": {
     "end_time": "2023-02-01T10:56:05.315813Z",
     "start_time": "2023-02-01T10:56:05.061951Z"
    }
   },
   "outputs": [
    {
     "data": {
      "text/plain": [
       "0.6358408199481806"
      ]
     },
     "execution_count": 106,
     "metadata": {},
     "output_type": "execute_result"
    }
   ],
   "source": [
    "cv_results = cross_validate(log_model, X, y, cv=5,scoring=('r2', 'neg_root_mean_squared_error','neg_mean_absolute_error'))\n",
    "cv_results[\"test_r2\"].mean()"
   ]
  },
  {
   "cell_type": "code",
   "execution_count": 107,
   "id": "cad3b107",
   "metadata": {
    "ExecuteTime": {
     "end_time": "2023-02-01T10:56:05.370822Z",
     "start_time": "2023-02-01T10:56:05.322031Z"
    }
   },
   "outputs": [
    {
     "data": {
      "text/plain": [
       "-69515.06329978097"
      ]
     },
     "execution_count": 107,
     "metadata": {},
     "output_type": "execute_result"
    }
   ],
   "source": [
    "cv_results[\"test_neg_root_mean_squared_error\"].mean()"
   ]
  },
  {
   "cell_type": "markdown",
   "id": "22941f54",
   "metadata": {},
   "source": [
    "# Fourth iteration : Mean imputation"
   ]
  },
  {
   "cell_type": "code",
   "execution_count": 108,
   "id": "921ec1d9",
   "metadata": {
    "ExecuteTime": {
     "end_time": "2023-02-01T10:56:05.409634Z",
     "start_time": "2023-02-01T10:56:05.394483Z"
    }
   },
   "outputs": [],
   "source": [
    "fourth_it = pd.read_pickle(\"data/fourth_iteration.pkl\")"
   ]
  },
  {
   "cell_type": "code",
   "execution_count": 109,
   "id": "125ca70e",
   "metadata": {
    "ExecuteTime": {
     "end_time": "2023-02-01T10:56:05.432048Z",
     "start_time": "2023-02-01T10:56:05.417906Z"
    }
   },
   "outputs": [],
   "source": [
    "# define X, y\n",
    "y = fourth_it[\"median_house_value\"]\n",
    "X = fourth_it.drop([\"median_house_value\",\"ocean_proximity\"], axis=1)"
   ]
  },
  {
   "cell_type": "code",
   "execution_count": 110,
   "id": "41e483cc",
   "metadata": {
    "ExecuteTime": {
     "end_time": "2023-02-01T10:56:05.650168Z",
     "start_time": "2023-02-01T10:56:05.437646Z"
    }
   },
   "outputs": [
    {
     "data": {
      "text/plain": [
       "0.6358408199481806"
      ]
     },
     "execution_count": 110,
     "metadata": {},
     "output_type": "execute_result"
    }
   ],
   "source": [
    "cv_results = cross_validate(log_model, X, y, cv=5,scoring=('r2', 'neg_root_mean_squared_error','neg_mean_absolute_error'))\n",
    "cv_results[\"test_r2\"].mean()"
   ]
  },
  {
   "cell_type": "code",
   "execution_count": 111,
   "id": "e6b0c3b5",
   "metadata": {
    "ExecuteTime": {
     "end_time": "2023-02-01T10:56:05.676100Z",
     "start_time": "2023-02-01T10:56:05.657566Z"
    }
   },
   "outputs": [
    {
     "data": {
      "text/plain": [
       "-69515.06329978097"
      ]
     },
     "execution_count": 111,
     "metadata": {},
     "output_type": "execute_result"
    }
   ],
   "source": [
    "cv_results[\"test_neg_root_mean_squared_error\"].mean()"
   ]
  },
  {
   "cell_type": "markdown",
   "id": "627efd71",
   "metadata": {},
   "source": [
    "# Fifth iteration : iterative imputation"
   ]
  },
  {
   "cell_type": "code",
   "execution_count": 112,
   "id": "6fa2dec7",
   "metadata": {
    "ExecuteTime": {
     "end_time": "2023-02-01T10:56:05.757869Z",
     "start_time": "2023-02-01T10:56:05.748697Z"
    }
   },
   "outputs": [],
   "source": [
    "fifth_it = pd.read_pickle(\"data/fifth_iteration.pkl\")"
   ]
  },
  {
   "cell_type": "code",
   "execution_count": 113,
   "id": "7c76861c",
   "metadata": {
    "ExecuteTime": {
     "end_time": "2023-02-01T10:56:05.779588Z",
     "start_time": "2023-02-01T10:56:05.764830Z"
    }
   },
   "outputs": [],
   "source": [
    "# define X, y\n",
    "y = fifth_it[\"median_house_value\"]\n",
    "X = fifth_it.drop([\"median_house_value\",\"ocean_proximity\"], axis=1)"
   ]
  },
  {
   "cell_type": "code",
   "execution_count": 114,
   "id": "bd7379be",
   "metadata": {
    "ExecuteTime": {
     "end_time": "2023-02-01T10:56:05.985751Z",
     "start_time": "2023-02-01T10:56:05.784919Z"
    }
   },
   "outputs": [
    {
     "data": {
      "text/plain": [
       "0.6348249131619182"
      ]
     },
     "execution_count": 114,
     "metadata": {},
     "output_type": "execute_result"
    }
   ],
   "source": [
    "cv_results = cross_validate(log_model, X, y, cv=5,scoring=('r2', 'neg_root_mean_squared_error','neg_mean_absolute_error'))\n",
    "cv_results[\"test_r2\"].mean()"
   ]
  },
  {
   "cell_type": "code",
   "execution_count": 115,
   "id": "d38c3903",
   "metadata": {
    "ExecuteTime": {
     "end_time": "2023-02-01T10:56:06.035339Z",
     "start_time": "2023-02-01T10:56:06.015306Z"
    }
   },
   "outputs": [
    {
     "data": {
      "text/plain": [
       "-69612.35723615656"
      ]
     },
     "execution_count": 115,
     "metadata": {},
     "output_type": "execute_result"
    }
   ],
   "source": [
    "cv_results[\"test_neg_root_mean_squared_error\"].mean()"
   ]
  },
  {
   "cell_type": "markdown",
   "id": "82618883",
   "metadata": {},
   "source": [
    "# Sixth iteration : ocean_proximity encoding"
   ]
  },
  {
   "cell_type": "code",
   "execution_count": 116,
   "id": "82b85c3e",
   "metadata": {
    "ExecuteTime": {
     "end_time": "2023-02-01T10:56:06.076491Z",
     "start_time": "2023-02-01T10:56:06.055728Z"
    }
   },
   "outputs": [],
   "source": [
    "sixth_it = pd.read_pickle(\"data/sixth_iteration.pkl\")"
   ]
  },
  {
   "cell_type": "code",
   "execution_count": 117,
   "id": "c694a346",
   "metadata": {
    "ExecuteTime": {
     "end_time": "2023-02-01T10:56:06.094257Z",
     "start_time": "2023-02-01T10:56:06.083066Z"
    }
   },
   "outputs": [],
   "source": [
    "# define X, y\n",
    "y = sixth_it[\"median_house_value\"]\n",
    "X = sixth_it.drop([\"median_house_value\"], axis=1)"
   ]
  },
  {
   "cell_type": "code",
   "execution_count": 118,
   "id": "c272c8a8",
   "metadata": {
    "ExecuteTime": {
     "end_time": "2023-02-01T10:56:06.541173Z",
     "start_time": "2023-02-01T10:56:06.100035Z"
    }
   },
   "outputs": [
    {
     "data": {
      "text/plain": [
       "0.6464622037671589"
      ]
     },
     "execution_count": 118,
     "metadata": {},
     "output_type": "execute_result"
    }
   ],
   "source": [
    "cv_results = cross_validate(log_model, X, y, cv=5,scoring=('r2', 'neg_root_mean_squared_error','neg_mean_absolute_error'))\n",
    "cv_results[\"test_r2\"].mean()"
   ]
  },
  {
   "cell_type": "code",
   "execution_count": 119,
   "id": "7f01a495",
   "metadata": {
    "ExecuteTime": {
     "end_time": "2023-02-01T10:56:06.566881Z",
     "start_time": "2023-02-01T10:56:06.551074Z"
    }
   },
   "outputs": [
    {
     "data": {
      "text/plain": [
       "-68492.0375321315"
      ]
     },
     "execution_count": 119,
     "metadata": {},
     "output_type": "execute_result"
    }
   ],
   "source": [
    "cv_results[\"test_neg_root_mean_squared_error\"].mean()"
   ]
  },
  {
   "cell_type": "markdown",
   "id": "f8e5a7eb",
   "metadata": {},
   "source": [
    "# Seventh iteration : normalization"
   ]
  },
  {
   "cell_type": "code",
   "execution_count": 120,
   "id": "fd889272",
   "metadata": {
    "ExecuteTime": {
     "end_time": "2023-02-01T10:56:06.608557Z",
     "start_time": "2023-02-01T10:56:06.572593Z"
    }
   },
   "outputs": [],
   "source": [
    "seventh_it = pd.read_pickle(\"data/seventh_iteration.pkl\")"
   ]
  },
  {
   "cell_type": "code",
   "execution_count": 121,
   "id": "ddfd4d77",
   "metadata": {
    "ExecuteTime": {
     "end_time": "2023-02-01T10:56:06.630759Z",
     "start_time": "2023-02-01T10:56:06.615320Z"
    }
   },
   "outputs": [],
   "source": [
    "# define X, y\n",
    "y = seventh_it[\"median_house_value\"]\n",
    "X = seventh_it.drop([\"median_house_value\"], axis=1)"
   ]
  },
  {
   "cell_type": "code",
   "execution_count": 122,
   "id": "20a22198",
   "metadata": {
    "ExecuteTime": {
     "end_time": "2023-02-01T10:56:07.111956Z",
     "start_time": "2023-02-01T10:56:06.637272Z"
    }
   },
   "outputs": [
    {
     "data": {
      "text/plain": [
       "0.6464622037671547"
      ]
     },
     "execution_count": 122,
     "metadata": {},
     "output_type": "execute_result"
    }
   ],
   "source": [
    "cv_results = cross_validate(log_model, X, y, cv=5,scoring=('r2', 'neg_root_mean_squared_error','neg_mean_absolute_error'))\n",
    "cv_results[\"test_r2\"].mean()"
   ]
  },
  {
   "cell_type": "code",
   "execution_count": 123,
   "id": "17a4ec13",
   "metadata": {
    "ExecuteTime": {
     "end_time": "2023-02-01T10:56:07.161388Z",
     "start_time": "2023-02-01T10:56:07.149717Z"
    }
   },
   "outputs": [
    {
     "data": {
      "text/plain": [
       "-68492.03753213192"
      ]
     },
     "execution_count": 123,
     "metadata": {},
     "output_type": "execute_result"
    }
   ],
   "source": [
    "cv_results[\"test_neg_root_mean_squared_error\"].mean()"
   ]
  },
  {
   "cell_type": "markdown",
   "id": "7198f969",
   "metadata": {},
   "source": [
    "# Eighth iteration : feature selection"
   ]
  },
  {
   "cell_type": "code",
   "execution_count": 124,
   "id": "0be1e0fc",
   "metadata": {
    "ExecuteTime": {
     "end_time": "2023-02-01T10:56:07.241707Z",
     "start_time": "2023-02-01T10:56:07.170963Z"
    }
   },
   "outputs": [
    {
     "name": "stderr",
     "output_type": "stream",
     "text": [
      "/home/nais/.pyenv/versions/3.8.12/envs/simplon/lib/python3.8/site-packages/sklearn/base.py:443: UserWarning: X has feature names, but SelectFromModel was fitted without feature names\n",
      "  warnings.warn(\n"
     ]
    }
   ],
   "source": [
    "lsvc = log_model.fit(X, y)\n",
    "model = SelectFromModel(lsvc, prefit=True)\n",
    "X_new = model.transform(X)"
   ]
  },
  {
   "cell_type": "code",
   "execution_count": 125,
   "id": "f006f9d2",
   "metadata": {
    "ExecuteTime": {
     "end_time": "2023-02-01T10:56:07.325893Z",
     "start_time": "2023-02-01T10:56:07.246954Z"
    }
   },
   "outputs": [
    {
     "data": {
      "text/html": [
       "<div>\n",
       "<style scoped>\n",
       "    .dataframe tbody tr th:only-of-type {\n",
       "        vertical-align: middle;\n",
       "    }\n",
       "\n",
       "    .dataframe tbody tr th {\n",
       "        vertical-align: top;\n",
       "    }\n",
       "\n",
       "    .dataframe thead th {\n",
       "        text-align: right;\n",
       "    }\n",
       "</style>\n",
       "<table border=\"1\" class=\"dataframe\">\n",
       "  <thead>\n",
       "    <tr style=\"text-align: right;\">\n",
       "      <th></th>\n",
       "      <th>0</th>\n",
       "      <th>1</th>\n",
       "      <th>2</th>\n",
       "      <th>3</th>\n",
       "      <th>4</th>\n",
       "      <th>5</th>\n",
       "    </tr>\n",
       "  </thead>\n",
       "  <tbody>\n",
       "    <tr>\n",
       "      <th>0</th>\n",
       "      <td>-0.137635</td>\n",
       "      <td>0.534564</td>\n",
       "      <td>-0.032827</td>\n",
       "      <td>-1.258403</td>\n",
       "      <td>1.0</td>\n",
       "      <td>0.0</td>\n",
       "    </tr>\n",
       "    <tr>\n",
       "      <th>1</th>\n",
       "      <td>0.879836</td>\n",
       "      <td>-0.909979</td>\n",
       "      <td>-0.494784</td>\n",
       "      <td>1.610623</td>\n",
       "      <td>0.0</td>\n",
       "      <td>0.0</td>\n",
       "    </tr>\n",
       "    <tr>\n",
       "      <th>2</th>\n",
       "      <td>-0.312201</td>\n",
       "      <td>0.455091</td>\n",
       "      <td>-0.435204</td>\n",
       "      <td>-1.220425</td>\n",
       "      <td>1.0</td>\n",
       "      <td>0.0</td>\n",
       "    </tr>\n",
       "    <tr>\n",
       "      <th>3</th>\n",
       "      <td>0.620480</td>\n",
       "      <td>-0.713633</td>\n",
       "      <td>-0.723603</td>\n",
       "      <td>-1.233736</td>\n",
       "      <td>0.0</td>\n",
       "      <td>0.0</td>\n",
       "    </tr>\n",
       "    <tr>\n",
       "      <th>4</th>\n",
       "      <td>-0.830911</td>\n",
       "      <td>1.011403</td>\n",
       "      <td>-0.263373</td>\n",
       "      <td>0.114837</td>\n",
       "      <td>1.0</td>\n",
       "      <td>0.0</td>\n",
       "    </tr>\n",
       "    <tr>\n",
       "      <th>...</th>\n",
       "      <td>...</td>\n",
       "      <td>...</td>\n",
       "      <td>...</td>\n",
       "      <td>...</td>\n",
       "      <td>...</td>\n",
       "      <td>...</td>\n",
       "    </tr>\n",
       "    <tr>\n",
       "      <th>16507</th>\n",
       "      <td>-1.165080</td>\n",
       "      <td>1.852884</td>\n",
       "      <td>-0.595810</td>\n",
       "      <td>-0.423409</td>\n",
       "      <td>1.0</td>\n",
       "      <td>0.0</td>\n",
       "    </tr>\n",
       "    <tr>\n",
       "      <th>16508</th>\n",
       "      <td>-1.339646</td>\n",
       "      <td>1.161000</td>\n",
       "      <td>-0.262510</td>\n",
       "      <td>-0.660681</td>\n",
       "      <td>0.0</td>\n",
       "      <td>0.0</td>\n",
       "    </tr>\n",
       "    <tr>\n",
       "      <th>16509</th>\n",
       "      <td>-0.825923</td>\n",
       "      <td>1.539666</td>\n",
       "      <td>-0.197750</td>\n",
       "      <td>0.333675</td>\n",
       "      <td>1.0</td>\n",
       "      <td>0.0</td>\n",
       "    </tr>\n",
       "    <tr>\n",
       "      <th>16510</th>\n",
       "      <td>0.710257</td>\n",
       "      <td>-0.685584</td>\n",
       "      <td>0.959301</td>\n",
       "      <td>-0.680911</td>\n",
       "      <td>0.0</td>\n",
       "      <td>0.0</td>\n",
       "    </tr>\n",
       "    <tr>\n",
       "      <th>16511</th>\n",
       "      <td>-2.277315</td>\n",
       "      <td>2.418547</td>\n",
       "      <td>-0.151986</td>\n",
       "      <td>-0.853741</td>\n",
       "      <td>0.0</td>\n",
       "      <td>0.0</td>\n",
       "    </tr>\n",
       "  </tbody>\n",
       "</table>\n",
       "<p>16512 rows × 6 columns</p>\n",
       "</div>"
      ],
      "text/plain": [
       "              0         1         2         3    4    5\n",
       "0     -0.137635  0.534564 -0.032827 -1.258403  1.0  0.0\n",
       "1      0.879836 -0.909979 -0.494784  1.610623  0.0  0.0\n",
       "2     -0.312201  0.455091 -0.435204 -1.220425  1.0  0.0\n",
       "3      0.620480 -0.713633 -0.723603 -1.233736  0.0  0.0\n",
       "4     -0.830911  1.011403 -0.263373  0.114837  1.0  0.0\n",
       "...         ...       ...       ...       ...  ...  ...\n",
       "16507 -1.165080  1.852884 -0.595810 -0.423409  1.0  0.0\n",
       "16508 -1.339646  1.161000 -0.262510 -0.660681  0.0  0.0\n",
       "16509 -0.825923  1.539666 -0.197750  0.333675  1.0  0.0\n",
       "16510  0.710257 -0.685584  0.959301 -0.680911  0.0  0.0\n",
       "16511 -2.277315  2.418547 -0.151986 -0.853741  0.0  0.0\n",
       "\n",
       "[16512 rows x 6 columns]"
      ]
     },
     "execution_count": 125,
     "metadata": {},
     "output_type": "execute_result"
    }
   ],
   "source": [
    "PD = pd.DataFrame(X_new)\n",
    "PD"
   ]
  },
  {
   "cell_type": "code",
   "execution_count": 126,
   "id": "c8c0998b",
   "metadata": {
    "ExecuteTime": {
     "end_time": "2023-02-01T10:56:07.529713Z",
     "start_time": "2023-02-01T10:56:07.335078Z"
    }
   },
   "outputs": [
    {
     "data": {
      "text/plain": [
       "0.6027994887662533"
      ]
     },
     "execution_count": 126,
     "metadata": {},
     "output_type": "execute_result"
    }
   ],
   "source": [
    "cv_results = cross_validate(log_model, PD, y, cv=5,scoring=('r2', 'neg_root_mean_squared_error','neg_mean_absolute_error'))\n",
    "cv_results[\"test_r2\"].mean()"
   ]
  },
  {
   "cell_type": "code",
   "execution_count": 127,
   "id": "70160f0d",
   "metadata": {
    "ExecuteTime": {
     "end_time": "2023-02-01T10:56:07.611429Z",
     "start_time": "2023-02-01T10:56:07.562866Z"
    }
   },
   "outputs": [
    {
     "data": {
      "text/plain": [
       "-72601.20456385023"
      ]
     },
     "execution_count": 127,
     "metadata": {},
     "output_type": "execute_result"
    }
   ],
   "source": [
    "cv_results[\"test_neg_root_mean_squared_error\"].mean()"
   ]
  },
  {
   "cell_type": "markdown",
   "id": "fbb63f4d",
   "metadata": {},
   "source": [
    "# Ninth iteration : other feature selection"
   ]
  },
  {
   "cell_type": "code",
   "execution_count": 128,
   "id": "f4380a8f",
   "metadata": {
    "ExecuteTime": {
     "end_time": "2023-02-01T10:56:08.349491Z",
     "start_time": "2023-02-01T10:56:07.621088Z"
    }
   },
   "outputs": [],
   "source": [
    "# Create and fit selector\n",
    "selector = SelectKBest(f_classif, k=8)\n",
    "selector.fit(X, y)\n",
    "# Get columns to keep and create new dataframe with those only\n",
    "cols = selector.get_support(indices=True)\n",
    "features_df_new = seventh_it.iloc[:,cols]"
   ]
  },
  {
   "cell_type": "code",
   "execution_count": 129,
   "id": "021c434b",
   "metadata": {
    "ExecuteTime": {
     "end_time": "2023-02-01T10:56:08.386477Z",
     "start_time": "2023-02-01T10:56:08.354799Z"
    }
   },
   "outputs": [
    {
     "data": {
      "text/html": [
       "<div>\n",
       "<style scoped>\n",
       "    .dataframe tbody tr th:only-of-type {\n",
       "        vertical-align: middle;\n",
       "    }\n",
       "\n",
       "    .dataframe tbody tr th {\n",
       "        vertical-align: top;\n",
       "    }\n",
       "\n",
       "    .dataframe thead th {\n",
       "        text-align: right;\n",
       "    }\n",
       "</style>\n",
       "<table border=\"1\" class=\"dataframe\">\n",
       "  <thead>\n",
       "    <tr style=\"text-align: right;\">\n",
       "      <th></th>\n",
       "      <th>latitude</th>\n",
       "      <th>total_rooms</th>\n",
       "      <th>households</th>\n",
       "      <th>median_income</th>\n",
       "      <th>median_house_value</th>\n",
       "      <th>ocean_proximity_&lt;1H OCEAN</th>\n",
       "      <th>ocean_proximity_ISLAND</th>\n",
       "      <th>ocean_proximity_NEAR BAY</th>\n",
       "    </tr>\n",
       "  </thead>\n",
       "  <tbody>\n",
       "    <tr>\n",
       "      <th>0</th>\n",
       "      <td>0.534564</td>\n",
       "      <td>-0.357368</td>\n",
       "      <td>-0.218173</td>\n",
       "      <td>-1.258403</td>\n",
       "      <td>72000.0</td>\n",
       "      <td>0.0</td>\n",
       "      <td>0.0</td>\n",
       "      <td>0.0</td>\n",
       "    </tr>\n",
       "    <tr>\n",
       "      <th>1</th>\n",
       "      <td>-0.909979</td>\n",
       "      <td>-0.276515</td>\n",
       "      <td>-0.417841</td>\n",
       "      <td>1.610623</td>\n",
       "      <td>274100.0</td>\n",
       "      <td>1.0</td>\n",
       "      <td>0.0</td>\n",
       "      <td>0.0</td>\n",
       "    </tr>\n",
       "    <tr>\n",
       "      <th>2</th>\n",
       "      <td>0.455091</td>\n",
       "      <td>-0.799127</td>\n",
       "      <td>-0.744572</td>\n",
       "      <td>-1.220425</td>\n",
       "      <td>58300.0</td>\n",
       "      <td>0.0</td>\n",
       "      <td>0.0</td>\n",
       "      <td>0.0</td>\n",
       "    </tr>\n",
       "    <tr>\n",
       "      <th>3</th>\n",
       "      <td>-0.713633</td>\n",
       "      <td>-0.913406</td>\n",
       "      <td>-0.710862</td>\n",
       "      <td>-1.233736</td>\n",
       "      <td>200000.0</td>\n",
       "      <td>1.0</td>\n",
       "      <td>0.0</td>\n",
       "      <td>0.0</td>\n",
       "    </tr>\n",
       "    <tr>\n",
       "      <th>4</th>\n",
       "      <td>1.011403</td>\n",
       "      <td>-0.326201</td>\n",
       "      <td>-0.334862</td>\n",
       "      <td>0.114837</td>\n",
       "      <td>117900.0</td>\n",
       "      <td>0.0</td>\n",
       "      <td>0.0</td>\n",
       "      <td>0.0</td>\n",
       "    </tr>\n",
       "    <tr>\n",
       "      <th>...</th>\n",
       "      <td>...</td>\n",
       "      <td>...</td>\n",
       "      <td>...</td>\n",
       "      <td>...</td>\n",
       "      <td>...</td>\n",
       "      <td>...</td>\n",
       "      <td>...</td>\n",
       "      <td>...</td>\n",
       "    </tr>\n",
       "    <tr>\n",
       "      <th>16507</th>\n",
       "      <td>1.852884</td>\n",
       "      <td>-0.532626</td>\n",
       "      <td>-0.651220</td>\n",
       "      <td>-0.423409</td>\n",
       "      <td>93800.0</td>\n",
       "      <td>0.0</td>\n",
       "      <td>0.0</td>\n",
       "      <td>0.0</td>\n",
       "    </tr>\n",
       "    <tr>\n",
       "      <th>16508</th>\n",
       "      <td>1.161000</td>\n",
       "      <td>-0.126100</td>\n",
       "      <td>-0.111856</td>\n",
       "      <td>-0.660681</td>\n",
       "      <td>103100.0</td>\n",
       "      <td>0.0</td>\n",
       "      <td>0.0</td>\n",
       "      <td>1.0</td>\n",
       "    </tr>\n",
       "    <tr>\n",
       "      <th>16509</th>\n",
       "      <td>1.539666</td>\n",
       "      <td>-0.051119</td>\n",
       "      <td>-0.187056</td>\n",
       "      <td>0.333675</td>\n",
       "      <td>192600.0</td>\n",
       "      <td>0.0</td>\n",
       "      <td>0.0</td>\n",
       "      <td>0.0</td>\n",
       "    </tr>\n",
       "    <tr>\n",
       "      <th>16510</th>\n",
       "      <td>-0.685584</td>\n",
       "      <td>0.059547</td>\n",
       "      <td>0.704970</td>\n",
       "      <td>-0.680911</td>\n",
       "      <td>153500.0</td>\n",
       "      <td>1.0</td>\n",
       "      <td>0.0</td>\n",
       "      <td>0.0</td>\n",
       "    </tr>\n",
       "    <tr>\n",
       "      <th>16511</th>\n",
       "      <td>2.418547</td>\n",
       "      <td>-0.222311</td>\n",
       "      <td>-0.210394</td>\n",
       "      <td>-0.853741</td>\n",
       "      <td>81100.0</td>\n",
       "      <td>0.0</td>\n",
       "      <td>0.0</td>\n",
       "      <td>0.0</td>\n",
       "    </tr>\n",
       "  </tbody>\n",
       "</table>\n",
       "<p>16512 rows × 8 columns</p>\n",
       "</div>"
      ],
      "text/plain": [
       "       latitude  total_rooms  households  median_income  median_house_value  \\\n",
       "0      0.534564    -0.357368   -0.218173      -1.258403             72000.0   \n",
       "1     -0.909979    -0.276515   -0.417841       1.610623            274100.0   \n",
       "2      0.455091    -0.799127   -0.744572      -1.220425             58300.0   \n",
       "3     -0.713633    -0.913406   -0.710862      -1.233736            200000.0   \n",
       "4      1.011403    -0.326201   -0.334862       0.114837            117900.0   \n",
       "...         ...          ...         ...            ...                 ...   \n",
       "16507  1.852884    -0.532626   -0.651220      -0.423409             93800.0   \n",
       "16508  1.161000    -0.126100   -0.111856      -0.660681            103100.0   \n",
       "16509  1.539666    -0.051119   -0.187056       0.333675            192600.0   \n",
       "16510 -0.685584     0.059547    0.704970      -0.680911            153500.0   \n",
       "16511  2.418547    -0.222311   -0.210394      -0.853741             81100.0   \n",
       "\n",
       "       ocean_proximity_<1H OCEAN  ocean_proximity_ISLAND  \\\n",
       "0                            0.0                     0.0   \n",
       "1                            1.0                     0.0   \n",
       "2                            0.0                     0.0   \n",
       "3                            1.0                     0.0   \n",
       "4                            0.0                     0.0   \n",
       "...                          ...                     ...   \n",
       "16507                        0.0                     0.0   \n",
       "16508                        0.0                     0.0   \n",
       "16509                        0.0                     0.0   \n",
       "16510                        1.0                     0.0   \n",
       "16511                        0.0                     0.0   \n",
       "\n",
       "       ocean_proximity_NEAR BAY  \n",
       "0                           0.0  \n",
       "1                           0.0  \n",
       "2                           0.0  \n",
       "3                           0.0  \n",
       "4                           0.0  \n",
       "...                         ...  \n",
       "16507                       0.0  \n",
       "16508                       1.0  \n",
       "16509                       0.0  \n",
       "16510                       0.0  \n",
       "16511                       0.0  \n",
       "\n",
       "[16512 rows x 8 columns]"
      ]
     },
     "execution_count": 129,
     "metadata": {},
     "output_type": "execute_result"
    }
   ],
   "source": [
    "features_df_new"
   ]
  },
  {
   "cell_type": "code",
   "execution_count": 130,
   "id": "707e071e",
   "metadata": {
    "ExecuteTime": {
     "end_time": "2023-02-01T10:56:08.402507Z",
     "start_time": "2023-02-01T10:56:08.393746Z"
    }
   },
   "outputs": [],
   "source": [
    "# define X, y\n",
    "y = features_df_new[\"median_house_value\"]\n",
    "X = features_df_new.drop([\"median_house_value\"], axis=1)"
   ]
  },
  {
   "cell_type": "code",
   "execution_count": 131,
   "id": "6b8880fa",
   "metadata": {
    "ExecuteTime": {
     "end_time": "2023-02-01T10:56:08.618955Z",
     "start_time": "2023-02-01T10:56:08.407560Z"
    }
   },
   "outputs": [
    {
     "data": {
      "text/plain": [
       "0.5460456407922691"
      ]
     },
     "execution_count": 131,
     "metadata": {},
     "output_type": "execute_result"
    }
   ],
   "source": [
    "cv_results = cross_validate(log_model, X, y, cv=5,scoring=('r2', 'neg_root_mean_squared_error','neg_mean_absolute_error'))\n",
    "cv_results[\"test_r2\"].mean()"
   ]
  },
  {
   "cell_type": "code",
   "execution_count": 132,
   "id": "8292e579",
   "metadata": {
    "ExecuteTime": {
     "end_time": "2023-02-01T10:56:08.675387Z",
     "start_time": "2023-02-01T10:56:08.629008Z"
    }
   },
   "outputs": [
    {
     "data": {
      "text/plain": [
       "-77609.6325148884"
      ]
     },
     "execution_count": 132,
     "metadata": {},
     "output_type": "execute_result"
    }
   ],
   "source": [
    "cv_results[\"test_neg_root_mean_squared_error\"].mean()"
   ]
  },
  {
   "cell_type": "markdown",
   "id": "b2864088",
   "metadata": {},
   "source": [
    "# Tenth iteration : Tree classifier feature selection"
   ]
  },
  {
   "cell_type": "code",
   "execution_count": 133,
   "id": "c66b13e8",
   "metadata": {
    "ExecuteTime": {
     "end_time": "2023-02-01T10:56:08.748915Z",
     "start_time": "2023-02-01T10:56:08.681628Z"
    }
   },
   "outputs": [],
   "source": [
    "data = seventh_it\n",
    "X = data.drop([\"median_house_value\"], axis=1)\n",
    "y = data[\"median_house_value\"]"
   ]
  },
  {
   "cell_type": "markdown",
   "id": "219bba2a",
   "metadata": {},
   "source": [
    "Tree selection"
   ]
  },
  {
   "cell_type": "code",
   "execution_count": 134,
   "id": "643233a6",
   "metadata": {
    "ExecuteTime": {
     "end_time": "2023-02-01T10:56:09.848489Z",
     "start_time": "2023-02-01T10:56:08.754343Z"
    }
   },
   "outputs": [
    {
     "data": {
      "text/html": [
       "<style>#sk-container-id-3 {color: black;background-color: white;}#sk-container-id-3 pre{padding: 0;}#sk-container-id-3 div.sk-toggleable {background-color: white;}#sk-container-id-3 label.sk-toggleable__label {cursor: pointer;display: block;width: 100%;margin-bottom: 0;padding: 0.3em;box-sizing: border-box;text-align: center;}#sk-container-id-3 label.sk-toggleable__label-arrow:before {content: \"▸\";float: left;margin-right: 0.25em;color: #696969;}#sk-container-id-3 label.sk-toggleable__label-arrow:hover:before {color: black;}#sk-container-id-3 div.sk-estimator:hover label.sk-toggleable__label-arrow:before {color: black;}#sk-container-id-3 div.sk-toggleable__content {max-height: 0;max-width: 0;overflow: hidden;text-align: left;background-color: #f0f8ff;}#sk-container-id-3 div.sk-toggleable__content pre {margin: 0.2em;color: black;border-radius: 0.25em;background-color: #f0f8ff;}#sk-container-id-3 input.sk-toggleable__control:checked~div.sk-toggleable__content {max-height: 200px;max-width: 100%;overflow: auto;}#sk-container-id-3 input.sk-toggleable__control:checked~label.sk-toggleable__label-arrow:before {content: \"▾\";}#sk-container-id-3 div.sk-estimator input.sk-toggleable__control:checked~label.sk-toggleable__label {background-color: #d4ebff;}#sk-container-id-3 div.sk-label input.sk-toggleable__control:checked~label.sk-toggleable__label {background-color: #d4ebff;}#sk-container-id-3 input.sk-hidden--visually {border: 0;clip: rect(1px 1px 1px 1px);clip: rect(1px, 1px, 1px, 1px);height: 1px;margin: -1px;overflow: hidden;padding: 0;position: absolute;width: 1px;}#sk-container-id-3 div.sk-estimator {font-family: monospace;background-color: #f0f8ff;border: 1px dotted black;border-radius: 0.25em;box-sizing: border-box;margin-bottom: 0.5em;}#sk-container-id-3 div.sk-estimator:hover {background-color: #d4ebff;}#sk-container-id-3 div.sk-parallel-item::after {content: \"\";width: 100%;border-bottom: 1px solid gray;flex-grow: 1;}#sk-container-id-3 div.sk-label:hover label.sk-toggleable__label {background-color: #d4ebff;}#sk-container-id-3 div.sk-serial::before {content: \"\";position: absolute;border-left: 1px solid gray;box-sizing: border-box;top: 0;bottom: 0;left: 50%;z-index: 0;}#sk-container-id-3 div.sk-serial {display: flex;flex-direction: column;align-items: center;background-color: white;padding-right: 0.2em;padding-left: 0.2em;position: relative;}#sk-container-id-3 div.sk-item {position: relative;z-index: 1;}#sk-container-id-3 div.sk-parallel {display: flex;align-items: stretch;justify-content: center;background-color: white;position: relative;}#sk-container-id-3 div.sk-item::before, #sk-container-id-3 div.sk-parallel-item::before {content: \"\";position: absolute;border-left: 1px solid gray;box-sizing: border-box;top: 0;bottom: 0;left: 50%;z-index: -1;}#sk-container-id-3 div.sk-parallel-item {display: flex;flex-direction: column;z-index: 1;position: relative;background-color: white;}#sk-container-id-3 div.sk-parallel-item:first-child::after {align-self: flex-end;width: 50%;}#sk-container-id-3 div.sk-parallel-item:last-child::after {align-self: flex-start;width: 50%;}#sk-container-id-3 div.sk-parallel-item:only-child::after {width: 0;}#sk-container-id-3 div.sk-dashed-wrapped {border: 1px dashed gray;margin: 0 0.4em 0.5em 0.4em;box-sizing: border-box;padding-bottom: 0.4em;background-color: white;}#sk-container-id-3 div.sk-label label {font-family: monospace;font-weight: bold;display: inline-block;line-height: 1.2em;}#sk-container-id-3 div.sk-label-container {text-align: center;}#sk-container-id-3 div.sk-container {/* jupyter's `normalize.less` sets `[hidden] { display: none; }` but bootstrap.min.css set `[hidden] { display: none !important; }` so we also need the `!important` here to be able to override the default hidden behavior on the sphinx rendered scikit-learn.org. See: https://github.com/scikit-learn/scikit-learn/issues/21755 */display: inline-block !important;position: relative;}#sk-container-id-3 div.sk-text-repr-fallback {display: none;}</style><div id=\"sk-container-id-3\" class=\"sk-top-container\"><div class=\"sk-text-repr-fallback\"><pre>ExtraTreesClassifier(max_depth=5)</pre><b>In a Jupyter environment, please rerun this cell to show the HTML representation or trust the notebook. <br />On GitHub, the HTML representation is unable to render, please try loading this page with nbviewer.org.</b></div><div class=\"sk-container\" hidden><div class=\"sk-item\"><div class=\"sk-estimator sk-toggleable\"><input class=\"sk-toggleable__control sk-hidden--visually\" id=\"sk-estimator-id-3\" type=\"checkbox\" checked><label for=\"sk-estimator-id-3\" class=\"sk-toggleable__label sk-toggleable__label-arrow\">ExtraTreesClassifier</label><div class=\"sk-toggleable__content\"><pre>ExtraTreesClassifier(max_depth=5)</pre></div></div></div></div></div>"
      ],
      "text/plain": [
       "ExtraTreesClassifier(max_depth=5)"
      ]
     },
     "execution_count": 134,
     "metadata": {},
     "output_type": "execute_result"
    }
   ],
   "source": [
    "model = ExtraTreesClassifier(max_depth=5)\n",
    "model.fit(X,y)"
   ]
  },
  {
   "cell_type": "code",
   "execution_count": 135,
   "id": "a4a537ef",
   "metadata": {
    "ExecuteTime": {
     "end_time": "2023-02-01T10:56:10.231206Z",
     "start_time": "2023-02-01T10:56:09.854631Z"
    }
   },
   "outputs": [
    {
     "data": {
      "image/png": "[encoded data removed]",
      "text/plain": [
       "<Figure size 640x480 with 1 Axes>"
      ]
     },
     "metadata": {},
     "output_type": "display_data"
    }
   ],
   "source": [
    "feat_importances = pd.Series(model.feature_importances_, index=X.columns)\n",
    "feat_importances.nlargest(10).plot(kind='barh')\n",
    "plt.show()"
   ]
  },
  {
   "cell_type": "markdown",
   "id": "54311df2",
   "metadata": {},
   "source": [
    "# Eleventh iteration : first feature engineering"
   ]
  },
  {
   "cell_type": "code",
   "execution_count": 136,
   "id": "039afa92",
   "metadata": {
    "ExecuteTime": {
     "end_time": "2023-02-01T11:15:56.305117Z",
     "start_time": "2023-02-01T11:15:56.297593Z"
    }
   },
   "outputs": [],
   "source": [
    "eleventh_it = pd.read_pickle(\"data/eleventh_iteration.pkl\")"
   ]
  },
  {
   "cell_type": "code",
   "execution_count": 137,
   "id": "4b024158",
   "metadata": {
    "ExecuteTime": {
     "end_time": "2023-02-01T11:16:25.115024Z",
     "start_time": "2023-02-01T11:16:25.102812Z"
    }
   },
   "outputs": [],
   "source": [
    "# define X, y\n",
    "y = eleventh_it[\"median_house_value\"]\n",
    "X = eleventh_it.drop([\"median_house_value\"], axis=1)"
   ]
  },
  {
   "cell_type": "code",
   "execution_count": 138,
   "id": "5417f6dc",
   "metadata": {
    "ExecuteTime": {
     "end_time": "2023-02-01T11:16:46.810944Z",
     "start_time": "2023-02-01T11:16:46.536412Z"
    }
   },
   "outputs": [
    {
     "data": {
      "text/plain": [
       "0.6464624700137156"
      ]
     },
     "execution_count": 138,
     "metadata": {},
     "output_type": "execute_result"
    }
   ],
   "source": [
    "cv_results = cross_validate(log_model, X, y, cv=5,scoring=('r2', 'neg_root_mean_squared_error','neg_mean_absolute_error'))\n",
    "cv_results[\"test_r2\"].mean()"
   ]
  },
  {
   "cell_type": "code",
   "execution_count": 139,
   "id": "007ed238",
   "metadata": {
    "ExecuteTime": {
     "end_time": "2023-02-01T11:16:49.473594Z",
     "start_time": "2023-02-01T11:16:49.463972Z"
    }
   },
   "outputs": [
    {
     "data": {
      "text/plain": [
       "-68492.01029533715"
      ]
     },
     "execution_count": 139,
     "metadata": {},
     "output_type": "execute_result"
    }
   ],
   "source": [
    "cv_results[\"test_neg_root_mean_squared_error\"].mean()"
   ]
  },
  {
   "cell_type": "markdown",
   "id": "387e911e",
   "metadata": {},
   "source": [
    "# Twelfth iteration : second feature engineering"
   ]
  },
  {
   "cell_type": "code",
   "execution_count": 140,
   "id": "5c9d9cc2",
   "metadata": {
    "ExecuteTime": {
     "end_time": "2023-02-01T11:25:30.475569Z",
     "start_time": "2023-02-01T11:25:30.466828Z"
    }
   },
   "outputs": [],
   "source": [
    "twelfth_it = pd.read_pickle(\"data/twelfth_iteration.pkl\")"
   ]
  },
  {
   "cell_type": "code",
   "execution_count": 141,
   "id": "922e2068",
   "metadata": {
    "ExecuteTime": {
     "end_time": "2023-02-01T11:25:31.867737Z",
     "start_time": "2023-02-01T11:25:31.859924Z"
    }
   },
   "outputs": [],
   "source": [
    "# define X, y\n",
    "y = twelfth_it[\"median_house_value\"]\n",
    "X = twelfth_it.drop([\"median_house_value\"], axis=1)"
   ]
  },
  {
   "cell_type": "code",
   "execution_count": 142,
   "id": "0ac334c5",
   "metadata": {
    "ExecuteTime": {
     "end_time": "2023-02-01T11:25:33.528410Z",
     "start_time": "2023-02-01T11:25:33.201777Z"
    }
   },
   "outputs": [
    {
     "data": {
      "text/plain": [
       "0.6464514607195984"
      ]
     },
     "execution_count": 142,
     "metadata": {},
     "output_type": "execute_result"
    }
   ],
   "source": [
    "cv_results = cross_validate(log_model, X, y, cv=5,scoring=('r2', 'neg_root_mean_squared_error','neg_mean_absolute_error'))\n",
    "cv_results[\"test_r2\"].mean()"
   ]
  },
  {
   "cell_type": "code",
   "execution_count": 143,
   "id": "e3862e88",
   "metadata": {
    "ExecuteTime": {
     "end_time": "2023-02-01T11:25:34.729791Z",
     "start_time": "2023-02-01T11:25:34.718926Z"
    }
   },
   "outputs": [
    {
     "data": {
      "text/plain": [
       "-68493.07021365289"
      ]
     },
     "execution_count": 143,
     "metadata": {},
     "output_type": "execute_result"
    }
   ],
   "source": [
    "cv_results[\"test_neg_root_mean_squared_error\"].mean()"
   ]
  },
  {
   "cell_type": "markdown",
   "id": "15afed9a",
   "metadata": {},
   "source": [
    "# Thirteenth iteration : third feature engineering"
   ]
  },
  {
   "cell_type": "code",
   "execution_count": 144,
   "id": "9c6b510a",
   "metadata": {
    "ExecuteTime": {
     "end_time": "2023-02-01T11:26:25.468150Z",
     "start_time": "2023-02-01T11:26:25.460674Z"
    }
   },
   "outputs": [],
   "source": [
    "thirteen_it = pd.read_pickle(\"data/thirteenth_iteration.pkl\")"
   ]
  },
  {
   "cell_type": "code",
   "execution_count": 145,
   "id": "8050a584",
   "metadata": {
    "ExecuteTime": {
     "end_time": "2023-02-01T11:26:26.724575Z",
     "start_time": "2023-02-01T11:26:26.716834Z"
    }
   },
   "outputs": [],
   "source": [
    "# define X, y\n",
    "y = thirteen_it[\"median_house_value\"]\n",
    "X = thirteen_it.drop([\"median_house_value\"], axis=1)"
   ]
  },
  {
   "cell_type": "code",
   "execution_count": 146,
   "id": "0814050a",
   "metadata": {
    "ExecuteTime": {
     "end_time": "2023-02-01T11:26:28.541940Z",
     "start_time": "2023-02-01T11:26:28.256929Z"
    }
   },
   "outputs": [
    {
     "data": {
      "text/plain": [
       "0.6464514607195974"
      ]
     },
     "execution_count": 146,
     "metadata": {},
     "output_type": "execute_result"
    }
   ],
   "source": [
    "cv_results = cross_validate(log_model, X, y, cv=5,scoring=('r2', 'neg_root_mean_squared_error','neg_mean_absolute_error'))\n",
    "cv_results[\"test_r2\"].mean()"
   ]
  },
  {
   "cell_type": "code",
   "execution_count": 147,
   "id": "570cbeb0",
   "metadata": {
    "ExecuteTime": {
     "end_time": "2023-02-01T11:26:29.895617Z",
     "start_time": "2023-02-01T11:26:29.887189Z"
    }
   },
   "outputs": [
    {
     "data": {
      "text/plain": [
       "-68493.070213653"
      ]
     },
     "execution_count": 147,
     "metadata": {},
     "output_type": "execute_result"
    }
   ],
   "source": [
    "cv_results[\"test_neg_root_mean_squared_error\"].mean()"
   ]
  },
  {
   "cell_type": "markdown",
   "id": "eaed35bd",
   "metadata": {},
   "source": [
    "# Model evaluation"
   ]
  },
  {
   "cell_type": "code",
   "execution_count": 149,
   "id": "880643cb",
   "metadata": {
    "ExecuteTime": {
     "end_time": "2023-02-01T12:37:41.836015Z",
     "start_time": "2023-02-01T12:37:41.365385Z"
    }
   },
   "outputs": [],
   "source": [
    "train_sizes, train_scores, test_scores = learning_curve(\n",
    "    estimator = log_model,\n",
    "    X=X,y=y, \n",
    "    cv = 5, \n",
    "    scoring = \"neg_root_mean_squared_error\",\n",
    "    train_sizes = [1,75,165,270,331])"
   ]
  },
  {
   "cell_type": "code",
   "execution_count": 151,
   "id": "4bb56136",
   "metadata": {
    "ExecuteTime": {
     "end_time": "2023-02-01T12:38:39.897538Z",
     "start_time": "2023-02-01T12:38:39.889444Z"
    }
   },
   "outputs": [],
   "source": [
    "train_mean = -train_scores.mean(axis=1)\n",
    "test_mean = -test_scores.mean(axis=1)"
   ]
  },
  {
   "cell_type": "code",
   "execution_count": 153,
   "id": "e12b24c9",
   "metadata": {
    "ExecuteTime": {
     "end_time": "2023-02-01T12:41:09.962771Z",
     "start_time": "2023-02-01T12:41:09.700691Z"
    }
   },
   "outputs": [
    {
     "data": {
      "image/png": "[encoded data removed]",
      "text/plain": [
       "<Figure size 1000x800 with 1 Axes>"
      ]
     },
     "metadata": {},
     "output_type": "display_data"
    }
   ],
   "source": [
    "plt.subplots(figsize=(10,8))\n",
    "plt.plot(train_sizes,train_mean,label=\"train\")\n",
    "plt.plot(train_sizes,test_mean,label=\"validation\")\n",
    "plt.title(\"Learning Curve\")\n",
    "plt.xlabel(\"Training Set Size\")\n",
    "plt.ylabel(\"RMSE\")\n",
    "plt.legend(loc=\"best\")\n",
    "plt.show()"
   ]
  },
  {
   "cell_type": "markdown",
   "id": "91ae2cc1",
   "metadata": {},
   "source": []
  }
 ],
 "metadata": {
  "kernelspec": {
   "display_name": "Python 3 (ipykernel)",
   "language": "python",
   "name": "python3"
  },
  "language_info": {
   "codemirror_mode": {
    "name": "ipython",
    "version": 3
   },
   "file_extension": ".py",
   "mimetype": "text/x-python",
   "name": "python",
   "nbconvert_exporter": "python",
   "pygments_lexer": "ipython3",
   "version": "3.8.12"
  },
  "toc": {
   "base_numbering": 1,
   "nav_menu": {},
   "number_sections": true,
   "sideBar": true,
   "skip_h1_title": false,
   "title_cell": "Table of Contents",
   "title_sidebar": "Contents",
   "toc_cell": false,
   "toc_position": {
    "height": "calc(100% - 180px)",
    "left": "10px",
    "top": "150px",
    "width": "153.6px"
   },
   "toc_section_display": true,
   "toc_window_display": true
  },
  "varInspector": {
   "cols": {
    "lenName": 16,
    "lenType": 16,
    "lenVar": 40
   },
   "kernels_config": {
    "python": {
     "delete_cmd_postfix": "",
     "delete_cmd_prefix": "del ",
     "library": "var_list.py",
     "varRefreshCmd": "print(var_dic_list())"
    },
    "r": {
     "delete_cmd_postfix": ") ",
     "delete_cmd_prefix": "rm(",
     "library": "var_list.r",
     "varRefreshCmd": "cat(var_dic_list()) "
    }
   },
   "types_to_exclude": [
    "module",
    "function",
    "builtin_function_or_method",
    "instance",
    "_Feature"
   ],
   "window_display": false
  }
 },
 "nbformat": 4,
 "nbformat_minor": 5
}
