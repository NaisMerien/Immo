{
 "cells": [
  {
   "cell_type": "code",
   "execution_count": 74,
   "id": "afaf118b",
   "metadata": {
    "ExecuteTime": {
     "end_time": "2023-01-25T11:19:10.533428Z",
     "start_time": "2023-01-25T11:19:10.523085Z"
    }
   },
   "outputs": [],
   "source": [
    "import pandas as pd\n",
    "import numpy as np\n",
    "import seaborn as sns\n",
    "import matplotlib.pyplot as plt\n",
    "import pickle\n",
    "from sklearn.linear_model import LinearRegression\n",
    "from statsmodels.formula.api import ols\n",
    "import statsmodels.api as sm\n",
    "from sklearn.preprocessing import StandardScaler\n",
    "from sklearn.preprocessing import MinMaxScaler\n",
    "from sklearn.model_selection import train_test_split\n",
    "from sklearn.model_selection import cross_validate\n",
    "from sklearn.model_selection import cross_val_score\n",
    "from sklearn.model_selection import cross_val_predict\n",
    "import plotly.express as px\n",
    "from scipy import stats\n",
    "from scipy.stats import chi2_contingency\n",
    "from sklearn.compose import ColumnTransformer\n",
    "from statsmodels.formula.api import ols\n",
    "import statsmodels.api as sm"
   ]
  },
  {
   "cell_type": "markdown",
   "id": "a95f4986",
   "metadata": {},
   "source": [
    "# First iteration"
   ]
  },
  {
   "cell_type": "code",
   "execution_count": 75,
   "id": "993d8739",
   "metadata": {
    "ExecuteTime": {
     "end_time": "2023-01-25T11:19:10.581768Z",
     "start_time": "2023-01-25T11:19:10.541390Z"
    }
   },
   "outputs": [
    {
     "name": "stdout",
     "output_type": "stream",
     "text": [
      "<class 'pandas.core.frame.DataFrame'>\n",
      "RangeIndex: 16512 entries, 0 to 16511\n",
      "Data columns (total 11 columns):\n",
      " #   Column              Non-Null Count  Dtype  \n",
      "---  ------              --------------  -----  \n",
      " 0   Unnamed: 0          16512 non-null  int64  \n",
      " 1   longitude           16512 non-null  float64\n",
      " 2   latitude            16512 non-null  float64\n",
      " 3   housing_median_age  16512 non-null  float64\n",
      " 4   total_rooms         16512 non-null  float64\n",
      " 5   total_bedrooms      16512 non-null  float64\n",
      " 6   population          16512 non-null  float64\n",
      " 7   households          16512 non-null  float64\n",
      " 8   median_income       16512 non-null  float64\n",
      " 9   median_house_value  16512 non-null  float64\n",
      " 10  ocean_proximity     16512 non-null  object \n",
      "dtypes: float64(9), int64(1), object(1)\n",
      "memory usage: 1.4+ MB\n"
     ]
    }
   ],
   "source": [
    "first_it = pd.read_pickle(\"data/first_iteration.pkl\")\n",
    "first_it.info()"
   ]
  },
  {
   "cell_type": "code",
   "execution_count": 76,
   "id": "8b4b7431",
   "metadata": {
    "ExecuteTime": {
     "end_time": "2023-01-25T11:19:10.598843Z",
     "start_time": "2023-01-25T11:19:10.588455Z"
    }
   },
   "outputs": [],
   "source": [
    "# define X, y\n",
    "y = first_it[\"median_house_value\"]\n",
    "X = first_it.drop([\"median_house_value\",\"ocean_proximity\"], axis=1)"
   ]
  },
  {
   "cell_type": "code",
   "execution_count": 77,
   "id": "56966fb3",
   "metadata": {
    "ExecuteTime": {
     "end_time": "2023-01-25T11:19:10.627388Z",
     "start_time": "2023-01-25T11:19:10.609165Z"
    }
   },
   "outputs": [],
   "source": [
    "X_train, X_test, y_train, y_test = train_test_split(X, y, \n",
    "                                                    test_size=.3, \n",
    "                                                    random_state=1)"
   ]
  },
  {
   "cell_type": "code",
   "execution_count": 78,
   "id": "24e0dfdb",
   "metadata": {
    "ExecuteTime": {
     "end_time": "2023-01-25T11:19:10.675566Z",
     "start_time": "2023-01-25T11:19:10.633630Z"
    }
   },
   "outputs": [
    {
     "data": {
      "text/plain": [
       "0.6311871393336708"
      ]
     },
     "execution_count": 78,
     "metadata": {},
     "output_type": "execute_result"
    }
   ],
   "source": [
    "log_model = LinearRegression()\n",
    "\n",
    "log_model.fit(X_train, y_train)\n",
    "\n",
    "# Evaluate the model with the test set\n",
    "log_model.score(X_test, y_test)"
   ]
  },
  {
   "cell_type": "code",
   "execution_count": 79,
   "id": "965984a5",
   "metadata": {
    "ExecuteTime": {
     "end_time": "2023-01-25T11:19:11.064907Z",
     "start_time": "2023-01-25T11:19:10.689547Z"
    }
   },
   "outputs": [
    {
     "data": {
      "text/plain": [
       "0.6348249131619211"
      ]
     },
     "execution_count": 79,
     "metadata": {},
     "output_type": "execute_result"
    }
   ],
   "source": [
    "cv_results = cross_validate(log_model, X, y, cv=5)\n",
    "cv_results[\"test_score\"].mean()"
   ]
  },
  {
   "cell_type": "markdown",
   "id": "0e1257c1",
   "metadata": {},
   "source": [
    "# Second iteration"
   ]
  },
  {
   "cell_type": "code",
   "execution_count": 80,
   "id": "712d3283",
   "metadata": {
    "ExecuteTime": {
     "end_time": "2023-01-25T11:19:11.184580Z",
     "start_time": "2023-01-25T11:19:11.140906Z"
    }
   },
   "outputs": [
    {
     "name": "stdout",
     "output_type": "stream",
     "text": [
      "<class 'pandas.core.frame.DataFrame'>\n",
      "RangeIndex: 16512 entries, 0 to 16511\n",
      "Data columns (total 11 columns):\n",
      " #   Column              Non-Null Count  Dtype  \n",
      "---  ------              --------------  -----  \n",
      " 0   Unnamed: 0          16512 non-null  float64\n",
      " 1   longitude           16512 non-null  float64\n",
      " 2   latitude            16512 non-null  float64\n",
      " 3   housing_median_age  16512 non-null  float64\n",
      " 4   total_rooms         16512 non-null  float64\n",
      " 5   total_bedrooms      16512 non-null  float64\n",
      " 6   population          16512 non-null  float64\n",
      " 7   households          16512 non-null  float64\n",
      " 8   median_income       16512 non-null  float64\n",
      " 9   median_house_value  16512 non-null  float64\n",
      " 10  ocean_proximity     16512 non-null  object \n",
      "dtypes: float64(10), object(1)\n",
      "memory usage: 1.4+ MB\n"
     ]
    }
   ],
   "source": [
    "second_it = pd.read_pickle(\"data/second_iteration.pkl\")\n",
    "second_it.info()"
   ]
  },
  {
   "cell_type": "code",
   "execution_count": 81,
   "id": "aa275ed0",
   "metadata": {
    "ExecuteTime": {
     "end_time": "2023-01-25T11:19:11.200548Z",
     "start_time": "2023-01-25T11:19:11.191759Z"
    }
   },
   "outputs": [],
   "source": [
    "# define X, y\n",
    "y = second_it[\"median_house_value\"]\n",
    "X = second_it.drop([\"median_house_value\",\"ocean_proximity\"], axis=1)"
   ]
  },
  {
   "cell_type": "code",
   "execution_count": 82,
   "id": "2c829f98",
   "metadata": {
    "ExecuteTime": {
     "end_time": "2023-01-25T11:19:11.237275Z",
     "start_time": "2023-01-25T11:19:11.218974Z"
    }
   },
   "outputs": [],
   "source": [
    "X_train, X_test, y_train, y_test = train_test_split(X, y, \n",
    "                                                    test_size=.3, \n",
    "                                                    random_state=1)"
   ]
  },
  {
   "cell_type": "code",
   "execution_count": 83,
   "id": "95f44bc1",
   "metadata": {
    "ExecuteTime": {
     "end_time": "2023-01-25T11:19:11.275680Z",
     "start_time": "2023-01-25T11:19:11.246073Z"
    }
   },
   "outputs": [
    {
     "data": {
      "text/plain": [
       "0.6311871393336698"
      ]
     },
     "execution_count": 83,
     "metadata": {},
     "output_type": "execute_result"
    }
   ],
   "source": [
    "log_model.fit(X_train, y_train)\n",
    "\n",
    "# Evaluate the model with the test set\n",
    "log_model.score(X_test, y_test)"
   ]
  },
  {
   "cell_type": "code",
   "execution_count": 84,
   "id": "af624295",
   "metadata": {
    "ExecuteTime": {
     "end_time": "2023-01-25T11:19:11.640744Z",
     "start_time": "2023-01-25T11:19:11.314693Z"
    }
   },
   "outputs": [
    {
     "data": {
      "text/plain": [
       "0.6348249131619182"
      ]
     },
     "execution_count": 84,
     "metadata": {},
     "output_type": "execute_result"
    }
   ],
   "source": [
    "cv_results = cross_validate(log_model, X, y, cv=5)\n",
    "cv_results[\"test_score\"].mean()"
   ]
  },
  {
   "cell_type": "markdown",
   "id": "a152037b",
   "metadata": {},
   "source": [
    "# Third iteration"
   ]
  },
  {
   "cell_type": "code",
   "execution_count": 85,
   "id": "c139a5e8",
   "metadata": {
    "ExecuteTime": {
     "end_time": "2023-01-25T11:19:11.741321Z",
     "start_time": "2023-01-25T11:19:11.649234Z"
    }
   },
   "outputs": [
    {
     "name": "stdout",
     "output_type": "stream",
     "text": [
      "<class 'pandas.core.frame.DataFrame'>\n",
      "Int64Index: 15262 entries, 0 to 16511\n",
      "Data columns (total 11 columns):\n",
      " #   Column              Non-Null Count  Dtype  \n",
      "---  ------              --------------  -----  \n",
      " 0   Unnamed: 0          15262 non-null  float64\n",
      " 1   longitude           15262 non-null  float64\n",
      " 2   latitude            15262 non-null  float64\n",
      " 3   housing_median_age  15262 non-null  float64\n",
      " 4   total_rooms         15262 non-null  float64\n",
      " 5   total_bedrooms      15262 non-null  float64\n",
      " 6   population          15262 non-null  float64\n",
      " 7   households          15262 non-null  float64\n",
      " 8   median_income       15262 non-null  float64\n",
      " 9   median_house_value  15262 non-null  float64\n",
      " 10  ocean_proximity     15262 non-null  object \n",
      "dtypes: float64(10), object(1)\n",
      "memory usage: 1.4+ MB\n"
     ]
    }
   ],
   "source": [
    "third_it = pd.read_pickle(\"data/third_iteration.pkl\")\n",
    "third_it.info()"
   ]
  },
  {
   "cell_type": "code",
   "execution_count": 86,
   "id": "79053c73",
   "metadata": {
    "ExecuteTime": {
     "end_time": "2023-01-25T11:19:11.764535Z",
     "start_time": "2023-01-25T11:19:11.752697Z"
    }
   },
   "outputs": [],
   "source": [
    "# define X, y\n",
    "y = third_it[\"median_house_value\"]\n",
    "X = third_it.drop([\"median_house_value\",\"ocean_proximity\"], axis=1)"
   ]
  },
  {
   "cell_type": "code",
   "execution_count": 87,
   "id": "987b0065",
   "metadata": {
    "ExecuteTime": {
     "end_time": "2023-01-25T11:19:11.787325Z",
     "start_time": "2023-01-25T11:19:11.772254Z"
    }
   },
   "outputs": [],
   "source": [
    "X_train, X_test, y_train, y_test = train_test_split(X, y, \n",
    "                                                    test_size=.3, \n",
    "                                                    random_state=1)"
   ]
  },
  {
   "cell_type": "code",
   "execution_count": 88,
   "id": "b7ff900b",
   "metadata": {
    "ExecuteTime": {
     "end_time": "2023-01-25T11:19:11.831499Z",
     "start_time": "2023-01-25T11:19:11.793137Z"
    }
   },
   "outputs": [
    {
     "data": {
      "text/plain": [
       "0.6076476528019652"
      ]
     },
     "execution_count": 88,
     "metadata": {},
     "output_type": "execute_result"
    }
   ],
   "source": [
    "log_model.fit(X_train, y_train)\n",
    "\n",
    "# Evaluate the model with the test set\n",
    "log_model.score(X_test, y_test)"
   ]
  },
  {
   "cell_type": "code",
   "execution_count": 89,
   "id": "f8b07aec",
   "metadata": {
    "ExecuteTime": {
     "end_time": "2023-01-25T11:19:12.045920Z",
     "start_time": "2023-01-25T11:19:11.836556Z"
    }
   },
   "outputs": [
    {
     "data": {
      "text/plain": [
       "0.6334931888672133"
      ]
     },
     "execution_count": 89,
     "metadata": {},
     "output_type": "execute_result"
    }
   ],
   "source": [
    "cv_results = cross_validate(log_model, X, y, cv=5)\n",
    "cv_results[\"test_score\"].mean()"
   ]
  },
  {
   "cell_type": "markdown",
   "id": "22941f54",
   "metadata": {},
   "source": [
    "# Fourth iteration"
   ]
  },
  {
   "cell_type": "code",
   "execution_count": 90,
   "id": "921ec1d9",
   "metadata": {
    "ExecuteTime": {
     "end_time": "2023-01-25T11:19:12.082337Z",
     "start_time": "2023-01-25T11:19:12.056737Z"
    }
   },
   "outputs": [],
   "source": [
    "fourth_it = pd.read_pickle(\"data/fourth_iteration.pkl\")"
   ]
  },
  {
   "cell_type": "code",
   "execution_count": 91,
   "id": "125ca70e",
   "metadata": {
    "ExecuteTime": {
     "end_time": "2023-01-25T11:19:12.139708Z",
     "start_time": "2023-01-25T11:19:12.113160Z"
    }
   },
   "outputs": [],
   "source": [
    "# define X, y\n",
    "y = fourth_it[\"median_house_value\"]\n",
    "X = fourth_it.drop([\"median_house_value\",\"ocean_proximity\"], axis=1)"
   ]
  },
  {
   "cell_type": "code",
   "execution_count": 93,
   "id": "41e483cc",
   "metadata": {
    "ExecuteTime": {
     "end_time": "2023-01-25T11:20:11.861964Z",
     "start_time": "2023-01-25T11:20:11.725346Z"
    }
   },
   "outputs": [
    {
     "data": {
      "text/plain": [
       "0.6334931888672133"
      ]
     },
     "execution_count": 93,
     "metadata": {},
     "output_type": "execute_result"
    }
   ],
   "source": [
    "cv_results = cross_validate(log_model, X, y, cv=5)\n",
    "cv_results[\"test_score\"].mean()"
   ]
  }
 ],
 "metadata": {
  "kernelspec": {
   "display_name": "Python 3 (ipykernel)",
   "language": "python",
   "name": "python3"
  },
  "language_info": {
   "codemirror_mode": {
    "name": "ipython",
    "version": 3
   },
   "file_extension": ".py",
   "mimetype": "text/x-python",
   "name": "python",
   "nbconvert_exporter": "python",
   "pygments_lexer": "ipython3",
   "version": "3.8.12"
  },
  "toc": {
   "base_numbering": 1,
   "nav_menu": {},
   "number_sections": true,
   "sideBar": true,
   "skip_h1_title": false,
   "title_cell": "Table of Contents",
   "title_sidebar": "Contents",
   "toc_cell": false,
   "toc_position": {},
   "toc_section_display": true,
   "toc_window_display": false
  },
  "varInspector": {
   "cols": {
    "lenName": 16,
    "lenType": 16,
    "lenVar": 40
   },
   "kernels_config": {
    "python": {
     "delete_cmd_postfix": "",
     "delete_cmd_prefix": "del ",
     "library": "var_list.py",
     "varRefreshCmd": "print(var_dic_list())"
    },
    "r": {
     "delete_cmd_postfix": ") ",
     "delete_cmd_prefix": "rm(",
     "library": "var_list.r",
     "varRefreshCmd": "cat(var_dic_list()) "
    }
   },
   "types_to_exclude": [
    "module",
    "function",
    "builtin_function_or_method",
    "instance",
    "_Feature"
   ],
   "window_display": false
  }
 },
 "nbformat": 4,
 "nbformat_minor": 5
}
