{
 "cells": [
  {
   "cell_type": "code",
   "execution_count": 42,
   "id": "afaf118b",
   "metadata": {
    "ExecuteTime": {
     "end_time": "2023-01-25T10:05:20.747948Z",
     "start_time": "2023-01-25T10:05:20.736919Z"
    }
   },
   "outputs": [],
   "source": [
    "import pandas as pd\n",
    "import numpy as np\n",
    "import seaborn as sns\n",
    "import matplotlib.pyplot as plt\n",
    "import pickle\n",
    "from sklearn.linear_model import LinearRegression\n",
    "from statsmodels.formula.api import ols\n",
    "import statsmodels.api as sm\n",
    "from sklearn.preprocessing import StandardScaler\n",
    "from sklearn.preprocessing import MinMaxScaler\n",
    "from sklearn.model_selection import train_test_split\n",
    "from sklearn.model_selection import cross_validate\n",
    "from sklearn.model_selection import cross_val_score\n",
    "from sklearn.model_selection import cross_val_predict\n",
    "import plotly.express as px\n",
    "from scipy import stats\n",
    "from scipy.stats import chi2_contingency\n",
    "from sklearn.compose import ColumnTransformer\n",
    "from statsmodels.formula.api import ols\n",
    "import statsmodels.api as sm"
   ]
  },
  {
   "cell_type": "markdown",
   "id": "a95f4986",
   "metadata": {},
   "source": [
    "# First iteration"
   ]
  },
  {
   "cell_type": "code",
   "execution_count": 43,
   "id": "993d8739",
   "metadata": {
    "ExecuteTime": {
     "end_time": "2023-01-25T10:05:20.795531Z",
     "start_time": "2023-01-25T10:05:20.757471Z"
    }
   },
   "outputs": [
    {
     "name": "stdout",
     "output_type": "stream",
     "text": [
      "<class 'pandas.core.frame.DataFrame'>\n",
      "RangeIndex: 16512 entries, 0 to 16511\n",
      "Data columns (total 11 columns):\n",
      " #   Column              Non-Null Count  Dtype  \n",
      "---  ------              --------------  -----  \n",
      " 0   Unnamed: 0          16512 non-null  int64  \n",
      " 1   longitude           16512 non-null  float64\n",
      " 2   latitude            16512 non-null  float64\n",
      " 3   housing_median_age  16512 non-null  float64\n",
      " 4   total_rooms         16512 non-null  float64\n",
      " 5   total_bedrooms      16512 non-null  float64\n",
      " 6   population          16512 non-null  float64\n",
      " 7   households          16512 non-null  float64\n",
      " 8   median_income       16512 non-null  float64\n",
      " 9   median_house_value  16512 non-null  float64\n",
      " 10  ocean_proximity     16512 non-null  object \n",
      "dtypes: float64(9), int64(1), object(1)\n",
      "memory usage: 1.4+ MB\n"
     ]
    }
   ],
   "source": [
    "first_it = pd.read_pickle(\"data/first_iteration.pkl\")\n",
    "first_it.info()"
   ]
  },
  {
   "cell_type": "code",
   "execution_count": 44,
   "id": "8b4b7431",
   "metadata": {
    "ExecuteTime": {
     "end_time": "2023-01-25T10:05:20.815298Z",
     "start_time": "2023-01-25T10:05:20.801358Z"
    }
   },
   "outputs": [],
   "source": [
    "# define X, y\n",
    "y = first_it[\"median_house_value\"]\n",
    "X = first_it.drop([\"median_house_value\",\"ocean_proximity\"], axis=1)"
   ]
  },
  {
   "cell_type": "code",
   "execution_count": 45,
   "id": "56966fb3",
   "metadata": {
    "ExecuteTime": {
     "end_time": "2023-01-25T10:05:20.854923Z",
     "start_time": "2023-01-25T10:05:20.823537Z"
    }
   },
   "outputs": [],
   "source": [
    "X_train, X_test, y_train, y_test = train_test_split(X, y, \n",
    "                                                    test_size=.3, \n",
    "                                                    random_state=1)"
   ]
  },
  {
   "cell_type": "code",
   "execution_count": 46,
   "id": "24e0dfdb",
   "metadata": {
    "ExecuteTime": {
     "end_time": "2023-01-25T10:05:20.894717Z",
     "start_time": "2023-01-25T10:05:20.861430Z"
    }
   },
   "outputs": [
    {
     "data": {
      "text/plain": [
       "0.6311871393336708"
      ]
     },
     "execution_count": 46,
     "metadata": {},
     "output_type": "execute_result"
    }
   ],
   "source": [
    "log_model = LinearRegression()\n",
    "\n",
    "log_model.fit(X_train, y_train)\n",
    "\n",
    "# Evaluate the model with the test set\n",
    "log_model.score(X_test, y_test)"
   ]
  },
  {
   "cell_type": "code",
   "execution_count": 47,
   "id": "965984a5",
   "metadata": {
    "ExecuteTime": {
     "end_time": "2023-01-25T10:05:21.265807Z",
     "start_time": "2023-01-25T10:05:20.898778Z"
    }
   },
   "outputs": [
    {
     "data": {
      "text/plain": [
       "0.6348249131619211"
      ]
     },
     "execution_count": 47,
     "metadata": {},
     "output_type": "execute_result"
    }
   ],
   "source": [
    "cv_results = cross_validate(log_model, X, y, cv=5)\n",
    "cv_results[\"test_score\"].mean()"
   ]
  },
  {
   "cell_type": "code",
   "execution_count": null,
   "id": "90817d54",
   "metadata": {},
   "outputs": [],
   "source": []
  }
 ],
 "metadata": {
  "kernelspec": {
   "display_name": "Python 3 (ipykernel)",
   "language": "python",
   "name": "python3"
  },
  "language_info": {
   "codemirror_mode": {
    "name": "ipython",
    "version": 3
   },
   "file_extension": ".py",
   "mimetype": "text/x-python",
   "name": "python",
   "nbconvert_exporter": "python",
   "pygments_lexer": "ipython3",
   "version": "3.8.12"
  },
  "toc": {
   "base_numbering": 1,
   "nav_menu": {},
   "number_sections": true,
   "sideBar": true,
   "skip_h1_title": false,
   "title_cell": "Table of Contents",
   "title_sidebar": "Contents",
   "toc_cell": false,
   "toc_position": {},
   "toc_section_display": true,
   "toc_window_display": false
  },
  "varInspector": {
   "cols": {
    "lenName": 16,
    "lenType": 16,
    "lenVar": 40
   },
   "kernels_config": {
    "python": {
     "delete_cmd_postfix": "",
     "delete_cmd_prefix": "del ",
     "library": "var_list.py",
     "varRefreshCmd": "print(var_dic_list())"
    },
    "r": {
     "delete_cmd_postfix": ") ",
     "delete_cmd_prefix": "rm(",
     "library": "var_list.r",
     "varRefreshCmd": "cat(var_dic_list()) "
    }
   },
   "types_to_exclude": [
    "module",
    "function",
    "builtin_function_or_method",
    "instance",
    "_Feature"
   ],
   "window_display": false
  }
 },
 "nbformat": 4,
 "nbformat_minor": 5
}
