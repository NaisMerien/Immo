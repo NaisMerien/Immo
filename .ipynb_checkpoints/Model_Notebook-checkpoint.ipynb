{
 "cells": [
  {
   "cell_type": "code",
   "execution_count": 215,
   "id": "afaf118b",
   "metadata": {
    "ExecuteTime": {
     "end_time": "2023-02-01T15:43:34.029221Z",
     "start_time": "2023-02-01T15:43:34.014053Z"
    }
   },
   "outputs": [],
   "source": [
    "import pandas as pd\n",
    "import numpy as np\n",
    "import seaborn as sns\n",
    "import matplotlib.pyplot as plt\n",
    "import pickle\n",
    "from sklearn.linear_model import LinearRegression\n",
    "from statsmodels.formula.api import ols\n",
    "import statsmodels.api as sm\n",
    "from sklearn.model_selection import learning_curve\n",
    "from sklearn.preprocessing import StandardScaler\n",
    "from sklearn.preprocessing import MinMaxScaler\n",
    "from sklearn.model_selection import train_test_split\n",
    "from sklearn.model_selection import cross_validate\n",
    "from sklearn.model_selection import cross_val_score\n",
    "from sklearn.model_selection import cross_val_predict\n",
    "import plotly.express as px\n",
    "from scipy import stats\n",
    "from scipy.stats import chi2_contingency\n",
    "from sklearn.compose import ColumnTransformer\n",
    "from sklearn.feature_selection import SelectKBest, f_classif\n",
    "from sklearn.feature_selection import SelectFromModel\n",
    "from sklearn.ensemble import ExtraTreesClassifier\n",
    "from statsmodels.formula.api import ols\n",
    "import statsmodels.api as sm\n",
    "from sklearn.preprocessing import OneHotEncoder\n",
    "from sklearn.neighbors import KNeighborsRegressor\n",
    "from sklearn.neighbors import NearestNeighbors"
   ]
  },
  {
   "cell_type": "markdown",
   "id": "a95f4986",
   "metadata": {},
   "source": [
    "# First iteration : Baseline"
   ]
  },
  {
   "cell_type": "code",
   "execution_count": 216,
   "id": "993d8739",
   "metadata": {
    "ExecuteTime": {
     "end_time": "2023-02-01T15:43:34.076644Z",
     "start_time": "2023-02-01T15:43:34.037716Z"
    }
   },
   "outputs": [
    {
     "name": "stdout",
     "output_type": "stream",
     "text": [
      "<class 'pandas.core.frame.DataFrame'>\n",
      "RangeIndex: 16512 entries, 0 to 16511\n",
      "Data columns (total 11 columns):\n",
      " #   Column              Non-Null Count  Dtype  \n",
      "---  ------              --------------  -----  \n",
      " 0   Unnamed: 0          16512 non-null  int64  \n",
      " 1   longitude           16512 non-null  float64\n",
      " 2   latitude            16512 non-null  float64\n",
      " 3   housing_median_age  16512 non-null  float64\n",
      " 4   total_rooms         16512 non-null  float64\n",
      " 5   total_bedrooms      16512 non-null  float64\n",
      " 6   population          16512 non-null  float64\n",
      " 7   households          16512 non-null  float64\n",
      " 8   median_income       16512 non-null  float64\n",
      " 9   median_house_value  16512 non-null  float64\n",
      " 10  ocean_proximity     16512 non-null  object \n",
      "dtypes: float64(9), int64(1), object(1)\n",
      "memory usage: 1.4+ MB\n"
     ]
    }
   ],
   "source": [
    "first_it = pd.read_pickle(\"data/first_iteration.pkl\")\n",
    "first_it.info()"
   ]
  },
  {
   "cell_type": "code",
   "execution_count": 217,
   "id": "8b4b7431",
   "metadata": {
    "ExecuteTime": {
     "end_time": "2023-02-01T15:43:34.091764Z",
     "start_time": "2023-02-01T15:43:34.082154Z"
    }
   },
   "outputs": [],
   "source": [
    "# define X, y\n",
    "y = first_it[\"median_house_value\"]\n",
    "X = first_it.drop([\"median_house_value\",\"ocean_proximity\"], axis=1)"
   ]
  },
  {
   "cell_type": "code",
   "execution_count": 218,
   "id": "56966fb3",
   "metadata": {
    "ExecuteTime": {
     "end_time": "2023-02-01T15:43:34.121690Z",
     "start_time": "2023-02-01T15:43:34.102088Z"
    }
   },
   "outputs": [],
   "source": [
    "X_train, X_test, y_train, y_test = train_test_split(X, y, \n",
    "                                                    test_size=.3, \n",
    "                                                    random_state=1)"
   ]
  },
  {
   "cell_type": "code",
   "execution_count": 219,
   "id": "24e0dfdb",
   "metadata": {
    "ExecuteTime": {
     "end_time": "2023-02-01T15:43:34.241989Z",
     "start_time": "2023-02-01T15:43:34.126614Z"
    }
   },
   "outputs": [
    {
     "data": {
      "text/plain": [
       "0.6311871393336708"
      ]
     },
     "execution_count": 219,
     "metadata": {},
     "output_type": "execute_result"
    }
   ],
   "source": [
    "log_model = LinearRegression()\n",
    "\n",
    "log_model.fit(X_train, y_train)\n",
    "\n",
    "# Evaluate the model with the test set\n",
    "log_model.score(X_test, y_test)"
   ]
  },
  {
   "cell_type": "code",
   "execution_count": 220,
   "id": "965984a5",
   "metadata": {
    "ExecuteTime": {
     "end_time": "2023-02-01T15:43:34.591859Z",
     "start_time": "2023-02-01T15:43:34.268487Z"
    }
   },
   "outputs": [
    {
     "data": {
      "text/plain": [
       "0.6348249131619211"
      ]
     },
     "execution_count": 220,
     "metadata": {},
     "output_type": "execute_result"
    }
   ],
   "source": [
    "cv_results = cross_validate(log_model, X, y, cv=5,scoring=('r2', 'neg_root_mean_squared_error','neg_mean_absolute_error'))\n",
    "cv_results[\"test_r2\"].mean()"
   ]
  },
  {
   "cell_type": "code",
   "execution_count": 221,
   "id": "7e1c087f",
   "metadata": {
    "ExecuteTime": {
     "end_time": "2023-02-01T15:43:34.642302Z",
     "start_time": "2023-02-01T15:43:34.599998Z"
    }
   },
   "outputs": [
    {
     "data": {
      "text/plain": [
       "-69612.35723615628"
      ]
     },
     "execution_count": 221,
     "metadata": {},
     "output_type": "execute_result"
    }
   ],
   "source": [
    "cv_results[\"test_neg_root_mean_squared_error\"].mean()"
   ]
  },
  {
   "cell_type": "markdown",
   "id": "0e1257c1",
   "metadata": {},
   "source": [
    "# Second iteration : Outliers"
   ]
  },
  {
   "cell_type": "code",
   "execution_count": 222,
   "id": "712d3283",
   "metadata": {
    "ExecuteTime": {
     "end_time": "2023-02-01T15:43:34.708630Z",
     "start_time": "2023-02-01T15:43:34.654523Z"
    }
   },
   "outputs": [
    {
     "name": "stdout",
     "output_type": "stream",
     "text": [
      "<class 'pandas.core.frame.DataFrame'>\n",
      "Int64Index: 14766 entries, 0 to 16511\n",
      "Data columns (total 11 columns):\n",
      " #   Column              Non-Null Count  Dtype  \n",
      "---  ------              --------------  -----  \n",
      " 0   Unnamed: 0          14766 non-null  int64  \n",
      " 1   longitude           14766 non-null  float64\n",
      " 2   latitude            14766 non-null  float64\n",
      " 3   housing_median_age  14766 non-null  float64\n",
      " 4   total_rooms         14766 non-null  float64\n",
      " 5   total_bedrooms      14766 non-null  float64\n",
      " 6   population          14766 non-null  float64\n",
      " 7   households          14766 non-null  float64\n",
      " 8   median_income       14766 non-null  float64\n",
      " 9   median_house_value  14766 non-null  float64\n",
      " 10  ocean_proximity     14766 non-null  object \n",
      "dtypes: float64(9), int64(1), object(1)\n",
      "memory usage: 1.4+ MB\n"
     ]
    }
   ],
   "source": [
    "second_it = pd.read_pickle(\"data/second_iteration.pkl\")\n",
    "second_it.info()"
   ]
  },
  {
   "cell_type": "code",
   "execution_count": 223,
   "id": "aa275ed0",
   "metadata": {
    "ExecuteTime": {
     "end_time": "2023-02-01T15:43:34.733891Z",
     "start_time": "2023-02-01T15:43:34.716116Z"
    }
   },
   "outputs": [],
   "source": [
    "# define X, y\n",
    "y = second_it[\"median_house_value\"]\n",
    "X = second_it.drop([\"ocean_proximity\",\"median_house_value\"], axis=1)"
   ]
  },
  {
   "cell_type": "code",
   "execution_count": 224,
   "id": "2c829f98",
   "metadata": {
    "ExecuteTime": {
     "end_time": "2023-02-01T15:43:34.768276Z",
     "start_time": "2023-02-01T15:43:34.747859Z"
    }
   },
   "outputs": [],
   "source": [
    "X_train, X_test, y_train, y_test = train_test_split(X, y, \n",
    "                                                    test_size=.3, \n",
    "                                                    random_state=1)"
   ]
  },
  {
   "cell_type": "code",
   "execution_count": 225,
   "id": "95f44bc1",
   "metadata": {
    "ExecuteTime": {
     "end_time": "2023-02-01T15:43:34.836235Z",
     "start_time": "2023-02-01T15:43:34.775444Z"
    }
   },
   "outputs": [
    {
     "data": {
      "text/plain": [
       "0.6312422088575633"
      ]
     },
     "execution_count": 225,
     "metadata": {},
     "output_type": "execute_result"
    }
   ],
   "source": [
    "log_model.fit(X_train, y_train)\n",
    "\n",
    "# Evaluate the model with the test set\n",
    "log_model.score(X_test, y_test)"
   ]
  },
  {
   "cell_type": "code",
   "execution_count": 226,
   "id": "af624295",
   "metadata": {
    "ExecuteTime": {
     "end_time": "2023-02-01T15:43:35.112498Z",
     "start_time": "2023-02-01T15:43:34.842579Z"
    }
   },
   "outputs": [
    {
     "data": {
      "text/plain": [
       "0.6263840393225235"
      ]
     },
     "execution_count": 226,
     "metadata": {},
     "output_type": "execute_result"
    }
   ],
   "source": [
    "cv_results = cross_validate(log_model, X, y, cv=5,scoring=('r2', 'neg_root_mean_squared_error','neg_mean_absolute_error'))\n",
    "cv_results[\"test_r2\"].mean()"
   ]
  },
  {
   "cell_type": "code",
   "execution_count": 227,
   "id": "199ea66a",
   "metadata": {
    "ExecuteTime": {
     "end_time": "2023-02-01T15:43:35.134832Z",
     "start_time": "2023-02-01T15:43:35.117778Z"
    }
   },
   "outputs": [
    {
     "data": {
      "text/plain": [
       "-67061.22859788305"
      ]
     },
     "execution_count": 227,
     "metadata": {},
     "output_type": "execute_result"
    }
   ],
   "source": [
    "cv_results[\"test_neg_root_mean_squared_error\"].mean()"
   ]
  },
  {
   "cell_type": "markdown",
   "id": "a152037b",
   "metadata": {},
   "source": [
    "# Third iteration : Median imputation"
   ]
  },
  {
   "cell_type": "code",
   "execution_count": 228,
   "id": "c139a5e8",
   "metadata": {
    "ExecuteTime": {
     "end_time": "2023-02-01T15:43:35.240700Z",
     "start_time": "2023-02-01T15:43:35.148679Z"
    }
   },
   "outputs": [
    {
     "name": "stdout",
     "output_type": "stream",
     "text": [
      "<class 'pandas.core.frame.DataFrame'>\n",
      "RangeIndex: 16512 entries, 0 to 16511\n",
      "Data columns (total 11 columns):\n",
      " #   Column              Non-Null Count  Dtype  \n",
      "---  ------              --------------  -----  \n",
      " 0   Unnamed: 0          16512 non-null  int64  \n",
      " 1   longitude           16512 non-null  float64\n",
      " 2   latitude            16512 non-null  float64\n",
      " 3   housing_median_age  16512 non-null  float64\n",
      " 4   total_rooms         16512 non-null  float64\n",
      " 5   total_bedrooms      16512 non-null  float64\n",
      " 6   population          16512 non-null  float64\n",
      " 7   households          16512 non-null  float64\n",
      " 8   median_income       16512 non-null  float64\n",
      " 9   median_house_value  16512 non-null  float64\n",
      " 10  ocean_proximity     16512 non-null  object \n",
      "dtypes: float64(9), int64(1), object(1)\n",
      "memory usage: 1.4+ MB\n"
     ]
    }
   ],
   "source": [
    "third_it = pd.read_pickle(\"data/third_iteration.pkl\")\n",
    "third_it.info()"
   ]
  },
  {
   "cell_type": "code",
   "execution_count": 229,
   "id": "79053c73",
   "metadata": {
    "ExecuteTime": {
     "end_time": "2023-02-01T15:43:35.255318Z",
     "start_time": "2023-02-01T15:43:35.245347Z"
    }
   },
   "outputs": [],
   "source": [
    "# define X, y\n",
    "y = third_it[\"median_house_value\"]\n",
    "X = third_it.drop([\"median_house_value\",\"ocean_proximity\"], axis=1)"
   ]
  },
  {
   "cell_type": "code",
   "execution_count": 230,
   "id": "987b0065",
   "metadata": {
    "ExecuteTime": {
     "end_time": "2023-02-01T15:43:35.276742Z",
     "start_time": "2023-02-01T15:43:35.261077Z"
    }
   },
   "outputs": [],
   "source": [
    "X_train, X_test, y_train, y_test = train_test_split(X, y, \n",
    "                                                    test_size=.3, \n",
    "                                                    random_state=1)"
   ]
  },
  {
   "cell_type": "code",
   "execution_count": 231,
   "id": "b7ff900b",
   "metadata": {
    "ExecuteTime": {
     "end_time": "2023-02-01T15:43:35.357619Z",
     "start_time": "2023-02-01T15:43:35.284591Z"
    }
   },
   "outputs": [
    {
     "data": {
      "text/plain": [
       "0.6322340999259999"
      ]
     },
     "execution_count": 231,
     "metadata": {},
     "output_type": "execute_result"
    }
   ],
   "source": [
    "log_model.fit(X_train, y_train)\n",
    "\n",
    "# Evaluate the model with the test set\n",
    "log_model.score(X_test, y_test)"
   ]
  },
  {
   "cell_type": "code",
   "execution_count": 232,
   "id": "f8b07aec",
   "metadata": {
    "ExecuteTime": {
     "end_time": "2023-02-01T15:43:35.739411Z",
     "start_time": "2023-02-01T15:43:35.389619Z"
    }
   },
   "outputs": [
    {
     "data": {
      "text/plain": [
       "0.6358408199481806"
      ]
     },
     "execution_count": 232,
     "metadata": {},
     "output_type": "execute_result"
    }
   ],
   "source": [
    "cv_results = cross_validate(log_model, X, y, cv=5,scoring=('r2', 'neg_root_mean_squared_error','neg_mean_absolute_error'))\n",
    "cv_results[\"test_r2\"].mean()"
   ]
  },
  {
   "cell_type": "code",
   "execution_count": 233,
   "id": "cad3b107",
   "metadata": {
    "ExecuteTime": {
     "end_time": "2023-02-01T15:43:35.783140Z",
     "start_time": "2023-02-01T15:43:35.753544Z"
    }
   },
   "outputs": [
    {
     "data": {
      "text/plain": [
       "-69515.06329978097"
      ]
     },
     "execution_count": 233,
     "metadata": {},
     "output_type": "execute_result"
    }
   ],
   "source": [
    "cv_results[\"test_neg_root_mean_squared_error\"].mean()"
   ]
  },
  {
   "cell_type": "markdown",
   "id": "22941f54",
   "metadata": {},
   "source": [
    "# Fourth iteration : Mean imputation"
   ]
  },
  {
   "cell_type": "code",
   "execution_count": 234,
   "id": "921ec1d9",
   "metadata": {
    "ExecuteTime": {
     "end_time": "2023-02-01T15:43:35.800532Z",
     "start_time": "2023-02-01T15:43:35.788169Z"
    }
   },
   "outputs": [],
   "source": [
    "fourth_it = pd.read_pickle(\"data/fourth_iteration.pkl\")"
   ]
  },
  {
   "cell_type": "code",
   "execution_count": 235,
   "id": "125ca70e",
   "metadata": {
    "ExecuteTime": {
     "end_time": "2023-02-01T15:43:35.818858Z",
     "start_time": "2023-02-01T15:43:35.805414Z"
    }
   },
   "outputs": [],
   "source": [
    "# define X, y\n",
    "y = fourth_it[\"median_house_value\"]\n",
    "X = fourth_it.drop([\"median_house_value\",\"ocean_proximity\"], axis=1)"
   ]
  },
  {
   "cell_type": "code",
   "execution_count": 236,
   "id": "41e483cc",
   "metadata": {
    "ExecuteTime": {
     "end_time": "2023-02-01T15:43:36.045642Z",
     "start_time": "2023-02-01T15:43:35.825763Z"
    }
   },
   "outputs": [
    {
     "data": {
      "text/plain": [
       "0.6358408199481806"
      ]
     },
     "execution_count": 236,
     "metadata": {},
     "output_type": "execute_result"
    }
   ],
   "source": [
    "cv_results = cross_validate(log_model, X, y, cv=5,scoring=('r2', 'neg_root_mean_squared_error','neg_mean_absolute_error'))\n",
    "cv_results[\"test_r2\"].mean()"
   ]
  },
  {
   "cell_type": "code",
   "execution_count": 237,
   "id": "e6b0c3b5",
   "metadata": {
    "ExecuteTime": {
     "end_time": "2023-02-01T15:43:36.087581Z",
     "start_time": "2023-02-01T15:43:36.066675Z"
    }
   },
   "outputs": [
    {
     "data": {
      "text/plain": [
       "-69515.06329978097"
      ]
     },
     "execution_count": 237,
     "metadata": {},
     "output_type": "execute_result"
    }
   ],
   "source": [
    "cv_results[\"test_neg_root_mean_squared_error\"].mean()"
   ]
  },
  {
   "cell_type": "markdown",
   "id": "627efd71",
   "metadata": {},
   "source": [
    "# Fifth iteration : iterative imputation"
   ]
  },
  {
   "cell_type": "code",
   "execution_count": 238,
   "id": "6fa2dec7",
   "metadata": {
    "ExecuteTime": {
     "end_time": "2023-02-01T15:43:36.137628Z",
     "start_time": "2023-02-01T15:43:36.101486Z"
    }
   },
   "outputs": [],
   "source": [
    "fifth_it = pd.read_pickle(\"data/fifth_iteration.pkl\")"
   ]
  },
  {
   "cell_type": "code",
   "execution_count": 239,
   "id": "7c76861c",
   "metadata": {
    "ExecuteTime": {
     "end_time": "2023-02-01T15:43:36.157138Z",
     "start_time": "2023-02-01T15:43:36.142946Z"
    }
   },
   "outputs": [],
   "source": [
    "# define X, y\n",
    "y = fifth_it[\"median_house_value\"]\n",
    "X = fifth_it.drop([\"median_house_value\",\"ocean_proximity\"], axis=1)"
   ]
  },
  {
   "cell_type": "code",
   "execution_count": 240,
   "id": "bd7379be",
   "metadata": {
    "ExecuteTime": {
     "end_time": "2023-02-01T15:43:36.443490Z",
     "start_time": "2023-02-01T15:43:36.162579Z"
    }
   },
   "outputs": [
    {
     "data": {
      "text/plain": [
       "0.6348249131619182"
      ]
     },
     "execution_count": 240,
     "metadata": {},
     "output_type": "execute_result"
    }
   ],
   "source": [
    "cv_results = cross_validate(log_model, X, y, cv=5,scoring=('r2', 'neg_root_mean_squared_error','neg_mean_absolute_error'))\n",
    "cv_results[\"test_r2\"].mean()"
   ]
  },
  {
   "cell_type": "code",
   "execution_count": 241,
   "id": "d38c3903",
   "metadata": {
    "ExecuteTime": {
     "end_time": "2023-02-01T15:43:36.501734Z",
     "start_time": "2023-02-01T15:43:36.456846Z"
    }
   },
   "outputs": [
    {
     "data": {
      "text/plain": [
       "-69612.35723615656"
      ]
     },
     "execution_count": 241,
     "metadata": {},
     "output_type": "execute_result"
    }
   ],
   "source": [
    "cv_results[\"test_neg_root_mean_squared_error\"].mean()"
   ]
  },
  {
   "cell_type": "markdown",
   "id": "82618883",
   "metadata": {},
   "source": [
    "# Sixth iteration : ocean_proximity encoding"
   ]
  },
  {
   "cell_type": "code",
   "execution_count": 242,
   "id": "82b85c3e",
   "metadata": {
    "ExecuteTime": {
     "end_time": "2023-02-01T15:43:36.550493Z",
     "start_time": "2023-02-01T15:43:36.538911Z"
    }
   },
   "outputs": [],
   "source": [
    "sixth_it = pd.read_pickle(\"data/sixth_iteration.pkl\")"
   ]
  },
  {
   "cell_type": "code",
   "execution_count": 243,
   "id": "c694a346",
   "metadata": {
    "ExecuteTime": {
     "end_time": "2023-02-01T15:43:36.575714Z",
     "start_time": "2023-02-01T15:43:36.556234Z"
    }
   },
   "outputs": [],
   "source": [
    "# define X, y\n",
    "y = sixth_it[\"median_house_value\"]\n",
    "X = sixth_it.drop([\"median_house_value\"], axis=1)"
   ]
  },
  {
   "cell_type": "code",
   "execution_count": 244,
   "id": "c272c8a8",
   "metadata": {
    "ExecuteTime": {
     "end_time": "2023-02-01T15:43:37.178868Z",
     "start_time": "2023-02-01T15:43:36.581016Z"
    }
   },
   "outputs": [
    {
     "data": {
      "text/plain": [
       "0.6464622037671589"
      ]
     },
     "execution_count": 244,
     "metadata": {},
     "output_type": "execute_result"
    }
   ],
   "source": [
    "cv_results = cross_validate(log_model, X, y, cv=5,scoring=('r2', 'neg_root_mean_squared_error','neg_mean_absolute_error'))\n",
    "cv_results[\"test_r2\"].mean()"
   ]
  },
  {
   "cell_type": "code",
   "execution_count": 245,
   "id": "7f01a495",
   "metadata": {
    "ExecuteTime": {
     "end_time": "2023-02-01T15:43:37.237528Z",
     "start_time": "2023-02-01T15:43:37.209157Z"
    }
   },
   "outputs": [
    {
     "data": {
      "text/plain": [
       "-68492.0375321315"
      ]
     },
     "execution_count": 245,
     "metadata": {},
     "output_type": "execute_result"
    }
   ],
   "source": [
    "cv_results[\"test_neg_root_mean_squared_error\"].mean()"
   ]
  },
  {
   "cell_type": "markdown",
   "id": "f8e5a7eb",
   "metadata": {},
   "source": [
    "# Seventh iteration : normalization"
   ]
  },
  {
   "cell_type": "code",
   "execution_count": 246,
   "id": "fd889272",
   "metadata": {
    "ExecuteTime": {
     "end_time": "2023-02-01T15:43:37.270198Z",
     "start_time": "2023-02-01T15:43:37.255100Z"
    }
   },
   "outputs": [],
   "source": [
    "seventh_it = pd.read_pickle(\"data/seventh_iteration.pkl\")"
   ]
  },
  {
   "cell_type": "code",
   "execution_count": 247,
   "id": "ddfd4d77",
   "metadata": {
    "ExecuteTime": {
     "end_time": "2023-02-01T15:43:37.300501Z",
     "start_time": "2023-02-01T15:43:37.278760Z"
    }
   },
   "outputs": [],
   "source": [
    "# define X, y\n",
    "y = seventh_it[\"median_house_value\"]\n",
    "X = seventh_it.drop([\"median_house_value\"], axis=1)"
   ]
  },
  {
   "cell_type": "code",
   "execution_count": 248,
   "id": "20a22198",
   "metadata": {
    "ExecuteTime": {
     "end_time": "2023-02-01T15:43:37.644382Z",
     "start_time": "2023-02-01T15:43:37.306260Z"
    }
   },
   "outputs": [
    {
     "data": {
      "text/plain": [
       "0.6464622037671547"
      ]
     },
     "execution_count": 248,
     "metadata": {},
     "output_type": "execute_result"
    }
   ],
   "source": [
    "cv_results = cross_validate(log_model, X, y, cv=5,scoring=('r2', 'neg_root_mean_squared_error','neg_mean_absolute_error'))\n",
    "cv_results[\"test_r2\"].mean()"
   ]
  },
  {
   "cell_type": "code",
   "execution_count": 249,
   "id": "17a4ec13",
   "metadata": {
    "ExecuteTime": {
     "end_time": "2023-02-01T15:43:37.702410Z",
     "start_time": "2023-02-01T15:43:37.652973Z"
    }
   },
   "outputs": [
    {
     "data": {
      "text/plain": [
       "-68492.03753213192"
      ]
     },
     "execution_count": 249,
     "metadata": {},
     "output_type": "execute_result"
    }
   ],
   "source": [
    "cv_results[\"test_neg_root_mean_squared_error\"].mean()"
   ]
  },
  {
   "cell_type": "markdown",
   "id": "7198f969",
   "metadata": {},
   "source": [
    "# Eighth iteration : feature selection"
   ]
  },
  {
   "cell_type": "code",
   "execution_count": 250,
   "id": "0be1e0fc",
   "metadata": {
    "ExecuteTime": {
     "end_time": "2023-02-01T15:43:37.753475Z",
     "start_time": "2023-02-01T15:43:37.709856Z"
    }
   },
   "outputs": [
    {
     "name": "stderr",
     "output_type": "stream",
     "text": [
      "/home/nais/.pyenv/versions/3.8.12/envs/simplon/lib/python3.8/site-packages/sklearn/base.py:443: UserWarning: X has feature names, but SelectFromModel was fitted without feature names\n",
      "  warnings.warn(\n"
     ]
    }
   ],
   "source": [
    "lsvc = log_model.fit(X, y)\n",
    "model = SelectFromModel(lsvc, prefit=True)\n",
    "X_new = model.transform(X)"
   ]
  },
  {
   "cell_type": "code",
   "execution_count": 251,
   "id": "f006f9d2",
   "metadata": {
    "ExecuteTime": {
     "end_time": "2023-02-01T15:43:37.819195Z",
     "start_time": "2023-02-01T15:43:37.765677Z"
    }
   },
   "outputs": [
    {
     "data": {
      "text/html": [
       "<div>\n",
       "<style scoped>\n",
       "    .dataframe tbody tr th:only-of-type {\n",
       "        vertical-align: middle;\n",
       "    }\n",
       "\n",
       "    .dataframe tbody tr th {\n",
       "        vertical-align: top;\n",
       "    }\n",
       "\n",
       "    .dataframe thead th {\n",
       "        text-align: right;\n",
       "    }\n",
       "</style>\n",
       "<table border=\"1\" class=\"dataframe\">\n",
       "  <thead>\n",
       "    <tr style=\"text-align: right;\">\n",
       "      <th></th>\n",
       "      <th>0</th>\n",
       "      <th>1</th>\n",
       "      <th>2</th>\n",
       "      <th>3</th>\n",
       "      <th>4</th>\n",
       "      <th>5</th>\n",
       "    </tr>\n",
       "  </thead>\n",
       "  <tbody>\n",
       "    <tr>\n",
       "      <th>0</th>\n",
       "      <td>-0.137635</td>\n",
       "      <td>0.534564</td>\n",
       "      <td>-0.032827</td>\n",
       "      <td>-1.258403</td>\n",
       "      <td>1.0</td>\n",
       "      <td>0.0</td>\n",
       "    </tr>\n",
       "    <tr>\n",
       "      <th>1</th>\n",
       "      <td>0.879836</td>\n",
       "      <td>-0.909979</td>\n",
       "      <td>-0.494784</td>\n",
       "      <td>1.610623</td>\n",
       "      <td>0.0</td>\n",
       "      <td>0.0</td>\n",
       "    </tr>\n",
       "    <tr>\n",
       "      <th>2</th>\n",
       "      <td>-0.312201</td>\n",
       "      <td>0.455091</td>\n",
       "      <td>-0.435204</td>\n",
       "      <td>-1.220425</td>\n",
       "      <td>1.0</td>\n",
       "      <td>0.0</td>\n",
       "    </tr>\n",
       "    <tr>\n",
       "      <th>3</th>\n",
       "      <td>0.620480</td>\n",
       "      <td>-0.713633</td>\n",
       "      <td>-0.723603</td>\n",
       "      <td>-1.233736</td>\n",
       "      <td>0.0</td>\n",
       "      <td>0.0</td>\n",
       "    </tr>\n",
       "    <tr>\n",
       "      <th>4</th>\n",
       "      <td>-0.830911</td>\n",
       "      <td>1.011403</td>\n",
       "      <td>-0.263373</td>\n",
       "      <td>0.114837</td>\n",
       "      <td>1.0</td>\n",
       "      <td>0.0</td>\n",
       "    </tr>\n",
       "    <tr>\n",
       "      <th>...</th>\n",
       "      <td>...</td>\n",
       "      <td>...</td>\n",
       "      <td>...</td>\n",
       "      <td>...</td>\n",
       "      <td>...</td>\n",
       "      <td>...</td>\n",
       "    </tr>\n",
       "    <tr>\n",
       "      <th>16507</th>\n",
       "      <td>-1.165080</td>\n",
       "      <td>1.852884</td>\n",
       "      <td>-0.595810</td>\n",
       "      <td>-0.423409</td>\n",
       "      <td>1.0</td>\n",
       "      <td>0.0</td>\n",
       "    </tr>\n",
       "    <tr>\n",
       "      <th>16508</th>\n",
       "      <td>-1.339646</td>\n",
       "      <td>1.161000</td>\n",
       "      <td>-0.262510</td>\n",
       "      <td>-0.660681</td>\n",
       "      <td>0.0</td>\n",
       "      <td>0.0</td>\n",
       "    </tr>\n",
       "    <tr>\n",
       "      <th>16509</th>\n",
       "      <td>-0.825923</td>\n",
       "      <td>1.539666</td>\n",
       "      <td>-0.197750</td>\n",
       "      <td>0.333675</td>\n",
       "      <td>1.0</td>\n",
       "      <td>0.0</td>\n",
       "    </tr>\n",
       "    <tr>\n",
       "      <th>16510</th>\n",
       "      <td>0.710257</td>\n",
       "      <td>-0.685584</td>\n",
       "      <td>0.959301</td>\n",
       "      <td>-0.680911</td>\n",
       "      <td>0.0</td>\n",
       "      <td>0.0</td>\n",
       "    </tr>\n",
       "    <tr>\n",
       "      <th>16511</th>\n",
       "      <td>-2.277315</td>\n",
       "      <td>2.418547</td>\n",
       "      <td>-0.151986</td>\n",
       "      <td>-0.853741</td>\n",
       "      <td>0.0</td>\n",
       "      <td>0.0</td>\n",
       "    </tr>\n",
       "  </tbody>\n",
       "</table>\n",
       "<p>16512 rows × 6 columns</p>\n",
       "</div>"
      ],
      "text/plain": [
       "              0         1         2         3    4    5\n",
       "0     -0.137635  0.534564 -0.032827 -1.258403  1.0  0.0\n",
       "1      0.879836 -0.909979 -0.494784  1.610623  0.0  0.0\n",
       "2     -0.312201  0.455091 -0.435204 -1.220425  1.0  0.0\n",
       "3      0.620480 -0.713633 -0.723603 -1.233736  0.0  0.0\n",
       "4     -0.830911  1.011403 -0.263373  0.114837  1.0  0.0\n",
       "...         ...       ...       ...       ...  ...  ...\n",
       "16507 -1.165080  1.852884 -0.595810 -0.423409  1.0  0.0\n",
       "16508 -1.339646  1.161000 -0.262510 -0.660681  0.0  0.0\n",
       "16509 -0.825923  1.539666 -0.197750  0.333675  1.0  0.0\n",
       "16510  0.710257 -0.685584  0.959301 -0.680911  0.0  0.0\n",
       "16511 -2.277315  2.418547 -0.151986 -0.853741  0.0  0.0\n",
       "\n",
       "[16512 rows x 6 columns]"
      ]
     },
     "execution_count": 251,
     "metadata": {},
     "output_type": "execute_result"
    }
   ],
   "source": [
    "PD = pd.DataFrame(X_new)\n",
    "PD"
   ]
  },
  {
   "cell_type": "code",
   "execution_count": 252,
   "id": "c8c0998b",
   "metadata": {
    "ExecuteTime": {
     "end_time": "2023-02-01T15:43:37.996147Z",
     "start_time": "2023-02-01T15:43:37.823579Z"
    }
   },
   "outputs": [
    {
     "data": {
      "text/plain": [
       "0.6027994887662533"
      ]
     },
     "execution_count": 252,
     "metadata": {},
     "output_type": "execute_result"
    }
   ],
   "source": [
    "cv_results = cross_validate(log_model, PD, y, cv=5,scoring=('r2', 'neg_root_mean_squared_error','neg_mean_absolute_error'))\n",
    "cv_results[\"test_r2\"].mean()"
   ]
  },
  {
   "cell_type": "code",
   "execution_count": 253,
   "id": "70160f0d",
   "metadata": {
    "ExecuteTime": {
     "end_time": "2023-02-01T15:43:38.053193Z",
     "start_time": "2023-02-01T15:43:38.030631Z"
    }
   },
   "outputs": [
    {
     "data": {
      "text/plain": [
       "-72601.20456385023"
      ]
     },
     "execution_count": 253,
     "metadata": {},
     "output_type": "execute_result"
    }
   ],
   "source": [
    "cv_results[\"test_neg_root_mean_squared_error\"].mean()"
   ]
  },
  {
   "cell_type": "markdown",
   "id": "fbb63f4d",
   "metadata": {},
   "source": [
    "# Ninth iteration : other feature selection"
   ]
  },
  {
   "cell_type": "code",
   "execution_count": 254,
   "id": "f4380a8f",
   "metadata": {
    "ExecuteTime": {
     "end_time": "2023-02-01T15:43:38.893227Z",
     "start_time": "2023-02-01T15:43:38.062332Z"
    }
   },
   "outputs": [],
   "source": [
    "# Create and fit selector\n",
    "selector = SelectKBest(f_classif, k=8)\n",
    "selector.fit(X, y)\n",
    "# Get columns to keep and create new dataframe with those only\n",
    "cols = selector.get_support(indices=True)\n",
    "features_df_new = seventh_it.iloc[:,cols]"
   ]
  },
  {
   "cell_type": "code",
   "execution_count": 255,
   "id": "021c434b",
   "metadata": {
    "ExecuteTime": {
     "end_time": "2023-02-01T15:43:38.935340Z",
     "start_time": "2023-02-01T15:43:38.897828Z"
    }
   },
   "outputs": [
    {
     "data": {
      "text/html": [
       "<div>\n",
       "<style scoped>\n",
       "    .dataframe tbody tr th:only-of-type {\n",
       "        vertical-align: middle;\n",
       "    }\n",
       "\n",
       "    .dataframe tbody tr th {\n",
       "        vertical-align: top;\n",
       "    }\n",
       "\n",
       "    .dataframe thead th {\n",
       "        text-align: right;\n",
       "    }\n",
       "</style>\n",
       "<table border=\"1\" class=\"dataframe\">\n",
       "  <thead>\n",
       "    <tr style=\"text-align: right;\">\n",
       "      <th></th>\n",
       "      <th>latitude</th>\n",
       "      <th>total_rooms</th>\n",
       "      <th>households</th>\n",
       "      <th>median_income</th>\n",
       "      <th>median_house_value</th>\n",
       "      <th>ocean_proximity_&lt;1H OCEAN</th>\n",
       "      <th>ocean_proximity_ISLAND</th>\n",
       "      <th>ocean_proximity_NEAR BAY</th>\n",
       "    </tr>\n",
       "  </thead>\n",
       "  <tbody>\n",
       "    <tr>\n",
       "      <th>0</th>\n",
       "      <td>0.534564</td>\n",
       "      <td>-0.357368</td>\n",
       "      <td>-0.218173</td>\n",
       "      <td>-1.258403</td>\n",
       "      <td>72000.0</td>\n",
       "      <td>0.0</td>\n",
       "      <td>0.0</td>\n",
       "      <td>0.0</td>\n",
       "    </tr>\n",
       "    <tr>\n",
       "      <th>1</th>\n",
       "      <td>-0.909979</td>\n",
       "      <td>-0.276515</td>\n",
       "      <td>-0.417841</td>\n",
       "      <td>1.610623</td>\n",
       "      <td>274100.0</td>\n",
       "      <td>1.0</td>\n",
       "      <td>0.0</td>\n",
       "      <td>0.0</td>\n",
       "    </tr>\n",
       "    <tr>\n",
       "      <th>2</th>\n",
       "      <td>0.455091</td>\n",
       "      <td>-0.799127</td>\n",
       "      <td>-0.744572</td>\n",
       "      <td>-1.220425</td>\n",
       "      <td>58300.0</td>\n",
       "      <td>0.0</td>\n",
       "      <td>0.0</td>\n",
       "      <td>0.0</td>\n",
       "    </tr>\n",
       "    <tr>\n",
       "      <th>3</th>\n",
       "      <td>-0.713633</td>\n",
       "      <td>-0.913406</td>\n",
       "      <td>-0.710862</td>\n",
       "      <td>-1.233736</td>\n",
       "      <td>200000.0</td>\n",
       "      <td>1.0</td>\n",
       "      <td>0.0</td>\n",
       "      <td>0.0</td>\n",
       "    </tr>\n",
       "    <tr>\n",
       "      <th>4</th>\n",
       "      <td>1.011403</td>\n",
       "      <td>-0.326201</td>\n",
       "      <td>-0.334862</td>\n",
       "      <td>0.114837</td>\n",
       "      <td>117900.0</td>\n",
       "      <td>0.0</td>\n",
       "      <td>0.0</td>\n",
       "      <td>0.0</td>\n",
       "    </tr>\n",
       "    <tr>\n",
       "      <th>...</th>\n",
       "      <td>...</td>\n",
       "      <td>...</td>\n",
       "      <td>...</td>\n",
       "      <td>...</td>\n",
       "      <td>...</td>\n",
       "      <td>...</td>\n",
       "      <td>...</td>\n",
       "      <td>...</td>\n",
       "    </tr>\n",
       "    <tr>\n",
       "      <th>16507</th>\n",
       "      <td>1.852884</td>\n",
       "      <td>-0.532626</td>\n",
       "      <td>-0.651220</td>\n",
       "      <td>-0.423409</td>\n",
       "      <td>93800.0</td>\n",
       "      <td>0.0</td>\n",
       "      <td>0.0</td>\n",
       "      <td>0.0</td>\n",
       "    </tr>\n",
       "    <tr>\n",
       "      <th>16508</th>\n",
       "      <td>1.161000</td>\n",
       "      <td>-0.126100</td>\n",
       "      <td>-0.111856</td>\n",
       "      <td>-0.660681</td>\n",
       "      <td>103100.0</td>\n",
       "      <td>0.0</td>\n",
       "      <td>0.0</td>\n",
       "      <td>1.0</td>\n",
       "    </tr>\n",
       "    <tr>\n",
       "      <th>16509</th>\n",
       "      <td>1.539666</td>\n",
       "      <td>-0.051119</td>\n",
       "      <td>-0.187056</td>\n",
       "      <td>0.333675</td>\n",
       "      <td>192600.0</td>\n",
       "      <td>0.0</td>\n",
       "      <td>0.0</td>\n",
       "      <td>0.0</td>\n",
       "    </tr>\n",
       "    <tr>\n",
       "      <th>16510</th>\n",
       "      <td>-0.685584</td>\n",
       "      <td>0.059547</td>\n",
       "      <td>0.704970</td>\n",
       "      <td>-0.680911</td>\n",
       "      <td>153500.0</td>\n",
       "      <td>1.0</td>\n",
       "      <td>0.0</td>\n",
       "      <td>0.0</td>\n",
       "    </tr>\n",
       "    <tr>\n",
       "      <th>16511</th>\n",
       "      <td>2.418547</td>\n",
       "      <td>-0.222311</td>\n",
       "      <td>-0.210394</td>\n",
       "      <td>-0.853741</td>\n",
       "      <td>81100.0</td>\n",
       "      <td>0.0</td>\n",
       "      <td>0.0</td>\n",
       "      <td>0.0</td>\n",
       "    </tr>\n",
       "  </tbody>\n",
       "</table>\n",
       "<p>16512 rows × 8 columns</p>\n",
       "</div>"
      ],
      "text/plain": [
       "       latitude  total_rooms  households  median_income  median_house_value  \\\n",
       "0      0.534564    -0.357368   -0.218173      -1.258403             72000.0   \n",
       "1     -0.909979    -0.276515   -0.417841       1.610623            274100.0   \n",
       "2      0.455091    -0.799127   -0.744572      -1.220425             58300.0   \n",
       "3     -0.713633    -0.913406   -0.710862      -1.233736            200000.0   \n",
       "4      1.011403    -0.326201   -0.334862       0.114837            117900.0   \n",
       "...         ...          ...         ...            ...                 ...   \n",
       "16507  1.852884    -0.532626   -0.651220      -0.423409             93800.0   \n",
       "16508  1.161000    -0.126100   -0.111856      -0.660681            103100.0   \n",
       "16509  1.539666    -0.051119   -0.187056       0.333675            192600.0   \n",
       "16510 -0.685584     0.059547    0.704970      -0.680911            153500.0   \n",
       "16511  2.418547    -0.222311   -0.210394      -0.853741             81100.0   \n",
       "\n",
       "       ocean_proximity_<1H OCEAN  ocean_proximity_ISLAND  \\\n",
       "0                            0.0                     0.0   \n",
       "1                            1.0                     0.0   \n",
       "2                            0.0                     0.0   \n",
       "3                            1.0                     0.0   \n",
       "4                            0.0                     0.0   \n",
       "...                          ...                     ...   \n",
       "16507                        0.0                     0.0   \n",
       "16508                        0.0                     0.0   \n",
       "16509                        0.0                     0.0   \n",
       "16510                        1.0                     0.0   \n",
       "16511                        0.0                     0.0   \n",
       "\n",
       "       ocean_proximity_NEAR BAY  \n",
       "0                           0.0  \n",
       "1                           0.0  \n",
       "2                           0.0  \n",
       "3                           0.0  \n",
       "4                           0.0  \n",
       "...                         ...  \n",
       "16507                       0.0  \n",
       "16508                       1.0  \n",
       "16509                       0.0  \n",
       "16510                       0.0  \n",
       "16511                       0.0  \n",
       "\n",
       "[16512 rows x 8 columns]"
      ]
     },
     "execution_count": 255,
     "metadata": {},
     "output_type": "execute_result"
    }
   ],
   "source": [
    "features_df_new"
   ]
  },
  {
   "cell_type": "code",
   "execution_count": 256,
   "id": "707e071e",
   "metadata": {
    "ExecuteTime": {
     "end_time": "2023-02-01T15:43:38.957412Z",
     "start_time": "2023-02-01T15:43:38.941837Z"
    }
   },
   "outputs": [],
   "source": [
    "# define X, y\n",
    "y = features_df_new[\"median_house_value\"]\n",
    "X = features_df_new.drop([\"median_house_value\"], axis=1)"
   ]
  },
  {
   "cell_type": "code",
   "execution_count": 257,
   "id": "6b8880fa",
   "metadata": {
    "ExecuteTime": {
     "end_time": "2023-02-01T15:43:39.300393Z",
     "start_time": "2023-02-01T15:43:38.964438Z"
    }
   },
   "outputs": [
    {
     "data": {
      "text/plain": [
       "0.5460456407922691"
      ]
     },
     "execution_count": 257,
     "metadata": {},
     "output_type": "execute_result"
    }
   ],
   "source": [
    "cv_results = cross_validate(log_model, X, y, cv=5,scoring=('r2', 'neg_root_mean_squared_error','neg_mean_absolute_error'))\n",
    "cv_results[\"test_r2\"].mean()"
   ]
  },
  {
   "cell_type": "code",
   "execution_count": 258,
   "id": "8292e579",
   "metadata": {
    "ExecuteTime": {
     "end_time": "2023-02-01T15:43:39.324717Z",
     "start_time": "2023-02-01T15:43:39.310806Z"
    }
   },
   "outputs": [
    {
     "data": {
      "text/plain": [
       "-77609.6325148884"
      ]
     },
     "execution_count": 258,
     "metadata": {},
     "output_type": "execute_result"
    }
   ],
   "source": [
    "cv_results[\"test_neg_root_mean_squared_error\"].mean()"
   ]
  },
  {
   "cell_type": "markdown",
   "id": "b2864088",
   "metadata": {},
   "source": [
    "# Tenth iteration : Tree classifier feature selection"
   ]
  },
  {
   "cell_type": "code",
   "execution_count": 259,
   "id": "c66b13e8",
   "metadata": {
    "ExecuteTime": {
     "end_time": "2023-02-01T15:43:39.381996Z",
     "start_time": "2023-02-01T15:43:39.337090Z"
    }
   },
   "outputs": [],
   "source": [
    "data = seventh_it\n",
    "X = data.drop([\"median_house_value\"], axis=1)\n",
    "y = data[\"median_house_value\"]"
   ]
  },
  {
   "cell_type": "markdown",
   "id": "219bba2a",
   "metadata": {},
   "source": [
    "Tree selection"
   ]
  },
  {
   "cell_type": "code",
   "execution_count": 260,
   "id": "643233a6",
   "metadata": {
    "ExecuteTime": {
     "end_time": "2023-02-01T15:43:40.870559Z",
     "start_time": "2023-02-01T15:43:39.389302Z"
    }
   },
   "outputs": [
    {
     "data": {
      "text/html": [
       "<style>#sk-container-id-5 {color: black;background-color: white;}#sk-container-id-5 pre{padding: 0;}#sk-container-id-5 div.sk-toggleable {background-color: white;}#sk-container-id-5 label.sk-toggleable__label {cursor: pointer;display: block;width: 100%;margin-bottom: 0;padding: 0.3em;box-sizing: border-box;text-align: center;}#sk-container-id-5 label.sk-toggleable__label-arrow:before {content: \"▸\";float: left;margin-right: 0.25em;color: #696969;}#sk-container-id-5 label.sk-toggleable__label-arrow:hover:before {color: black;}#sk-container-id-5 div.sk-estimator:hover label.sk-toggleable__label-arrow:before {color: black;}#sk-container-id-5 div.sk-toggleable__content {max-height: 0;max-width: 0;overflow: hidden;text-align: left;background-color: #f0f8ff;}#sk-container-id-5 div.sk-toggleable__content pre {margin: 0.2em;color: black;border-radius: 0.25em;background-color: #f0f8ff;}#sk-container-id-5 input.sk-toggleable__control:checked~div.sk-toggleable__content {max-height: 200px;max-width: 100%;overflow: auto;}#sk-container-id-5 input.sk-toggleable__control:checked~label.sk-toggleable__label-arrow:before {content: \"▾\";}#sk-container-id-5 div.sk-estimator input.sk-toggleable__control:checked~label.sk-toggleable__label {background-color: #d4ebff;}#sk-container-id-5 div.sk-label input.sk-toggleable__control:checked~label.sk-toggleable__label {background-color: #d4ebff;}#sk-container-id-5 input.sk-hidden--visually {border: 0;clip: rect(1px 1px 1px 1px);clip: rect(1px, 1px, 1px, 1px);height: 1px;margin: -1px;overflow: hidden;padding: 0;position: absolute;width: 1px;}#sk-container-id-5 div.sk-estimator {font-family: monospace;background-color: #f0f8ff;border: 1px dotted black;border-radius: 0.25em;box-sizing: border-box;margin-bottom: 0.5em;}#sk-container-id-5 div.sk-estimator:hover {background-color: #d4ebff;}#sk-container-id-5 div.sk-parallel-item::after {content: \"\";width: 100%;border-bottom: 1px solid gray;flex-grow: 1;}#sk-container-id-5 div.sk-label:hover label.sk-toggleable__label {background-color: #d4ebff;}#sk-container-id-5 div.sk-serial::before {content: \"\";position: absolute;border-left: 1px solid gray;box-sizing: border-box;top: 0;bottom: 0;left: 50%;z-index: 0;}#sk-container-id-5 div.sk-serial {display: flex;flex-direction: column;align-items: center;background-color: white;padding-right: 0.2em;padding-left: 0.2em;position: relative;}#sk-container-id-5 div.sk-item {position: relative;z-index: 1;}#sk-container-id-5 div.sk-parallel {display: flex;align-items: stretch;justify-content: center;background-color: white;position: relative;}#sk-container-id-5 div.sk-item::before, #sk-container-id-5 div.sk-parallel-item::before {content: \"\";position: absolute;border-left: 1px solid gray;box-sizing: border-box;top: 0;bottom: 0;left: 50%;z-index: -1;}#sk-container-id-5 div.sk-parallel-item {display: flex;flex-direction: column;z-index: 1;position: relative;background-color: white;}#sk-container-id-5 div.sk-parallel-item:first-child::after {align-self: flex-end;width: 50%;}#sk-container-id-5 div.sk-parallel-item:last-child::after {align-self: flex-start;width: 50%;}#sk-container-id-5 div.sk-parallel-item:only-child::after {width: 0;}#sk-container-id-5 div.sk-dashed-wrapped {border: 1px dashed gray;margin: 0 0.4em 0.5em 0.4em;box-sizing: border-box;padding-bottom: 0.4em;background-color: white;}#sk-container-id-5 div.sk-label label {font-family: monospace;font-weight: bold;display: inline-block;line-height: 1.2em;}#sk-container-id-5 div.sk-label-container {text-align: center;}#sk-container-id-5 div.sk-container {/* jupyter's `normalize.less` sets `[hidden] { display: none; }` but bootstrap.min.css set `[hidden] { display: none !important; }` so we also need the `!important` here to be able to override the default hidden behavior on the sphinx rendered scikit-learn.org. See: https://github.com/scikit-learn/scikit-learn/issues/21755 */display: inline-block !important;position: relative;}#sk-container-id-5 div.sk-text-repr-fallback {display: none;}</style><div id=\"sk-container-id-5\" class=\"sk-top-container\"><div class=\"sk-text-repr-fallback\"><pre>ExtraTreesClassifier(max_depth=5)</pre><b>In a Jupyter environment, please rerun this cell to show the HTML representation or trust the notebook. <br />On GitHub, the HTML representation is unable to render, please try loading this page with nbviewer.org.</b></div><div class=\"sk-container\" hidden><div class=\"sk-item\"><div class=\"sk-estimator sk-toggleable\"><input class=\"sk-toggleable__control sk-hidden--visually\" id=\"sk-estimator-id-5\" type=\"checkbox\" checked><label for=\"sk-estimator-id-5\" class=\"sk-toggleable__label sk-toggleable__label-arrow\">ExtraTreesClassifier</label><div class=\"sk-toggleable__content\"><pre>ExtraTreesClassifier(max_depth=5)</pre></div></div></div></div></div>"
      ],
      "text/plain": [
       "ExtraTreesClassifier(max_depth=5)"
      ]
     },
     "execution_count": 260,
     "metadata": {},
     "output_type": "execute_result"
    }
   ],
   "source": [
    "model = ExtraTreesClassifier(max_depth=5)\n",
    "model.fit(X,y)"
   ]
  },
  {
   "cell_type": "code",
   "execution_count": 261,
   "id": "a4a537ef",
   "metadata": {
    "ExecuteTime": {
     "end_time": "2023-02-01T15:43:41.175112Z",
     "start_time": "2023-02-01T15:43:40.879601Z"
    }
   },
   "outputs": [
    {
     "data": {
      "image/png": "[encoded data removed]",
      "text/plain": [
       "<Figure size 640x480 with 1 Axes>"
      ]
     },
     "metadata": {},
     "output_type": "display_data"
    }
   ],
   "source": [
    "feat_importances = pd.Series(model.feature_importances_, index=X.columns)\n",
    "feat_importances.nlargest(10).plot(kind='barh')\n",
    "plt.show()"
   ]
  },
  {
   "cell_type": "markdown",
   "id": "54311df2",
   "metadata": {},
   "source": [
    "# Eleventh iteration : first feature engineering"
   ]
  },
  {
   "cell_type": "code",
   "execution_count": 262,
   "id": "039afa92",
   "metadata": {
    "ExecuteTime": {
     "end_time": "2023-02-01T15:43:41.193942Z",
     "start_time": "2023-02-01T15:43:41.180672Z"
    }
   },
   "outputs": [],
   "source": [
    "eleventh_it = pd.read_pickle(\"data/eleventh_iteration.pkl\")"
   ]
  },
  {
   "cell_type": "code",
   "execution_count": 263,
   "id": "4b024158",
   "metadata": {
    "ExecuteTime": {
     "end_time": "2023-02-01T15:43:41.208269Z",
     "start_time": "2023-02-01T15:43:41.199209Z"
    }
   },
   "outputs": [],
   "source": [
    "# define X, y\n",
    "y = eleventh_it[\"median_house_value\"]\n",
    "X = eleventh_it.drop([\"median_house_value\"], axis=1)"
   ]
  },
  {
   "cell_type": "code",
   "execution_count": 264,
   "id": "5417f6dc",
   "metadata": {
    "ExecuteTime": {
     "end_time": "2023-02-01T15:43:41.435062Z",
     "start_time": "2023-02-01T15:43:41.217490Z"
    }
   },
   "outputs": [
    {
     "data": {
      "text/plain": [
       "0.6464624700137156"
      ]
     },
     "execution_count": 264,
     "metadata": {},
     "output_type": "execute_result"
    }
   ],
   "source": [
    "cv_results = cross_validate(log_model, X, y, cv=5,scoring=('r2', 'neg_root_mean_squared_error','neg_mean_absolute_error'))\n",
    "cv_results[\"test_r2\"].mean()"
   ]
  },
  {
   "cell_type": "code",
   "execution_count": 265,
   "id": "007ed238",
   "metadata": {
    "ExecuteTime": {
     "end_time": "2023-02-01T15:43:41.464643Z",
     "start_time": "2023-02-01T15:43:41.453434Z"
    }
   },
   "outputs": [
    {
     "data": {
      "text/plain": [
       "-68492.01029533715"
      ]
     },
     "execution_count": 265,
     "metadata": {},
     "output_type": "execute_result"
    }
   ],
   "source": [
    "cv_results[\"test_neg_root_mean_squared_error\"].mean()"
   ]
  },
  {
   "cell_type": "markdown",
   "id": "387e911e",
   "metadata": {},
   "source": [
    "# Twelfth iteration : second feature engineering"
   ]
  },
  {
   "cell_type": "code",
   "execution_count": 266,
   "id": "5c9d9cc2",
   "metadata": {
    "ExecuteTime": {
     "end_time": "2023-02-01T15:43:41.499921Z",
     "start_time": "2023-02-01T15:43:41.478616Z"
    }
   },
   "outputs": [],
   "source": [
    "twelfth_it = pd.read_pickle(\"data/twelfth_iteration.pkl\")"
   ]
  },
  {
   "cell_type": "code",
   "execution_count": 267,
   "id": "922e2068",
   "metadata": {
    "ExecuteTime": {
     "end_time": "2023-02-01T15:43:41.528567Z",
     "start_time": "2023-02-01T15:43:41.503644Z"
    }
   },
   "outputs": [],
   "source": [
    "# define X, y\n",
    "y = twelfth_it[\"median_house_value\"]\n",
    "X = twelfth_it.drop([\"median_house_value\"], axis=1)"
   ]
  },
  {
   "cell_type": "code",
   "execution_count": 268,
   "id": "0ac334c5",
   "metadata": {
    "ExecuteTime": {
     "end_time": "2023-02-01T15:43:42.050306Z",
     "start_time": "2023-02-01T15:43:41.533122Z"
    }
   },
   "outputs": [
    {
     "data": {
      "text/plain": [
       "0.6464514607195984"
      ]
     },
     "execution_count": 268,
     "metadata": {},
     "output_type": "execute_result"
    }
   ],
   "source": [
    "cv_results = cross_validate(log_model, X, y, cv=5,scoring=('r2', 'neg_root_mean_squared_error','neg_mean_absolute_error'))\n",
    "cv_results[\"test_r2\"].mean()"
   ]
  },
  {
   "cell_type": "code",
   "execution_count": 269,
   "id": "e3862e88",
   "metadata": {
    "ExecuteTime": {
     "end_time": "2023-02-01T15:43:42.109127Z",
     "start_time": "2023-02-01T15:43:42.080063Z"
    }
   },
   "outputs": [
    {
     "data": {
      "text/plain": [
       "-68493.07021365289"
      ]
     },
     "execution_count": 269,
     "metadata": {},
     "output_type": "execute_result"
    }
   ],
   "source": [
    "cv_results[\"test_neg_root_mean_squared_error\"].mean()"
   ]
  },
  {
   "cell_type": "markdown",
   "id": "15afed9a",
   "metadata": {},
   "source": [
    "# Thirteenth iteration : third feature engineering"
   ]
  },
  {
   "cell_type": "code",
   "execution_count": 270,
   "id": "9c6b510a",
   "metadata": {
    "ExecuteTime": {
     "end_time": "2023-02-01T15:43:42.131348Z",
     "start_time": "2023-02-01T15:43:42.113106Z"
    }
   },
   "outputs": [],
   "source": [
    "thirteen_it = pd.read_pickle(\"data/thirteenth_iteration.pkl\")"
   ]
  },
  {
   "cell_type": "code",
   "execution_count": 271,
   "id": "8050a584",
   "metadata": {
    "ExecuteTime": {
     "end_time": "2023-02-01T15:43:42.148398Z",
     "start_time": "2023-02-01T15:43:42.136738Z"
    }
   },
   "outputs": [],
   "source": [
    "# define X, y\n",
    "y = thirteen_it[\"median_house_value\"]\n",
    "X = thirteen_it.drop([\"median_house_value\"], axis=1)"
   ]
  },
  {
   "cell_type": "code",
   "execution_count": 272,
   "id": "0814050a",
   "metadata": {
    "ExecuteTime": {
     "end_time": "2023-02-01T15:43:42.724318Z",
     "start_time": "2023-02-01T15:43:42.156040Z"
    }
   },
   "outputs": [
    {
     "data": {
      "text/plain": [
       "0.6464514607195974"
      ]
     },
     "execution_count": 272,
     "metadata": {},
     "output_type": "execute_result"
    }
   ],
   "source": [
    "cv_results = cross_validate(log_model, X, y, cv=5,scoring=('r2', 'neg_root_mean_squared_error','neg_mean_absolute_error'))\n",
    "cv_results[\"test_r2\"].mean()"
   ]
  },
  {
   "cell_type": "code",
   "execution_count": 273,
   "id": "570cbeb0",
   "metadata": {
    "ExecuteTime": {
     "end_time": "2023-02-01T15:43:42.777153Z",
     "start_time": "2023-02-01T15:43:42.752529Z"
    }
   },
   "outputs": [
    {
     "data": {
      "text/plain": [
       "-68493.070213653"
      ]
     },
     "execution_count": 273,
     "metadata": {},
     "output_type": "execute_result"
    }
   ],
   "source": [
    "cv_results[\"test_neg_root_mean_squared_error\"].mean()"
   ]
  },
  {
   "cell_type": "markdown",
   "id": "eaed35bd",
   "metadata": {},
   "source": [
    "# Model evaluation : Linear regression"
   ]
  },
  {
   "cell_type": "code",

   "execution_count": 274,
   "id": "880643cb",
   "metadata": {
    "ExecuteTime": {
     "end_time": "2023-02-01T15:43:43.501346Z",
     "start_time": "2023-02-01T15:43:42.791116Z"
    }
   },
   "outputs": [],
   "source": [
    "train_sizes, train_scores, test_scores = learning_curve(\n",
    "    estimator = log_model,\n",
    "    X=X,y=y, \n",
    "    cv = 5, \n",
    "    scoring = \"neg_root_mean_squared_error\",\n",
    "    train_sizes = [1,75,165,270,331])"
   ]
  },
  {
   "cell_type": "code",
   "execution_count": 275,
   "id": "4bb56136",
   "metadata": {
    "ExecuteTime": {
     "end_time": "2023-02-01T15:43:43.512456Z",
     "start_time": "2023-02-01T15:43:43.506321Z"
    }
   },
   "outputs": [],
   "source": [
    "train_mean = -train_scores.mean(axis=1)\n",
    "test_mean = -test_scores.mean(axis=1)"
   ]
  },
  {
   "cell_type": "code",
   "execution_count": 276,
   "id": "e12b24c9",
   "metadata": {
    "ExecuteTime": {
     "end_time": "2023-02-01T15:43:43.889332Z",
     "start_time": "2023-02-01T15:43:43.524081Z"
    }
   },
   "outputs": [
    {
     "data": {
      "image/png": "[encoded data removed]",
      "text/plain": [
       "<Figure size 1000x800 with 1 Axes>"
      ]
     },
     "metadata": {},
     "output_type": "display_data"
    }
   ],
   "source": [
    "plt.subplots(figsize=(10,8))\n",
    "plt.plot(train_sizes,train_mean,label=\"train\")\n",
    "plt.plot(train_sizes,test_mean,label=\"validation\")\n",
    "plt.title(\"Learning Curve\")\n",
    "plt.xlabel(\"Training Set Size\")\n",
    "plt.ylabel(\"RMSE\")\n",
    "plt.legend(loc=\"best\")\n",
    "plt.show()"
   ]
  },
  {
   "cell_type": "markdown",

   "id": "50051380",
   "metadata": {},
   "source": [
    "# Fourteenth iteration : Balancing"
   ]
  },
  {
   "cell_type": "code",
   "execution_count": 277,
   "id": "2be8f740",
   "metadata": {
    "ExecuteTime": {
     "end_time": "2023-02-01T15:43:43.904038Z",
     "start_time": "2023-02-01T15:43:43.895468Z"
    }
   },
   "outputs": [],
   "source": [
    "X_other = pd.read_pickle(\"data/X_other.pkl\")"
   ]
  },
  {
   "cell_type": "code",
   "execution_count": 278,
   "id": "adeb5410",
   "metadata": {
    "ExecuteTime": {
     "end_time": "2023-02-01T15:43:43.950822Z",
     "start_time": "2023-02-01T15:43:43.910407Z"
    }
   },
   "outputs": [
    {
     "data": {
      "text/html": [
       "<div>\n",
       "<style scoped>\n",
       "    .dataframe tbody tr th:only-of-type {\n",
       "        vertical-align: middle;\n",
       "    }\n",
       "\n",
       "    .dataframe tbody tr th {\n",
       "        vertical-align: top;\n",
       "    }\n",
       "\n",
       "    .dataframe thead th {\n",
       "        text-align: right;\n",
       "    }\n",
       "</style>\n",
       "<table border=\"1\" class=\"dataframe\">\n",
       "  <thead>\n",
       "    <tr style=\"text-align: right;\">\n",
       "      <th></th>\n",
       "      <th>Unnamed: 0</th>\n",
       "      <th>longitude</th>\n",
       "      <th>latitude</th>\n",
       "      <th>housing_median_age</th>\n",
       "      <th>total_rooms</th>\n",
       "      <th>total_bedrooms</th>\n",
       "      <th>population</th>\n",
       "      <th>households</th>\n",
       "      <th>median_income</th>\n",
       "      <th>ocean_proximity_&lt;1H OCEAN</th>\n",
       "      <th>ocean_proximity_INLAND</th>\n",
       "      <th>ocean_proximity_ISLAND</th>\n",
       "      <th>ocean_proximity_NEAR BAY</th>\n",
       "      <th>ocean_proximity_NEAR OCEAN</th>\n",
       "    </tr>\n",
       "  </thead>\n",
       "  <tbody>\n",
       "    <tr>\n",
       "      <th>0</th>\n",
       "      <td>2521</td>\n",
       "      <td>-122.74</td>\n",
       "      <td>39.71</td>\n",
       "      <td>16.0</td>\n",
       "      <td>255.0</td>\n",
       "      <td>73.0</td>\n",
       "      <td>85.0</td>\n",
       "      <td>38.0</td>\n",
       "      <td>1.6607</td>\n",
       "      <td>0.0</td>\n",
       "      <td>1.0</td>\n",
       "      <td>0.0</td>\n",
       "      <td>0.0</td>\n",
       "      <td>0.0</td>\n",
       "    </tr>\n",
       "    <tr>\n",
       "      <th>1</th>\n",
       "      <td>2799</td>\n",
       "      <td>-117.02</td>\n",
       "      <td>36.40</td>\n",
       "      <td>19.0</td>\n",
       "      <td>619.0</td>\n",
       "      <td>239.0</td>\n",
       "      <td>490.0</td>\n",
       "      <td>164.0</td>\n",
       "      <td>2.1000</td>\n",
       "      <td>0.0</td>\n",
       "      <td>1.0</td>\n",
       "      <td>0.0</td>\n",
       "      <td>0.0</td>\n",
       "      <td>0.0</td>\n",
       "    </tr>\n",
       "    <tr>\n",
       "      <th>2</th>\n",
       "      <td>19802</td>\n",
       "      <td>-123.17</td>\n",
       "      <td>40.31</td>\n",
       "      <td>36.0</td>\n",
       "      <td>98.0</td>\n",
       "      <td>28.0</td>\n",
       "      <td>18.0</td>\n",
       "      <td>8.0</td>\n",
       "      <td>0.5360</td>\n",
       "      <td>0.0</td>\n",
       "      <td>1.0</td>\n",
       "      <td>0.0</td>\n",
       "      <td>0.0</td>\n",
       "      <td>0.0</td>\n",
       "    </tr>\n",
       "    <tr>\n",
       "      <th>3</th>\n",
       "      <td>16186</td>\n",
       "      <td>-121.29</td>\n",
       "      <td>37.95</td>\n",
       "      <td>52.0</td>\n",
       "      <td>107.0</td>\n",
       "      <td>79.0</td>\n",
       "      <td>167.0</td>\n",
       "      <td>53.0</td>\n",
       "      <td>0.7917</td>\n",
       "      <td>0.0</td>\n",
       "      <td>1.0</td>\n",
       "      <td>0.0</td>\n",
       "      <td>0.0</td>\n",
       "      <td>0.0</td>\n",
       "    </tr>\n",
       "    <tr>\n",
       "      <th>4</th>\n",
       "      <td>14326</td>\n",
       "      <td>-117.16</td>\n",
       "      <td>32.71</td>\n",
       "      <td>52.0</td>\n",
       "      <td>845.0</td>\n",
       "      <td>451.0</td>\n",
       "      <td>1230.0</td>\n",
       "      <td>375.0</td>\n",
       "      <td>1.0918</td>\n",
       "      <td>0.0</td>\n",
       "      <td>0.0</td>\n",
       "      <td>0.0</td>\n",
       "      <td>0.0</td>\n",
       "      <td>1.0</td>\n",
       "    </tr>\n",
       "    <tr>\n",
       "      <th>...</th>\n",
       "      <td>...</td>\n",
       "      <td>...</td>\n",
       "      <td>...</td>\n",
       "      <td>...</td>\n",
       "      <td>...</td>\n",
       "      <td>...</td>\n",
       "      <td>...</td>\n",
       "      <td>...</td>\n",
       "      <td>...</td>\n",
       "      <td>...</td>\n",
       "      <td>...</td>\n",
       "      <td>...</td>\n",
       "      <td>...</td>\n",
       "      <td>...</td>\n",
       "    </tr>\n",
       "    <tr>\n",
       "      <th>15745</th>\n",
       "      <td>9810</td>\n",
       "      <td>-121.94</td>\n",
       "      <td>36.58</td>\n",
       "      <td>23.0</td>\n",
       "      <td>4911.0</td>\n",
       "      <td>693.0</td>\n",
       "      <td>1480.0</td>\n",
       "      <td>606.0</td>\n",
       "      <td>6.7770</td>\n",
       "      <td>0.0</td>\n",
       "      <td>0.0</td>\n",
       "      <td>0.0</td>\n",
       "      <td>0.0</td>\n",
       "      <td>1.0</td>\n",
       "    </tr>\n",
       "    <tr>\n",
       "      <th>15746</th>\n",
       "      <td>4823</td>\n",
       "      <td>-118.31</td>\n",
       "      <td>34.05</td>\n",
       "      <td>26.0</td>\n",
       "      <td>1809.0</td>\n",
       "      <td>640.0</td>\n",
       "      <td>2543.0</td>\n",
       "      <td>640.0</td>\n",
       "      <td>2.3536</td>\n",
       "      <td>1.0</td>\n",
       "      <td>0.0</td>\n",
       "      <td>0.0</td>\n",
       "      <td>0.0</td>\n",
       "      <td>0.0</td>\n",
       "    </tr>\n",
       "    <tr>\n",
       "      <th>15747</th>\n",
       "      <td>6776</td>\n",
       "      <td>-118.15</td>\n",
       "      <td>34.12</td>\n",
       "      <td>49.0</td>\n",
       "      <td>1789.0</td>\n",
       "      <td>288.0</td>\n",
       "      <td>848.0</td>\n",
       "      <td>311.0</td>\n",
       "      <td>6.0199</td>\n",
       "      <td>1.0</td>\n",
       "      <td>0.0</td>\n",
       "      <td>0.0</td>\n",
       "      <td>0.0</td>\n",
       "      <td>0.0</td>\n",
       "    </tr>\n",
       "    <tr>\n",
       "      <th>15748</th>\n",
       "      <td>15712</td>\n",
       "      <td>-122.44</td>\n",
       "      <td>37.79</td>\n",
       "      <td>52.0</td>\n",
       "      <td>1726.0</td>\n",
       "      <td>384.0</td>\n",
       "      <td>614.0</td>\n",
       "      <td>356.0</td>\n",
       "      <td>3.6812</td>\n",
       "      <td>0.0</td>\n",
       "      <td>0.0</td>\n",
       "      <td>0.0</td>\n",
       "      <td>1.0</td>\n",
       "      <td>0.0</td>\n",
       "    </tr>\n",
       "    <tr>\n",
       "      <th>15749</th>\n",
       "      <td>10735</td>\n",
       "      <td>-117.89</td>\n",
       "      <td>33.60</td>\n",
       "      <td>36.0</td>\n",
       "      <td>1496.0</td>\n",
       "      <td>247.0</td>\n",
       "      <td>441.0</td>\n",
       "      <td>203.0</td>\n",
       "      <td>7.8164</td>\n",
       "      <td>1.0</td>\n",
       "      <td>0.0</td>\n",
       "      <td>0.0</td>\n",
       "      <td>0.0</td>\n",
       "      <td>0.0</td>\n",
       "    </tr>\n",
       "  </tbody>\n",
       "</table>\n",
       "<p>15750 rows × 14 columns</p>\n",
       "</div>"
      ],
      "text/plain": [
       "       Unnamed: 0  longitude  latitude  housing_median_age  total_rooms  \\\n",
       "0            2521    -122.74     39.71                16.0        255.0   \n",
       "1            2799    -117.02     36.40                19.0        619.0   \n",
       "2           19802    -123.17     40.31                36.0         98.0   \n",
       "3           16186    -121.29     37.95                52.0        107.0   \n",
       "4           14326    -117.16     32.71                52.0        845.0   \n",
       "...           ...        ...       ...                 ...          ...   \n",
       "15745        9810    -121.94     36.58                23.0       4911.0   \n",
       "15746        4823    -118.31     34.05                26.0       1809.0   \n",
       "15747        6776    -118.15     34.12                49.0       1789.0   \n",
       "15748       15712    -122.44     37.79                52.0       1726.0   \n",
       "15749       10735    -117.89     33.60                36.0       1496.0   \n",
       "\n",
       "       total_bedrooms  population  households  median_income  \\\n",
       "0                73.0        85.0        38.0         1.6607   \n",
       "1               239.0       490.0       164.0         2.1000   \n",
       "2                28.0        18.0         8.0         0.5360   \n",
       "3                79.0       167.0        53.0         0.7917   \n",
       "4               451.0      1230.0       375.0         1.0918   \n",
       "...               ...         ...         ...            ...   \n",
       "15745           693.0      1480.0       606.0         6.7770   \n",
       "15746           640.0      2543.0       640.0         2.3536   \n",
       "15747           288.0       848.0       311.0         6.0199   \n",
       "15748           384.0       614.0       356.0         3.6812   \n",
       "15749           247.0       441.0       203.0         7.8164   \n",
       "\n",
       "       ocean_proximity_<1H OCEAN  ocean_proximity_INLAND  \\\n",
       "0                            0.0                     1.0   \n",
       "1                            0.0                     1.0   \n",
       "2                            0.0                     1.0   \n",
       "3                            0.0                     1.0   \n",
       "4                            0.0                     0.0   \n",
       "...                          ...                     ...   \n",
       "15745                        0.0                     0.0   \n",
       "15746                        1.0                     0.0   \n",
       "15747                        1.0                     0.0   \n",
       "15748                        0.0                     0.0   \n",
       "15749                        1.0                     0.0   \n",
       "\n",
       "       ocean_proximity_ISLAND  ocean_proximity_NEAR BAY  \\\n",
       "0                         0.0                       0.0   \n",
       "1                         0.0                       0.0   \n",
       "2                         0.0                       0.0   \n",
       "3                         0.0                       0.0   \n",
       "4                         0.0                       0.0   \n",
       "...                       ...                       ...   \n",
       "15745                     0.0                       0.0   \n",
       "15746                     0.0                       0.0   \n",
       "15747                     0.0                       0.0   \n",
       "15748                     0.0                       1.0   \n",
       "15749                     0.0                       0.0   \n",
       "\n",
       "       ocean_proximity_NEAR OCEAN  \n",
       "0                             0.0  \n",
       "1                             0.0  \n",
       "2                             0.0  \n",
       "3                             0.0  \n",
       "4                             1.0  \n",
       "...                           ...  \n",
       "15745                         1.0  \n",
       "15746                         0.0  \n",
       "15747                         0.0  \n",
       "15748                         0.0  \n",
       "15749                         0.0  \n",
       "\n",
       "[15750 rows x 14 columns]"
      ]
     },
     "execution_count": 278,
     "metadata": {},
     "output_type": "execute_result"
    }
   ],
   "source": [
    "X_other"
   ]
  },
  {
   "cell_type": "code",
   "execution_count": 279,
   "id": "ec3a81df",
   "metadata": {
    "ExecuteTime": {
     "end_time": "2023-02-01T15:43:43.965360Z",
     "start_time": "2023-02-01T15:43:43.957548Z"
    }
   },
   "outputs": [],
   "source": [
    "y_other = pd.read_pickle(\"data/y_other.pkl\")"
   ]
  },
  {
   "cell_type": "code",
   "execution_count": 280,
   "id": "98e5b7df",
   "metadata": {
    "ExecuteTime": {
     "end_time": "2023-02-01T15:43:44.260436Z",
     "start_time": "2023-02-01T15:43:43.970868Z"
    }
   },
   "outputs": [
    {
     "data": {
      "text/plain": [
       "-10.134786087955959"
      ]
     },
     "execution_count": 280,
     "metadata": {},
     "output_type": "execute_result"
    }
   ],
   "source": [
    "cv_results = cross_validate(log_model, X_other, y_other, cv=5,scoring=('r2', 'neg_root_mean_squared_error','neg_mean_absolute_error'))\n",
    "cv_results[\"test_r2\"].mean()"
   ]
  },
  {
   "cell_type": "markdown",
   "id": "a5139d90",
   "metadata": {},
   "source": [
    "# Fifteenth iteration : KNN regressor"
   ]
  },
  {
   "cell_type": "code",
   "execution_count": 281,
   "id": "4016a96a",
   "metadata": {
    "ExecuteTime": {
     "end_time": "2023-02-01T15:43:45.234715Z",
     "start_time": "2023-02-01T15:43:44.282987Z"
    }
   },
   "outputs": [
    {
     "data": {
      "text/plain": [
       "0.4470292840736566"
      ]
     },
     "execution_count": 281,
     "metadata": {},
     "output_type": "execute_result"
    }
   ],
   "source": [
    "neigh = KNeighborsRegressor(n_neighbors=9)\n",
    "cv_results = cross_validate(neigh, X, y, cv=5,scoring=('r2', 'neg_root_mean_squared_error','neg_mean_absolute_error'))\n",
    "cv_results[\"test_r2\"].mean()"
   ]
  },
  {
   "cell_type": "code",
   "execution_count": 282,
   "id": "ae8c56b2",
   "metadata": {
    "ExecuteTime": {
     "end_time": "2023-02-01T15:43:45.250430Z",
     "start_time": "2023-02-01T15:43:45.240448Z"
    }
   },
   "outputs": [
    {
     "data": {
      "text/plain": [
       "-85658.9004584295"
      ]
     },
     "execution_count": 282,
     "metadata": {},
     "output_type": "execute_result"
    }
   ],
   "source": [
    "cv_results[\"test_neg_root_mean_squared_error\"].mean()"
   ]
  },
  {
   "cell_type": "code",
   "execution_count": 283,
   "id": "a40bce00",
   "metadata": {
    "ExecuteTime": {
     "end_time": "2023-02-01T15:43:46.009412Z",
     "start_time": "2023-02-01T15:43:45.257213Z"
    }
   },
   "outputs": [
    {
     "name": "stderr",
     "output_type": "stream",
     "text": [
      "/home/nais/.pyenv/versions/3.8.12/envs/simplon/lib/python3.8/site-packages/sklearn/model_selection/_validation.py:776: UserWarning: Scoring failed. The score on this train-test partition for these parameters will be set to nan. Details: \n",
      "Traceback (most recent call last):\n",
      "  File \"/home/nais/.pyenv/versions/3.8.12/envs/simplon/lib/python3.8/site-packages/sklearn/model_selection/_validation.py\", line 767, in _score\n",
      "    scores = scorer(estimator, X_test, y_test)\n",
      "  File \"/home/nais/.pyenv/versions/3.8.12/envs/simplon/lib/python3.8/site-packages/sklearn/metrics/_scorer.py\", line 219, in __call__\n",
      "    return self._score(\n",
      "  File \"/home/nais/.pyenv/versions/3.8.12/envs/simplon/lib/python3.8/site-packages/sklearn/metrics/_scorer.py\", line 261, in _score\n",
      "    y_pred = method_caller(estimator, \"predict\", X)\n",
      "  File \"/home/nais/.pyenv/versions/3.8.12/envs/simplon/lib/python3.8/site-packages/sklearn/metrics/_scorer.py\", line 71, in _cached_call\n",
      "    return getattr(estimator, method)(*args, **kwargs)\n",
      "  File \"/home/nais/.pyenv/versions/3.8.12/envs/simplon/lib/python3.8/site-packages/sklearn/neighbors/_regression.py\", line 229, in predict\n",
      "    neigh_ind = self.kneighbors(X, return_distance=False)\n",
      "  File \"/home/nais/.pyenv/versions/3.8.12/envs/simplon/lib/python3.8/site-packages/sklearn/neighbors/_base.py\", line 749, in kneighbors\n",
      "    raise ValueError(\n",
      "ValueError: Expected n_neighbors <= n_samples,  but n_samples = 1, n_neighbors = 9\n",
      "\n",
      "  warnings.warn(\n",
      "/home/nais/.pyenv/versions/3.8.12/envs/simplon/lib/python3.8/site-packages/sklearn/model_selection/_validation.py:776: UserWarning: Scoring failed. The score on this train-test partition for these parameters will be set to nan. Details: \n",
      "Traceback (most recent call last):\n",
      "  File \"/home/nais/.pyenv/versions/3.8.12/envs/simplon/lib/python3.8/site-packages/sklearn/model_selection/_validation.py\", line 767, in _score\n",
      "    scores = scorer(estimator, X_test, y_test)\n",
      "  File \"/home/nais/.pyenv/versions/3.8.12/envs/simplon/lib/python3.8/site-packages/sklearn/metrics/_scorer.py\", line 219, in __call__\n",
      "    return self._score(\n",
      "  File \"/home/nais/.pyenv/versions/3.8.12/envs/simplon/lib/python3.8/site-packages/sklearn/metrics/_scorer.py\", line 261, in _score\n",
      "    y_pred = method_caller(estimator, \"predict\", X)\n",
      "  File \"/home/nais/.pyenv/versions/3.8.12/envs/simplon/lib/python3.8/site-packages/sklearn/metrics/_scorer.py\", line 71, in _cached_call\n",
      "    return getattr(estimator, method)(*args, **kwargs)\n",
      "  File \"/home/nais/.pyenv/versions/3.8.12/envs/simplon/lib/python3.8/site-packages/sklearn/neighbors/_regression.py\", line 229, in predict\n",
      "    neigh_ind = self.kneighbors(X, return_distance=False)\n",
      "  File \"/home/nais/.pyenv/versions/3.8.12/envs/simplon/lib/python3.8/site-packages/sklearn/neighbors/_base.py\", line 749, in kneighbors\n",
      "    raise ValueError(\n",
      "ValueError: Expected n_neighbors <= n_samples,  but n_samples = 1, n_neighbors = 9\n",
      "\n",
      "  warnings.warn(\n",
      "/home/nais/.pyenv/versions/3.8.12/envs/simplon/lib/python3.8/site-packages/sklearn/model_selection/_validation.py:776: UserWarning: Scoring failed. The score on this train-test partition for these parameters will be set to nan. Details: \n",
      "Traceback (most recent call last):\n",
      "  File \"/home/nais/.pyenv/versions/3.8.12/envs/simplon/lib/python3.8/site-packages/sklearn/model_selection/_validation.py\", line 767, in _score\n",
      "    scores = scorer(estimator, X_test, y_test)\n",
      "  File \"/home/nais/.pyenv/versions/3.8.12/envs/simplon/lib/python3.8/site-packages/sklearn/metrics/_scorer.py\", line 219, in __call__\n",
      "    return self._score(\n",
      "  File \"/home/nais/.pyenv/versions/3.8.12/envs/simplon/lib/python3.8/site-packages/sklearn/metrics/_scorer.py\", line 261, in _score\n",
      "    y_pred = method_caller(estimator, \"predict\", X)\n",
      "  File \"/home/nais/.pyenv/versions/3.8.12/envs/simplon/lib/python3.8/site-packages/sklearn/metrics/_scorer.py\", line 71, in _cached_call\n",
      "    return getattr(estimator, method)(*args, **kwargs)\n",
      "  File \"/home/nais/.pyenv/versions/3.8.12/envs/simplon/lib/python3.8/site-packages/sklearn/neighbors/_regression.py\", line 229, in predict\n",
      "    neigh_ind = self.kneighbors(X, return_distance=False)\n",
      "  File \"/home/nais/.pyenv/versions/3.8.12/envs/simplon/lib/python3.8/site-packages/sklearn/neighbors/_base.py\", line 749, in kneighbors\n",
      "    raise ValueError(\n",
      "ValueError: Expected n_neighbors <= n_samples,  but n_samples = 1, n_neighbors = 9\n",
      "\n",
      "  warnings.warn(\n",
      "/home/nais/.pyenv/versions/3.8.12/envs/simplon/lib/python3.8/site-packages/sklearn/model_selection/_validation.py:776: UserWarning: Scoring failed. The score on this train-test partition for these parameters will be set to nan. Details: \n",
      "Traceback (most recent call last):\n",
      "  File \"/home/nais/.pyenv/versions/3.8.12/envs/simplon/lib/python3.8/site-packages/sklearn/model_selection/_validation.py\", line 767, in _score\n",
      "    scores = scorer(estimator, X_test, y_test)\n",
      "  File \"/home/nais/.pyenv/versions/3.8.12/envs/simplon/lib/python3.8/site-packages/sklearn/metrics/_scorer.py\", line 219, in __call__\n",
      "    return self._score(\n",
      "  File \"/home/nais/.pyenv/versions/3.8.12/envs/simplon/lib/python3.8/site-packages/sklearn/metrics/_scorer.py\", line 261, in _score\n",
      "    y_pred = method_caller(estimator, \"predict\", X)\n",
      "  File \"/home/nais/.pyenv/versions/3.8.12/envs/simplon/lib/python3.8/site-packages/sklearn/metrics/_scorer.py\", line 71, in _cached_call\n",
      "    return getattr(estimator, method)(*args, **kwargs)\n",
      "  File \"/home/nais/.pyenv/versions/3.8.12/envs/simplon/lib/python3.8/site-packages/sklearn/neighbors/_regression.py\", line 229, in predict\n",
      "    neigh_ind = self.kneighbors(X, return_distance=False)\n",
      "  File \"/home/nais/.pyenv/versions/3.8.12/envs/simplon/lib/python3.8/site-packages/sklearn/neighbors/_base.py\", line 749, in kneighbors\n",
      "    raise ValueError(\n",
      "ValueError: Expected n_neighbors <= n_samples,  but n_samples = 1, n_neighbors = 9\n",
      "\n",
      "  warnings.warn(\n",
      "/home/nais/.pyenv/versions/3.8.12/envs/simplon/lib/python3.8/site-packages/sklearn/model_selection/_validation.py:776: UserWarning: Scoring failed. The score on this train-test partition for these parameters will be set to nan. Details: \n",
      "Traceback (most recent call last):\n",
      "  File \"/home/nais/.pyenv/versions/3.8.12/envs/simplon/lib/python3.8/site-packages/sklearn/model_selection/_validation.py\", line 767, in _score\n",
      "    scores = scorer(estimator, X_test, y_test)\n",
      "  File \"/home/nais/.pyenv/versions/3.8.12/envs/simplon/lib/python3.8/site-packages/sklearn/metrics/_scorer.py\", line 219, in __call__\n",
      "    return self._score(\n",
      "  File \"/home/nais/.pyenv/versions/3.8.12/envs/simplon/lib/python3.8/site-packages/sklearn/metrics/_scorer.py\", line 261, in _score\n",
      "    y_pred = method_caller(estimator, \"predict\", X)\n",
      "  File \"/home/nais/.pyenv/versions/3.8.12/envs/simplon/lib/python3.8/site-packages/sklearn/metrics/_scorer.py\", line 71, in _cached_call\n",
      "    return getattr(estimator, method)(*args, **kwargs)\n",
      "  File \"/home/nais/.pyenv/versions/3.8.12/envs/simplon/lib/python3.8/site-packages/sklearn/neighbors/_regression.py\", line 229, in predict\n",
      "    neigh_ind = self.kneighbors(X, return_distance=False)\n",
      "  File \"/home/nais/.pyenv/versions/3.8.12/envs/simplon/lib/python3.8/site-packages/sklearn/neighbors/_base.py\", line 749, in kneighbors\n",
      "    raise ValueError(\n",
      "ValueError: Expected n_neighbors <= n_samples,  but n_samples = 1, n_neighbors = 9\n",
      "\n",
      "  warnings.warn(\n",
      "/home/nais/.pyenv/versions/3.8.12/envs/simplon/lib/python3.8/site-packages/sklearn/model_selection/_validation.py:776: UserWarning: Scoring failed. The score on this train-test partition for these parameters will be set to nan. Details: \n",
      "Traceback (most recent call last):\n",
      "  File \"/home/nais/.pyenv/versions/3.8.12/envs/simplon/lib/python3.8/site-packages/sklearn/model_selection/_validation.py\", line 767, in _score\n",
      "    scores = scorer(estimator, X_test, y_test)\n",
      "  File \"/home/nais/.pyenv/versions/3.8.12/envs/simplon/lib/python3.8/site-packages/sklearn/metrics/_scorer.py\", line 219, in __call__\n",
      "    return self._score(\n",
      "  File \"/home/nais/.pyenv/versions/3.8.12/envs/simplon/lib/python3.8/site-packages/sklearn/metrics/_scorer.py\", line 261, in _score\n",
      "    y_pred = method_caller(estimator, \"predict\", X)\n",
      "  File \"/home/nais/.pyenv/versions/3.8.12/envs/simplon/lib/python3.8/site-packages/sklearn/metrics/_scorer.py\", line 71, in _cached_call\n",
      "    return getattr(estimator, method)(*args, **kwargs)\n",
      "  File \"/home/nais/.pyenv/versions/3.8.12/envs/simplon/lib/python3.8/site-packages/sklearn/neighbors/_regression.py\", line 229, in predict\n",
      "    neigh_ind = self.kneighbors(X, return_distance=False)\n",
      "  File \"/home/nais/.pyenv/versions/3.8.12/envs/simplon/lib/python3.8/site-packages/sklearn/neighbors/_base.py\", line 749, in kneighbors\n",
      "    raise ValueError(\n",
      "ValueError: Expected n_neighbors <= n_samples,  but n_samples = 1, n_neighbors = 9\n",
      "\n",
      "  warnings.warn(\n"
     ]
    },
    {
     "name": "stderr",
     "output_type": "stream",
     "text": [
      "/home/nais/.pyenv/versions/3.8.12/envs/simplon/lib/python3.8/site-packages/sklearn/model_selection/_validation.py:776: UserWarning: Scoring failed. The score on this train-test partition for these parameters will be set to nan. Details: \n",
      "Traceback (most recent call last):\n",
      "  File \"/home/nais/.pyenv/versions/3.8.12/envs/simplon/lib/python3.8/site-packages/sklearn/model_selection/_validation.py\", line 767, in _score\n",
      "    scores = scorer(estimator, X_test, y_test)\n",
      "  File \"/home/nais/.pyenv/versions/3.8.12/envs/simplon/lib/python3.8/site-packages/sklearn/metrics/_scorer.py\", line 219, in __call__\n",
      "    return self._score(\n",
      "  File \"/home/nais/.pyenv/versions/3.8.12/envs/simplon/lib/python3.8/site-packages/sklearn/metrics/_scorer.py\", line 261, in _score\n",
      "    y_pred = method_caller(estimator, \"predict\", X)\n",
      "  File \"/home/nais/.pyenv/versions/3.8.12/envs/simplon/lib/python3.8/site-packages/sklearn/metrics/_scorer.py\", line 71, in _cached_call\n",
      "    return getattr(estimator, method)(*args, **kwargs)\n",
      "  File \"/home/nais/.pyenv/versions/3.8.12/envs/simplon/lib/python3.8/site-packages/sklearn/neighbors/_regression.py\", line 229, in predict\n",
      "    neigh_ind = self.kneighbors(X, return_distance=False)\n",
      "  File \"/home/nais/.pyenv/versions/3.8.12/envs/simplon/lib/python3.8/site-packages/sklearn/neighbors/_base.py\", line 749, in kneighbors\n",
      "    raise ValueError(\n",
      "ValueError: Expected n_neighbors <= n_samples,  but n_samples = 1, n_neighbors = 9\n",
      "\n",
      "  warnings.warn(\n",
      "/home/nais/.pyenv/versions/3.8.12/envs/simplon/lib/python3.8/site-packages/sklearn/model_selection/_validation.py:776: UserWarning: Scoring failed. The score on this train-test partition for these parameters will be set to nan. Details: \n",
      "Traceback (most recent call last):\n",
      "  File \"/home/nais/.pyenv/versions/3.8.12/envs/simplon/lib/python3.8/site-packages/sklearn/model_selection/_validation.py\", line 767, in _score\n",
      "    scores = scorer(estimator, X_test, y_test)\n",
      "  File \"/home/nais/.pyenv/versions/3.8.12/envs/simplon/lib/python3.8/site-packages/sklearn/metrics/_scorer.py\", line 219, in __call__\n",
      "    return self._score(\n",
      "  File \"/home/nais/.pyenv/versions/3.8.12/envs/simplon/lib/python3.8/site-packages/sklearn/metrics/_scorer.py\", line 261, in _score\n",
      "    y_pred = method_caller(estimator, \"predict\", X)\n",
      "  File \"/home/nais/.pyenv/versions/3.8.12/envs/simplon/lib/python3.8/site-packages/sklearn/metrics/_scorer.py\", line 71, in _cached_call\n",
      "    return getattr(estimator, method)(*args, **kwargs)\n",
      "  File \"/home/nais/.pyenv/versions/3.8.12/envs/simplon/lib/python3.8/site-packages/sklearn/neighbors/_regression.py\", line 229, in predict\n",
      "    neigh_ind = self.kneighbors(X, return_distance=False)\n",
      "  File \"/home/nais/.pyenv/versions/3.8.12/envs/simplon/lib/python3.8/site-packages/sklearn/neighbors/_base.py\", line 749, in kneighbors\n",
      "    raise ValueError(\n",
      "ValueError: Expected n_neighbors <= n_samples,  but n_samples = 1, n_neighbors = 9\n",
      "\n",
      "  warnings.warn(\n",
      "/home/nais/.pyenv/versions/3.8.12/envs/simplon/lib/python3.8/site-packages/sklearn/model_selection/_validation.py:776: UserWarning: Scoring failed. The score on this train-test partition for these parameters will be set to nan. Details: \n",
      "Traceback (most recent call last):\n",
      "  File \"/home/nais/.pyenv/versions/3.8.12/envs/simplon/lib/python3.8/site-packages/sklearn/model_selection/_validation.py\", line 767, in _score\n",
      "    scores = scorer(estimator, X_test, y_test)\n",
      "  File \"/home/nais/.pyenv/versions/3.8.12/envs/simplon/lib/python3.8/site-packages/sklearn/metrics/_scorer.py\", line 219, in __call__\n",
      "    return self._score(\n",
      "  File \"/home/nais/.pyenv/versions/3.8.12/envs/simplon/lib/python3.8/site-packages/sklearn/metrics/_scorer.py\", line 261, in _score\n",
      "    y_pred = method_caller(estimator, \"predict\", X)\n",
      "  File \"/home/nais/.pyenv/versions/3.8.12/envs/simplon/lib/python3.8/site-packages/sklearn/metrics/_scorer.py\", line 71, in _cached_call\n",
      "    return getattr(estimator, method)(*args, **kwargs)\n",
      "  File \"/home/nais/.pyenv/versions/3.8.12/envs/simplon/lib/python3.8/site-packages/sklearn/neighbors/_regression.py\", line 229, in predict\n",
      "    neigh_ind = self.kneighbors(X, return_distance=False)\n",
      "  File \"/home/nais/.pyenv/versions/3.8.12/envs/simplon/lib/python3.8/site-packages/sklearn/neighbors/_base.py\", line 749, in kneighbors\n",
      "    raise ValueError(\n",
      "ValueError: Expected n_neighbors <= n_samples,  but n_samples = 1, n_neighbors = 9\n",
      "\n",
      "  warnings.warn(\n",
      "/home/nais/.pyenv/versions/3.8.12/envs/simplon/lib/python3.8/site-packages/sklearn/model_selection/_validation.py:776: UserWarning: Scoring failed. The score on this train-test partition for these parameters will be set to nan. Details: \n",
      "Traceback (most recent call last):\n",
      "  File \"/home/nais/.pyenv/versions/3.8.12/envs/simplon/lib/python3.8/site-packages/sklearn/model_selection/_validation.py\", line 767, in _score\n",
      "    scores = scorer(estimator, X_test, y_test)\n",
      "  File \"/home/nais/.pyenv/versions/3.8.12/envs/simplon/lib/python3.8/site-packages/sklearn/metrics/_scorer.py\", line 219, in __call__\n",
      "    return self._score(\n",
      "  File \"/home/nais/.pyenv/versions/3.8.12/envs/simplon/lib/python3.8/site-packages/sklearn/metrics/_scorer.py\", line 261, in _score\n",
      "    y_pred = method_caller(estimator, \"predict\", X)\n",
      "  File \"/home/nais/.pyenv/versions/3.8.12/envs/simplon/lib/python3.8/site-packages/sklearn/metrics/_scorer.py\", line 71, in _cached_call\n",
      "    return getattr(estimator, method)(*args, **kwargs)\n",
      "  File \"/home/nais/.pyenv/versions/3.8.12/envs/simplon/lib/python3.8/site-packages/sklearn/neighbors/_regression.py\", line 229, in predict\n",
      "    neigh_ind = self.kneighbors(X, return_distance=False)\n",
      "  File \"/home/nais/.pyenv/versions/3.8.12/envs/simplon/lib/python3.8/site-packages/sklearn/neighbors/_base.py\", line 749, in kneighbors\n",
      "    raise ValueError(\n",
      "ValueError: Expected n_neighbors <= n_samples,  but n_samples = 1, n_neighbors = 9\n",
      "\n",
      "  warnings.warn(\n"
     ]
    }
   ],
   "source": [
    "train_sizes, train_scores, test_scores = learning_curve(\n",
    "    estimator = neigh,\n",
    "    X=X,y=y, \n",
    "    cv = 5, \n",
    "    scoring = \"neg_root_mean_squared_error\",\n",
    "    train_sizes = [1,75,165,270,331])"
   ]
  },
  {
   "cell_type": "code",

   "execution_count": 284,
   "id": "6f9bf227",
   "metadata": {
    "ExecuteTime": {
     "end_time": "2023-02-01T15:43:46.020443Z",
     "start_time": "2023-02-01T15:43:46.013606Z"
    }
   },
   "outputs": [],
   "source": [
    "train_mean = -train_scores.mean(axis=1)\n",
    "test_mean = -test_scores.mean(axis=1)"
   ]
  },
  {
   "cell_type": "code",
   "execution_count": 285,
   "id": "ddb25ec4",
   "metadata": {
    "ExecuteTime": {
     "end_time": "2023-02-01T15:43:46.317609Z",
     "start_time": "2023-02-01T15:43:46.025488Z"
    }
   },
   "outputs": [
    {
     "data": {
      "image/png": "[encoded data removed]",
      "text/plain": [
       "<Figure size 1000x800 with 1 Axes>"
      ]
     },
     "metadata": {},
     "output_type": "display_data"
    }
   ],
   "source": [
    "plt.subplots(figsize=(10,8))\n",
    "plt.plot(train_sizes,train_mean,label=\"train\")\n",
    "plt.plot(train_sizes,test_mean,label=\"validation\")\n",
    "plt.title(\"Learning Curve\")\n",
    "plt.xlabel(\"Training Set Size\")\n",
    "plt.ylabel(\"RMSE\")\n",
    "plt.legend(loc=\"best\")\n",
    "plt.show()"
   ]
  },
  {
   "cell_type": "markdown",
   "id": "91ae2cc1",
   "metadata": {},
   "source": []
  }
 ],
 "metadata": {
  "kernelspec": {
   "display_name": "Python 3 (ipykernel)",
   "language": "python",
   "name": "python3"
  },
  "language_info": {
   "codemirror_mode": {
    "name": "ipython",
    "version": 3
   },
   "file_extension": ".py",
   "mimetype": "text/x-python",
   "name": "python",
   "nbconvert_exporter": "python",
   "pygments_lexer": "ipython3",
   "version": "3.8.12"
  },
  "toc": {
   "base_numbering": 1,
   "nav_menu": {},
   "number_sections": true,
   "sideBar": true,
   "skip_h1_title": false,
   "title_cell": "Table of Contents",
   "title_sidebar": "Contents",
   "toc_cell": false,
   "toc_position": {
    "height": "calc(100% - 180px)",
    "left": "10px",
    "top": "150px",
    "width": "153.6px"
   },
   "toc_section_display": true,
   "toc_window_display": true
  },
  "varInspector": {
   "cols": {
    "lenName": 16,
    "lenType": 16,
    "lenVar": 40
   },
   "kernels_config": {
    "python": {
     "delete_cmd_postfix": "",
     "delete_cmd_prefix": "del ",
     "library": "var_list.py",
     "varRefreshCmd": "print(var_dic_list())"
    },
    "r": {
     "delete_cmd_postfix": ") ",
     "delete_cmd_prefix": "rm(",
     "library": "var_list.r",
     "varRefreshCmd": "cat(var_dic_list()) "
    }
   },
   "types_to_exclude": [
    "module",
    "function",
    "builtin_function_or_method",
    "instance",
    "_Feature"
   ],
   "window_display": false
  }
 },
 "nbformat": 4,
 "nbformat_minor": 5
}
