{
 "cells": [
  {
   "cell_type": "code",
   "execution_count": 1,
   "id": "afaf118b",
   "metadata": {
    "ExecuteTime": {
     "end_time": "2023-01-30T15:42:04.829076Z",
     "start_time": "2023-01-30T15:41:58.174282Z"
    }
   },
   "outputs": [],
   "source": [
    "import pandas as pd\n",
    "import numpy as np\n",
    "import seaborn as sns\n",
    "import matplotlib.pyplot as plt\n",
    "import pickle\n",
    "from sklearn.linear_model import LinearRegression\n",
    "from statsmodels.formula.api import ols\n",
    "import statsmodels.api as sm\n",
    "from sklearn.preprocessing import StandardScaler\n",
    "from sklearn.preprocessing import MinMaxScaler\n",
    "from sklearn.model_selection import train_test_split\n",
    "from sklearn.model_selection import cross_validate\n",
    "from sklearn.model_selection import cross_val_score\n",
    "from sklearn.model_selection import cross_val_predict\n",
    "import plotly.express as px\n",
    "from scipy import stats\n",
    "from scipy.stats import chi2_contingency\n",
    "from sklearn.compose import ColumnTransformer\n",
    "from statsmodels.formula.api import ols\n",
    "import statsmodels.api as sm"
   ]
  },
  {
   "cell_type": "markdown",
   "id": "a95f4986",
   "metadata": {},
   "source": [
    "# First iteration : Baseline"
   ]
  },
  {
   "cell_type": "code",
   "execution_count": 2,
   "id": "993d8739",
   "metadata": {
    "ExecuteTime": {
     "end_time": "2023-01-30T15:42:04.914905Z",
     "start_time": "2023-01-30T15:42:04.836489Z"
    }
   },
   "outputs": [
    {
     "name": "stdout",
     "output_type": "stream",
     "text": [
      "<class 'pandas.core.frame.DataFrame'>\n",
      "RangeIndex: 16512 entries, 0 to 16511\n",
      "Data columns (total 11 columns):\n",
      " #   Column              Non-Null Count  Dtype  \n",
      "---  ------              --------------  -----  \n",
      " 0   Unnamed: 0          16512 non-null  int64  \n",
      " 1   longitude           16512 non-null  float64\n",
      " 2   latitude            16512 non-null  float64\n",
      " 3   housing_median_age  16512 non-null  float64\n",
      " 4   total_rooms         16512 non-null  float64\n",
      " 5   total_bedrooms      16512 non-null  float64\n",
      " 6   population          16512 non-null  float64\n",
      " 7   households          16512 non-null  float64\n",
      " 8   median_income       16512 non-null  float64\n",
      " 9   median_house_value  16512 non-null  float64\n",
      " 10  ocean_proximity     16512 non-null  object \n",
      "dtypes: float64(9), int64(1), object(1)\n",
      "memory usage: 1.4+ MB\n"
     ]
    }
   ],
   "source": [
    "first_it = pd.read_pickle(\"data/first_iteration.pkl\")\n",
    "first_it.info()"
   ]
  },
  {
   "cell_type": "code",
   "execution_count": 3,
   "id": "8b4b7431",
   "metadata": {
    "ExecuteTime": {
     "end_time": "2023-01-30T15:42:04.931056Z",
     "start_time": "2023-01-30T15:42:04.920638Z"
    }
   },
   "outputs": [],
   "source": [
    "# define X, y\n",
    "y = first_it[\"median_house_value\"]\n",
    "X = first_it.drop([\"median_house_value\",\"ocean_proximity\"], axis=1)"
   ]
  },
  {
   "cell_type": "code",
   "execution_count": 4,
   "id": "56966fb3",
   "metadata": {
    "ExecuteTime": {
     "end_time": "2023-01-30T15:42:04.973947Z",
     "start_time": "2023-01-30T15:42:04.948018Z"
    }
   },
   "outputs": [],
   "source": [
    "X_train, X_test, y_train, y_test = train_test_split(X, y, \n",
    "                                                    test_size=.3, \n",
    "                                                    random_state=1)"
   ]
  },
  {
   "cell_type": "code",
   "execution_count": 5,
   "id": "24e0dfdb",
   "metadata": {
    "ExecuteTime": {
     "end_time": "2023-01-30T15:42:05.152175Z",
     "start_time": "2023-01-30T15:42:04.987271Z"
    }
   },
   "outputs": [
    {
     "data": {
      "text/plain": [
       "0.6311871393336708"
      ]
     },
     "execution_count": 5,
     "metadata": {},
     "output_type": "execute_result"
    }
   ],
   "source": [
    "log_model = LinearRegression()\n",
    "\n",
    "log_model.fit(X_train, y_train)\n",
    "\n",
    "# Evaluate the model with the test set\n",
    "log_model.score(X_test, y_test)"
   ]
  },
  {
   "cell_type": "code",
   "execution_count": 6,
   "id": "965984a5",
   "metadata": {
    "ExecuteTime": {
     "end_time": "2023-01-30T15:42:05.569011Z",
     "start_time": "2023-01-30T15:42:05.159407Z"
    }
   },
   "outputs": [
    {
     "data": {
      "text/plain": [
       "0.6348249131619211"
      ]
     },
     "execution_count": 6,
     "metadata": {},
     "output_type": "execute_result"
    }
   ],
   "source": [
    "cv_results = cross_validate(log_model, X, y, cv=5)\n",
    "cv_results[\"test_score\"].mean()"
   ]
  },
  {
   "cell_type": "markdown",
   "id": "0e1257c1",
   "metadata": {},
   "source": [
    "# Second iteration : Outliers"
   ]
  },
  {
   "cell_type": "code",
   "execution_count": 7,
   "id": "712d3283",
   "metadata": {
    "ExecuteTime": {
     "end_time": "2023-01-30T15:42:05.672127Z",
     "start_time": "2023-01-30T15:42:05.584206Z"
    }
   },
   "outputs": [
    {
     "name": "stdout",
     "output_type": "stream",
     "text": [
      "<class 'pandas.core.frame.DataFrame'>\n",
      "Int64Index: 15262 entries, 0 to 16511\n",
      "Data columns (total 11 columns):\n",
      " #   Column              Non-Null Count  Dtype  \n",
      "---  ------              --------------  -----  \n",
      " 0   Unnamed: 0          15262 non-null  int64  \n",
      " 1   longitude           15262 non-null  float64\n",
      " 2   latitude            15262 non-null  float64\n",
      " 3   housing_median_age  15262 non-null  float64\n",
      " 4   total_rooms         15262 non-null  float64\n",
      " 5   total_bedrooms      15262 non-null  float64\n",
      " 6   population          15262 non-null  float64\n",
      " 7   households          15262 non-null  float64\n",
      " 8   median_income       15262 non-null  float64\n",
      " 9   median_house_value  15262 non-null  float64\n",
      " 10  ocean_proximity     15262 non-null  object \n",
      "dtypes: float64(9), int64(1), object(1)\n",
      "memory usage: 1.4+ MB\n"
     ]
    }
   ],
   "source": [
    "second_it = pd.read_pickle(\"data/second_iteration.pkl\")\n",
    "second_it.info()"
   ]
  },
  {
   "cell_type": "code",
   "execution_count": 8,
   "id": "aa275ed0",
   "metadata": {
    "ExecuteTime": {
     "end_time": "2023-01-30T15:42:05.692259Z",
     "start_time": "2023-01-30T15:42:05.680624Z"
    }
   },
   "outputs": [],
   "source": [
    "# define X, y\n",
    "y = second_it[\"median_house_value\"]\n",
    "X = second_it.drop([\"ocean_proximity\",\"median_house_value\"], axis=1)"
   ]
  },
  {
   "cell_type": "code",
   "execution_count": 9,
   "id": "2c829f98",
   "metadata": {
    "ExecuteTime": {
     "end_time": "2023-01-30T15:42:05.805464Z",
     "start_time": "2023-01-30T15:42:05.710139Z"
    }
   },
   "outputs": [],
   "source": [
    "X_train, X_test, y_train, y_test = train_test_split(X, y, \n",
    "                                                    test_size=.3, \n",
    "                                                    random_state=1)"
   ]
  },
  {
   "cell_type": "code",
   "execution_count": 10,
   "id": "95f44bc1",
   "metadata": {
    "ExecuteTime": {
     "end_time": "2023-01-30T15:42:05.873177Z",
     "start_time": "2023-01-30T15:42:05.823245Z"
    }
   },
   "outputs": [
    {
     "data": {
      "text/plain": [
       "0.6076476528019652"
      ]
     },
     "execution_count": 10,
     "metadata": {},
     "output_type": "execute_result"
    }
   ],
   "source": [
    "log_model.fit(X_train, y_train)\n",
    "\n",
    "# Evaluate the model with the test set\n",
    "log_model.score(X_test, y_test)"
   ]
  },
  {
   "cell_type": "code",
   "execution_count": 11,
   "id": "af624295",
   "metadata": {
    "ExecuteTime": {
     "end_time": "2023-01-30T15:42:06.160518Z",
     "start_time": "2023-01-30T15:42:05.878127Z"
    }
   },
   "outputs": [
    {
     "data": {
      "text/plain": [
       "0.6334931888672133"
      ]
     },
     "execution_count": 11,
     "metadata": {},
     "output_type": "execute_result"
    }
   ],
   "source": [
    "cv_results = cross_validate(log_model, X, y, cv=5)\n",
    "cv_results[\"test_score\"].mean()"
   ]
  },
  {
   "cell_type": "markdown",
   "id": "a152037b",
   "metadata": {},
   "source": [
    "# Third iteration : Median imputation"
   ]
  },
  {
   "cell_type": "code",
   "execution_count": 12,
   "id": "c139a5e8",
   "metadata": {
    "ExecuteTime": {
     "end_time": "2023-01-30T15:42:06.274298Z",
     "start_time": "2023-01-30T15:42:06.173985Z"
    }
   },
   "outputs": [
    {
     "name": "stdout",
     "output_type": "stream",
     "text": [
      "<class 'pandas.core.frame.DataFrame'>\n",
      "RangeIndex: 16512 entries, 0 to 16511\n",
      "Data columns (total 11 columns):\n",
      " #   Column              Non-Null Count  Dtype  \n",
      "---  ------              --------------  -----  \n",
      " 0   Unnamed: 0          16512 non-null  int64  \n",
      " 1   longitude           16512 non-null  float64\n",
      " 2   latitude            16512 non-null  float64\n",
      " 3   housing_median_age  16512 non-null  float64\n",
      " 4   total_rooms         16512 non-null  float64\n",
      " 5   total_bedrooms      16512 non-null  float64\n",
      " 6   population          16512 non-null  float64\n",
      " 7   households          16512 non-null  float64\n",
      " 8   median_income       16512 non-null  float64\n",
      " 9   median_house_value  16512 non-null  float64\n",
      " 10  ocean_proximity     16512 non-null  object \n",
      "dtypes: float64(9), int64(1), object(1)\n",
      "memory usage: 1.4+ MB\n"
     ]
    }
   ],
   "source": [
    "third_it = pd.read_pickle(\"data/third_iteration.pkl\")\n",
    "third_it.info()"
   ]
  },
  {
   "cell_type": "code",
   "execution_count": 13,
   "id": "79053c73",
   "metadata": {
    "ExecuteTime": {
     "end_time": "2023-01-30T15:42:06.297598Z",
     "start_time": "2023-01-30T15:42:06.282395Z"
    }
   },
   "outputs": [],
   "source": [
    "# define X, y\n",
    "y = third_it[\"median_house_value\"]\n",
    "X = third_it.drop([\"median_house_value\",\"ocean_proximity\"], axis=1)"
   ]
  },
  {
   "cell_type": "code",
   "execution_count": 14,
   "id": "987b0065",
   "metadata": {
    "ExecuteTime": {
     "end_time": "2023-01-30T15:42:06.347469Z",
     "start_time": "2023-01-30T15:42:06.304639Z"
    }
   },
   "outputs": [],
   "source": [
    "X_train, X_test, y_train, y_test = train_test_split(X, y, \n",
    "                                                    test_size=.3, \n",
    "                                                    random_state=1)"
   ]
  },
  {
   "cell_type": "code",
   "execution_count": 15,
   "id": "b7ff900b",
   "metadata": {
    "ExecuteTime": {
     "end_time": "2023-01-30T15:42:06.404765Z",
     "start_time": "2023-01-30T15:42:06.354965Z"
    }
   },
   "outputs": [
    {
     "data": {
      "text/plain": [
       "0.6322340999259999"
      ]
     },
     "execution_count": 15,
     "metadata": {},
     "output_type": "execute_result"
    }
   ],
   "source": [
    "log_model.fit(X_train, y_train)\n",
    "\n",
    "# Evaluate the model with the test set\n",
    "log_model.score(X_test, y_test)"
   ]
  },
  {
   "cell_type": "code",
   "execution_count": 16,
   "id": "f8b07aec",
   "metadata": {
    "ExecuteTime": {
     "end_time": "2023-01-30T15:42:06.707529Z",
     "start_time": "2023-01-30T15:42:06.420182Z"
    }
   },
   "outputs": [
    {
     "data": {
      "text/plain": [
       "0.6358408199481806"
      ]
     },
     "execution_count": 16,
     "metadata": {},
     "output_type": "execute_result"
    }
   ],
   "source": [
    "cv_results = cross_validate(log_model, X, y, cv=5)\n",
    "cv_results[\"test_score\"].mean()"
   ]
  },
  {
   "cell_type": "markdown",
   "id": "22941f54",
   "metadata": {},
   "source": [
    "# Fourth iteration : Mean imputation"
   ]
  },
  {
   "cell_type": "code",
   "execution_count": 17,
   "id": "921ec1d9",
   "metadata": {
    "ExecuteTime": {
     "end_time": "2023-01-30T15:42:06.810797Z",
     "start_time": "2023-01-30T15:42:06.723921Z"
    }
   },
   "outputs": [],
   "source": [
    "fourth_it = pd.read_pickle(\"data/fourth_iteration.pkl\")"
   ]
  },
  {
   "cell_type": "code",
   "execution_count": 18,
   "id": "125ca70e",
   "metadata": {
    "ExecuteTime": {
     "end_time": "2023-01-30T15:42:06.826598Z",
     "start_time": "2023-01-30T15:42:06.817976Z"
    }
   },
   "outputs": [],
   "source": [
    "# define X, y\n",
    "y = fourth_it[\"median_house_value\"]\n",
    "X = fourth_it.drop([\"median_house_value\",\"ocean_proximity\"], axis=1)"
   ]
  },
  {
   "cell_type": "code",
   "execution_count": 19,
   "id": "41e483cc",
   "metadata": {
    "ExecuteTime": {
     "end_time": "2023-01-30T15:42:07.066728Z",
     "start_time": "2023-01-30T15:42:06.834503Z"
    }
   },
   "outputs": [
    {
     "data": {
      "text/plain": [
       "0.6358408199481806"
      ]
     },
     "execution_count": 19,
     "metadata": {},
     "output_type": "execute_result"
    }
   ],
   "source": [
    "cv_results = cross_validate(log_model, X, y, cv=5)\n",
    "cv_results[\"test_score\"].mean()"
   ]
  },
  {
   "cell_type": "markdown",
   "id": "627efd71",
   "metadata": {},
   "source": [
    "# Fifth iteration : iterative imputation"
   ]
  },
  {
   "cell_type": "code",
   "execution_count": 20,
   "id": "6fa2dec7",
   "metadata": {
    "ExecuteTime": {
     "end_time": "2023-01-30T15:42:07.170285Z",
     "start_time": "2023-01-30T15:42:07.102480Z"
    }
   },
   "outputs": [],
   "source": [
    "fifth_it = pd.read_pickle(\"data/fifth_iteration.pkl\")"
   ]
  },
  {
   "cell_type": "code",
   "execution_count": 21,
   "id": "7c76861c",
   "metadata": {
    "ExecuteTime": {
     "end_time": "2023-01-30T15:42:07.185154Z",
     "start_time": "2023-01-30T15:42:07.174070Z"
    }
   },
   "outputs": [],
   "source": [
    "# define X, y\n",
    "y = fifth_it[\"median_house_value\"]\n",
    "X = fifth_it.drop([\"median_house_value\",\"ocean_proximity\"], axis=1)"
   ]
  },
  {
   "cell_type": "code",
   "execution_count": 22,
   "id": "bd7379be",
   "metadata": {
    "ExecuteTime": {
     "end_time": "2023-01-30T15:42:07.414189Z",
     "start_time": "2023-01-30T15:42:07.191547Z"
    }
   },
   "outputs": [
    {
     "data": {
      "text/plain": [
       "0.6348249131619182"
      ]
     },
     "execution_count": 22,
     "metadata": {},
     "output_type": "execute_result"
    }
   ],
   "source": [
    "cv_results = cross_validate(log_model, X, y, cv=5)\n",
    "cv_results[\"test_score\"].mean()"
   ]
  },
  {
   "cell_type": "markdown",
   "id": "82618883",
   "metadata": {},
   "source": [
    "# Sixth iteration : ocean_proximity encoding"
   ]
  },
  {
   "cell_type": "code",
   "execution_count": 23,
   "id": "82b85c3e",
   "metadata": {
    "ExecuteTime": {
     "end_time": "2023-01-30T15:42:07.504525Z",
     "start_time": "2023-01-30T15:42:07.418814Z"
    }
   },
   "outputs": [],
   "source": [
    "sixth_it = pd.read_pickle(\"data/sixth_iteration.pkl\")"
   ]
  },
  {
   "cell_type": "code",
   "execution_count": 24,
   "id": "c694a346",
   "metadata": {
    "ExecuteTime": {
     "end_time": "2023-01-30T15:42:07.527312Z",
     "start_time": "2023-01-30T15:42:07.518537Z"
    }
   },
   "outputs": [],
   "source": [
    "# define X, y\n",
    "y = sixth_it[\"median_house_value\"]\n",
    "X = sixth_it.drop([\"median_house_value\"], axis=1)"
   ]
  },
  {
   "cell_type": "code",
   "execution_count": 25,
   "id": "c272c8a8",
   "metadata": {
    "ExecuteTime": {
     "end_time": "2023-01-30T15:42:07.853567Z",
     "start_time": "2023-01-30T15:42:07.533799Z"
    }
   },
   "outputs": [
    {
     "data": {
      "text/plain": [
       "0.6464622037671589"
      ]
     },
     "execution_count": 25,
     "metadata": {},
     "output_type": "execute_result"
    }
   ],
   "source": [
    "cv_results = cross_validate(log_model, X, y, cv=5)\n",
    "cv_results[\"test_score\"].mean()"
   ]
  },
  {
   "cell_type": "markdown",
   "id": "f8e5a7eb",
   "metadata": {},
   "source": [
    "# Seventh iteration : normalization"
   ]
  },
  {
   "cell_type": "code",
   "execution_count": 26,
   "id": "fd889272",
   "metadata": {
    "ExecuteTime": {
     "end_time": "2023-01-30T15:42:07.937522Z",
     "start_time": "2023-01-30T15:42:07.888640Z"
    }
   },
   "outputs": [],
   "source": [
    "seventh_it = pd.read_pickle(\"data/seventh_iteration.pkl\")"
   ]
  },
  {
   "cell_type": "code",
   "execution_count": 27,
   "id": "ddfd4d77",
   "metadata": {
    "ExecuteTime": {
     "end_time": "2023-01-30T15:42:07.955367Z",
     "start_time": "2023-01-30T15:42:07.946302Z"
    }
   },
   "outputs": [],
   "source": [
    "# define X, y\n",
    "y = seventh_it[\"median_house_value\"]\n",
    "X = seventh_it.drop([\"median_house_value\"], axis=1)"
   ]
  },
  {
   "cell_type": "code",
   "execution_count": 2,
   "id": "20a22198",
   "metadata": {
    "ExecuteTime": {
     "end_time": "2023-01-31T10:49:35.417978Z",
     "start_time": "2023-01-31T10:49:35.376147Z"
    }
   },
   "outputs": [
    {
     "ename": "NameError",
     "evalue": "name 'cross_validate' is not defined",
     "output_type": "error",
     "traceback": [
      "\u001b[0;31m---------------------------------------------------------------------------\u001b[0m",
      "\u001b[0;31mNameError\u001b[0m                                 Traceback (most recent call last)",
      "Cell \u001b[0;32mIn [2], line 1\u001b[0m\n\u001b[0;32m----> 1\u001b[0m cv_results \u001b[38;5;241m=\u001b[39m \u001b[43mcross_validate\u001b[49m(log_model, X, y, cv\u001b[38;5;241m=\u001b[39m\u001b[38;5;241m5\u001b[39m,scoring\u001b[38;5;241m=\u001b[39m(\u001b[38;5;124m'\u001b[39m\u001b[38;5;124mr2\u001b[39m\u001b[38;5;124m'\u001b[39m, \u001b[38;5;124m'\u001b[39m\u001b[38;5;124mneg_root_mean_squared_error\u001b[39m\u001b[38;5;124m'\u001b[39m,\u001b[38;5;124m'\u001b[39m\u001b[38;5;124mneg_mean_absolute_error\u001b[39m\u001b[38;5;124m'\u001b[39m))\n\u001b[1;32m      2\u001b[0m cv_results[\u001b[38;5;124m\"\u001b[39m\u001b[38;5;124mtest_r2\u001b[39m\u001b[38;5;124m\"\u001b[39m]\u001b[38;5;241m.\u001b[39mmean()\n",
      "\u001b[0;31mNameError\u001b[0m: name 'cross_validate' is not defined"
     ]
    }
   ],
   "source": [
    "cv_results = cross_validate(log_model, X, y, cv=5,scoring=('r2', 'neg_root_mean_squared_error','neg_mean_absolute_error'))\n",
    "cv_results[\"test_r2\"].mean()"
   ]
  },
  {
   "cell_type": "markdown",
   "id": "7198f969",
   "metadata": {},
   "source": [
    "# Eighth iteration : feature selection"
   ]
  },
  {
   "cell_type": "code",
   "execution_count": 34,
   "id": "6d8802f5",
   "metadata": {
    "ExecuteTime": {
     "end_time": "2023-01-30T15:48:14.202262Z",
     "start_time": "2023-01-30T15:48:14.194699Z"
    }
   },
   "outputs": [],
   "source": [
    "from sklearn.feature_selection import SelectFromModel"
   ]
  },
  {
   "cell_type": "code",
   "execution_count": 35,
   "id": "0be1e0fc",
   "metadata": {
    "ExecuteTime": {
     "end_time": "2023-01-30T15:48:20.398548Z",
     "start_time": "2023-01-30T15:48:20.354803Z"
    }
   },
   "outputs": [
    {
     "name": "stderr",
     "output_type": "stream",
     "text": [
      "/home/nais/.pyenv/versions/3.8.12/envs/simplon/lib/python3.8/site-packages/sklearn/base.py:443: UserWarning: X has feature names, but SelectFromModel was fitted without feature names\n",
      "  warnings.warn(\n"
     ]
    }
   ],
   "source": [
    "lsvc = log_model.fit(X, y)\n",
    "model = SelectFromModel(lsvc, prefit=True)\n",
    "X_new = model.transform(X)"
   ]
  },
  {
   "cell_type": "code",
   "execution_count": 41,
   "id": "f006f9d2",
   "metadata": {
    "ExecuteTime": {
     "end_time": "2023-01-30T15:54:26.248300Z",
     "start_time": "2023-01-30T15:54:26.205027Z"
    }
   },
   "outputs": [
    {
     "data": {
      "text/html": [
       "<div>\n",
       "<style scoped>\n",
       "    .dataframe tbody tr th:only-of-type {\n",
       "        vertical-align: middle;\n",
       "    }\n",
       "\n",
       "    .dataframe tbody tr th {\n",
       "        vertical-align: top;\n",
       "    }\n",
       "\n",
       "    .dataframe thead th {\n",
       "        text-align: right;\n",
       "    }\n",
       "</style>\n",
       "<table border=\"1\" class=\"dataframe\">\n",
       "  <thead>\n",
       "    <tr style=\"text-align: right;\">\n",
       "      <th></th>\n",
       "      <th>0</th>\n",
       "      <th>1</th>\n",
       "      <th>2</th>\n",
       "      <th>3</th>\n",
       "      <th>4</th>\n",
       "      <th>5</th>\n",
       "    </tr>\n",
       "  </thead>\n",
       "  <tbody>\n",
       "    <tr>\n",
       "      <th>0</th>\n",
       "      <td>-0.137635</td>\n",
       "      <td>0.534564</td>\n",
       "      <td>-0.032827</td>\n",
       "      <td>-1.258403</td>\n",
       "      <td>1.0</td>\n",
       "      <td>0.0</td>\n",
       "    </tr>\n",
       "    <tr>\n",
       "      <th>1</th>\n",
       "      <td>0.879836</td>\n",
       "      <td>-0.909979</td>\n",
       "      <td>-0.494784</td>\n",
       "      <td>1.610623</td>\n",
       "      <td>0.0</td>\n",
       "      <td>0.0</td>\n",
       "    </tr>\n",
       "    <tr>\n",
       "      <th>2</th>\n",
       "      <td>-0.312201</td>\n",
       "      <td>0.455091</td>\n",
       "      <td>-0.435204</td>\n",
       "      <td>-1.220425</td>\n",
       "      <td>1.0</td>\n",
       "      <td>0.0</td>\n",
       "    </tr>\n",
       "    <tr>\n",
       "      <th>3</th>\n",
       "      <td>0.620480</td>\n",
       "      <td>-0.713633</td>\n",
       "      <td>-0.723603</td>\n",
       "      <td>-1.233736</td>\n",
       "      <td>0.0</td>\n",
       "      <td>0.0</td>\n",
       "    </tr>\n",
       "    <tr>\n",
       "      <th>4</th>\n",
       "      <td>-0.830911</td>\n",
       "      <td>1.011403</td>\n",
       "      <td>-0.263373</td>\n",
       "      <td>0.114837</td>\n",
       "      <td>1.0</td>\n",
       "      <td>0.0</td>\n",
       "    </tr>\n",
       "    <tr>\n",
       "      <th>...</th>\n",
       "      <td>...</td>\n",
       "      <td>...</td>\n",
       "      <td>...</td>\n",
       "      <td>...</td>\n",
       "      <td>...</td>\n",
       "      <td>...</td>\n",
       "    </tr>\n",
       "    <tr>\n",
       "      <th>16507</th>\n",
       "      <td>-1.165080</td>\n",
       "      <td>1.852884</td>\n",
       "      <td>-0.595810</td>\n",
       "      <td>-0.423409</td>\n",
       "      <td>1.0</td>\n",
       "      <td>0.0</td>\n",
       "    </tr>\n",
       "    <tr>\n",
       "      <th>16508</th>\n",
       "      <td>-1.339646</td>\n",
       "      <td>1.161000</td>\n",
       "      <td>-0.262510</td>\n",
       "      <td>-0.660681</td>\n",
       "      <td>0.0</td>\n",
       "      <td>0.0</td>\n",
       "    </tr>\n",
       "    <tr>\n",
       "      <th>16509</th>\n",
       "      <td>-0.825923</td>\n",
       "      <td>1.539666</td>\n",
       "      <td>-0.197750</td>\n",
       "      <td>0.333675</td>\n",
       "      <td>1.0</td>\n",
       "      <td>0.0</td>\n",
       "    </tr>\n",
       "    <tr>\n",
       "      <th>16510</th>\n",
       "      <td>0.710257</td>\n",
       "      <td>-0.685584</td>\n",
       "      <td>0.959301</td>\n",
       "      <td>-0.680911</td>\n",
       "      <td>0.0</td>\n",
       "      <td>0.0</td>\n",
       "    </tr>\n",
       "    <tr>\n",
       "      <th>16511</th>\n",
       "      <td>-2.277315</td>\n",
       "      <td>2.418547</td>\n",
       "      <td>-0.151986</td>\n",
       "      <td>-0.853741</td>\n",
       "      <td>0.0</td>\n",
       "      <td>0.0</td>\n",
       "    </tr>\n",
       "  </tbody>\n",
       "</table>\n",
       "<p>16512 rows × 6 columns</p>\n",
       "</div>"
      ],
      "text/plain": [
       "              0         1         2         3    4    5\n",
       "0     -0.137635  0.534564 -0.032827 -1.258403  1.0  0.0\n",
       "1      0.879836 -0.909979 -0.494784  1.610623  0.0  0.0\n",
       "2     -0.312201  0.455091 -0.435204 -1.220425  1.0  0.0\n",
       "3      0.620480 -0.713633 -0.723603 -1.233736  0.0  0.0\n",
       "4     -0.830911  1.011403 -0.263373  0.114837  1.0  0.0\n",
       "...         ...       ...       ...       ...  ...  ...\n",
       "16507 -1.165080  1.852884 -0.595810 -0.423409  1.0  0.0\n",
       "16508 -1.339646  1.161000 -0.262510 -0.660681  0.0  0.0\n",
       "16509 -0.825923  1.539666 -0.197750  0.333675  1.0  0.0\n",
       "16510  0.710257 -0.685584  0.959301 -0.680911  0.0  0.0\n",
       "16511 -2.277315  2.418547 -0.151986 -0.853741  0.0  0.0\n",
       "\n",
       "[16512 rows x 6 columns]"
      ]
     },
     "execution_count": 41,
     "metadata": {},
     "output_type": "execute_result"
    }
   ],
   "source": [
    "PD = pd.DataFrame(X_new)\n",
    "PD"
   ]
  },
  {
   "cell_type": "code",
   "execution_count": 42,
   "id": "a4a9a424",
   "metadata": {
    "ExecuteTime": {
     "end_time": "2023-01-30T15:54:30.116335Z",
     "start_time": "2023-01-30T15:54:30.075063Z"
    }
   },
   "outputs": [
    {
     "ename": "AttributeError",
     "evalue": "'LinearRegression' object has no attribute 'get_support'",
     "output_type": "error",
     "traceback": [
      "\u001b[0;31m---------------------------------------------------------------------------\u001b[0m",
      "\u001b[0;31mAttributeError\u001b[0m                            Traceback (most recent call last)",
      "Cell \u001b[0;32mIn [42], line 2\u001b[0m\n\u001b[1;32m      1\u001b[0m \u001b[38;5;66;03m# Get columns to keep and create new dataframe with those only\u001b[39;00m\n\u001b[0;32m----> 2\u001b[0m cols \u001b[38;5;241m=\u001b[39m \u001b[43mlog_model\u001b[49m\u001b[38;5;241;43m.\u001b[39;49m\u001b[43mget_support\u001b[49m(indices\u001b[38;5;241m=\u001b[39m\u001b[38;5;28;01mTrue\u001b[39;00m)\n\u001b[1;32m      3\u001b[0m features_df_new \u001b[38;5;241m=\u001b[39m PD\u001b[38;5;241m.\u001b[39miloc[:,cols]\n",
      "\u001b[0;31mAttributeError\u001b[0m: 'LinearRegression' object has no attribute 'get_support'"
     ]
    }
   ],
   "source": [
    "# Get columns to keep and create new dataframe with those only\n",
    "cols = log_model.get_support(indices=True)\n",
    "features_df_new = PD.iloc[:,cols]"
   ]
  },
  {
   "cell_type": "code",
   "execution_count": null,
   "id": "f4380a8f",
   "metadata": {},
   "outputs": [],
   "source": [
    "# Create and fit selector\n",
    "selector = SelectKBest(f_classif, k=7)\n",
    "selector.fit(X, y)\n",
    "# Get columns to keep and create new dataframe with those only\n",
    "cols = selector.get_support(indices=True)\n",
    "features_df_new = features_df.iloc[:,cols]"
   ]
  },
  {
   "cell_type": "markdown",
   "id": "219bba2a",
   "metadata": {},
   "source": [
    "Tree selection"
   ]
  },
  {
   "cell_type": "code",
   "execution_count": 1,
   "id": "643233a6",
   "metadata": {
    "ExecuteTime": {
     "end_time": "2023-01-31T10:32:33.638818Z",
     "start_time": "2023-01-31T10:32:32.282462Z"
    }
   },
   "outputs": [
    {
     "ename": "NameError",
     "evalue": "name 'immo_df3' is not defined",
     "output_type": "error",
     "traceback": [
      "\u001b[0;31m---------------------------------------------------------------------------\u001b[0m",
      "\u001b[0;31mNameError\u001b[0m                                 Traceback (most recent call last)",
      "Cell \u001b[0;32mIn [1], line 1\u001b[0m\n\u001b[0;32m----> 1\u001b[0m data \u001b[38;5;241m=\u001b[39m \u001b[43mimmo_df3\u001b[49m\n\u001b[1;32m      2\u001b[0m X \u001b[38;5;241m=\u001b[39m data\u001b[38;5;241m.\u001b[39miloc[:,\u001b[38;5;241m0\u001b[39m:\u001b[38;5;241m10\u001b[39m]  \u001b[38;5;66;03m#independent columns\u001b[39;00m\n\u001b[1;32m      3\u001b[0m y \u001b[38;5;241m=\u001b[39m data\u001b[38;5;241m.\u001b[39miloc[:,\u001b[38;5;241m-\u001b[39m\u001b[38;5;241m1\u001b[39m]    \u001b[38;5;66;03m#target column i.e price range\u001b[39;00m\n",
      "\u001b[0;31mNameError\u001b[0m: name 'immo_df3' is not defined"
     ]
    }
   ],
   "source": [
    "data = immo_df3\n",
    "X = data.iloc[:,0:10]  #independent columns\n",
    "y = data.iloc[:,-1]    #target column i.e price range\n",
    "from sklearn.ensemble import ExtraTreesClassifier\n",
    "import matplotlib.pyplot as plt\n",
    "model = ExtraTreesClassifier()\n",
    "model.fit(X,y)\n",
    "#plot graph of feature importances for better visualization\n",
    "feat_importances = pd.Series(model.featureimportances, index=X.columns)\n",
    "feat_importances.nlargest(10).plot(kind='barh')\n",
    "plt.show()"
   ]
  },
  {
   "cell_type": "markdown",
   "id": "91ae2cc1",
   "metadata": {},
   "source": []
  }
 ],
 "metadata": {
  "kernelspec": {
   "display_name": "Python 3 (ipykernel)",
   "language": "python",
   "name": "python3"
  },
  "language_info": {
   "codemirror_mode": {
    "name": "ipython",
    "version": 3
   },
   "file_extension": ".py",
   "mimetype": "text/x-python",
   "name": "python",
   "nbconvert_exporter": "python",
   "pygments_lexer": "ipython3",
   "version": "3.8.12"
  },
  "toc": {
   "base_numbering": 1,
   "nav_menu": {},
   "number_sections": true,
   "sideBar": true,
   "skip_h1_title": false,
   "title_cell": "Table of Contents",
   "title_sidebar": "Contents",
   "toc_cell": false,
   "toc_position": {},
   "toc_section_display": true,
   "toc_window_display": false
  },
  "varInspector": {
   "cols": {
    "lenName": 16,
    "lenType": 16,
    "lenVar": 40
   },
   "kernels_config": {
    "python": {
     "delete_cmd_postfix": "",
     "delete_cmd_prefix": "del ",
     "library": "var_list.py",
     "varRefreshCmd": "print(var_dic_list())"
    },
    "r": {
     "delete_cmd_postfix": ") ",
     "delete_cmd_prefix": "rm(",
     "library": "var_list.r",
     "varRefreshCmd": "cat(var_dic_list()) "
    }
   },
   "types_to_exclude": [
    "module",
    "function",
    "builtin_function_or_method",
    "instance",
    "_Feature"
   ],
   "window_display": false
  }
 },
 "nbformat": 4,
 "nbformat_minor": 5
}
